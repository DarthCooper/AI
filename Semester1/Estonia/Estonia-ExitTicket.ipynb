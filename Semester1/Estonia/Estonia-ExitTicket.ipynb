{
 "cells": [
  {
   "cell_type": "code",
   "execution_count": 1,
   "id": "23a1febd",
   "metadata": {},
   "outputs": [],
   "source": [
    "import pandas as pd"
   ]
  },
  {
   "cell_type": "code",
   "execution_count": 6,
   "id": "051a57a9",
   "metadata": {},
   "outputs": [],
   "source": [
    "import math"
   ]
  },
  {
   "cell_type": "code",
   "execution_count": 2,
   "id": "29172861",
   "metadata": {},
   "outputs": [],
   "source": [
    "df = pd.read_csv(\"estonia.csv\")"
   ]
  },
  {
   "cell_type": "code",
   "execution_count": 21,
   "id": "c4a48533",
   "metadata": {},
   "outputs": [
    {
     "name": "stdout",
     "output_type": "stream",
     "text": [
      " Child : 5%\n",
      " Adult : 96%\n"
     ]
    }
   ],
   "source": [
    "ages = {\"Child\" : 0, \"Adult\" : 0}\n",
    "for i in df[\"Age\"]:\n",
    "    if i > 18:\n",
    "        ages[\"Adult\"] += 1\n",
    "    else:\n",
    "        ages[\"Child\"] += 1\n",
    "\n",
    "for i in ages.keys():\n",
    "    print(f\" {i} : {math.ceil((ages[i] / len(df)) * 100)}%\")"
   ]
  },
  {
   "cell_type": "code",
   "execution_count": 18,
   "id": "8c912c64",
   "metadata": {},
   "outputs": [
    {
     "name": "stdout",
     "output_type": "stream",
     "text": [
      " Males - dead : 79% | Total : 40%\n",
      " Males - lived : 22% | Total : 12%\n",
      " Females - dead : 95% | Total : 47%\n",
      " Females - lived : 6% | Total : 3%\n"
     ]
    }
   ],
   "source": [
    "males = {\"dead\" : 0, \"lived\" : 0}\n",
    "totalMales = 0\n",
    "females = {\"dead\" : 0, \"lived\" : 0}\n",
    "totalFemales = 0\n",
    "\n",
    "for i in range(len(df)):\n",
    "    if df.loc[i][\"Survived\"] == 0 and df.loc[i][\"Sex\"] == \"M\":\n",
    "        males[\"dead\"] += 1\n",
    "        totalMales += 1\n",
    "    elif df.loc[i][\"Survived\"] == 1 and df.loc[i][\"Sex\"] == \"M\":\n",
    "        males[\"lived\"] += 1\n",
    "        totalMales += 1\n",
    "    elif df.loc[i][\"Survived\"] == 0 and df.loc[i][\"Sex\"] == \"F\":\n",
    "        females[\"dead\"] += 1\n",
    "        totalFemales += 1\n",
    "    elif df.loc[i][\"Survived\"] == 1 and df.loc[i][\"Sex\"] == \"F\":\n",
    "        females[\"lived\"] += 1\n",
    "        totalFemales += 1\n",
    "\n",
    "for i in males.keys():\n",
    "    print(f\" Males - {i} : {math.ceil((males[i] / totalMales) * 100)}% | Total : {math.ceil((males[i] / (totalMales + totalFemales)) * 100)}%\")\n",
    "    \n",
    "for i in females.keys():\n",
    "    print(f\" Females - {i} : {math.ceil((females[i] / totalFemales) * 100)}% | Total : {math.ceil((females[i] / (totalMales + totalFemales)) * 100)}%\")"
   ]
  },
  {
   "cell_type": "code",
   "execution_count": null,
   "id": "414b5304",
   "metadata": {},
   "outputs": [],
   "source": []
  }
 ],
 "metadata": {
  "kernelspec": {
   "display_name": "Python 3 (ipykernel)",
   "language": "python",
   "name": "python3"
  },
  "language_info": {
   "codemirror_mode": {
    "name": "ipython",
    "version": 3
   },
   "file_extension": ".py",
   "mimetype": "text/x-python",
   "name": "python",
   "nbconvert_exporter": "python",
   "pygments_lexer": "ipython3",
   "version": "3.9.13"
  }
 },
 "nbformat": 4,
 "nbformat_minor": 5
}
