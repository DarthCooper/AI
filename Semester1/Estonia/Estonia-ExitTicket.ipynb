{
 "cells": [
  {
   "cell_type": "code",
   "execution_count": 2,
   "id": "23a1febd",
   "metadata": {},
   "outputs": [],
   "source": [
    "import pandas as pd"
   ]
  },
  {
   "cell_type": "code",
   "execution_count": 3,
   "id": "051a57a9",
   "metadata": {},
   "outputs": [],
   "source": [
    "import math"
   ]
  },
  {
   "cell_type": "code",
   "execution_count": 4,
   "id": "90a2337c",
   "metadata": {},
   "outputs": [],
   "source": [
    "import seaborn as sns"
   ]
  },
  {
   "cell_type": "code",
   "execution_count": 5,
   "id": "10afd2c5",
   "metadata": {},
   "outputs": [],
   "source": [
    "import matplotlib.pyplot as plt"
   ]
  },
  {
   "cell_type": "code",
   "execution_count": 6,
   "id": "29172861",
   "metadata": {},
   "outputs": [],
   "source": [
    "df = pd.read_csv(\"estonia.csv\")"
   ]
  },
  {
   "cell_type": "code",
   "execution_count": 21,
   "id": "c4a48533",
   "metadata": {},
   "outputs": [
    {
     "name": "stdout",
     "output_type": "stream",
     "text": [
      " Child : 5%\n",
      " Adult : 96%\n"
     ]
    }
   ],
   "source": [
    "ages = {\"Child\" : 0, \"Adult\" : 0}\n",
    "for i in df[\"Age\"]:\n",
    "    if i > 18:\n",
    "        ages[\"Adult\"] += 1\n",
    "    else:\n",
    "        ages[\"Child\"] += 1\n",
    "\n",
    "for i in ages.keys():\n",
    "    print(f\" {i} : {math.ceil((ages[i] / len(df)) * 100)}%\")"
   ]
  },
  {
   "cell_type": "code",
   "execution_count": 8,
   "id": "8c912c64",
   "metadata": {},
   "outputs": [
    {
     "ename": "ValueError",
     "evalue": "If using all scalar values, you must pass an index",
     "output_type": "error",
     "traceback": [
      "\u001b[1;31m---------------------------------------------------------------------------\u001b[0m",
      "\u001b[1;31mValueError\u001b[0m                                Traceback (most recent call last)",
      "\u001b[1;32m~\\AppData\\Local\\Temp\\ipykernel_18532\\1406863028.py\u001b[0m in \u001b[0;36m<module>\u001b[1;34m\u001b[0m\n\u001b[0;32m     24\u001b[0m }\n\u001b[0;32m     25\u001b[0m \u001b[1;33m\u001b[0m\u001b[0m\n\u001b[1;32m---> 26\u001b[1;33m \u001b[0msurvivorDF\u001b[0m \u001b[1;33m=\u001b[0m \u001b[0mpd\u001b[0m\u001b[1;33m.\u001b[0m\u001b[0mDataFrame\u001b[0m\u001b[1;33m(\u001b[0m\u001b[0msurvivorData\u001b[0m\u001b[1;33m)\u001b[0m\u001b[1;33m\u001b[0m\u001b[1;33m\u001b[0m\u001b[0m\n\u001b[0m\u001b[0;32m     27\u001b[0m \u001b[0msurvivorDF\u001b[0m\u001b[1;33m\u001b[0m\u001b[1;33m\u001b[0m\u001b[0m\n",
      "\u001b[1;32mC:\\ProgramData\\Anaconda3\\lib\\site-packages\\pandas\\core\\frame.py\u001b[0m in \u001b[0;36m__init__\u001b[1;34m(self, data, index, columns, dtype, copy)\u001b[0m\n\u001b[0;32m    634\u001b[0m         \u001b[1;32melif\u001b[0m \u001b[0misinstance\u001b[0m\u001b[1;33m(\u001b[0m\u001b[0mdata\u001b[0m\u001b[1;33m,\u001b[0m \u001b[0mdict\u001b[0m\u001b[1;33m)\u001b[0m\u001b[1;33m:\u001b[0m\u001b[1;33m\u001b[0m\u001b[1;33m\u001b[0m\u001b[0m\n\u001b[0;32m    635\u001b[0m             \u001b[1;31m# GH#38939 de facto copy defaults to False only in non-dict cases\u001b[0m\u001b[1;33m\u001b[0m\u001b[1;33m\u001b[0m\u001b[0m\n\u001b[1;32m--> 636\u001b[1;33m             \u001b[0mmgr\u001b[0m \u001b[1;33m=\u001b[0m \u001b[0mdict_to_mgr\u001b[0m\u001b[1;33m(\u001b[0m\u001b[0mdata\u001b[0m\u001b[1;33m,\u001b[0m \u001b[0mindex\u001b[0m\u001b[1;33m,\u001b[0m \u001b[0mcolumns\u001b[0m\u001b[1;33m,\u001b[0m \u001b[0mdtype\u001b[0m\u001b[1;33m=\u001b[0m\u001b[0mdtype\u001b[0m\u001b[1;33m,\u001b[0m \u001b[0mcopy\u001b[0m\u001b[1;33m=\u001b[0m\u001b[0mcopy\u001b[0m\u001b[1;33m,\u001b[0m \u001b[0mtyp\u001b[0m\u001b[1;33m=\u001b[0m\u001b[0mmanager\u001b[0m\u001b[1;33m)\u001b[0m\u001b[1;33m\u001b[0m\u001b[1;33m\u001b[0m\u001b[0m\n\u001b[0m\u001b[0;32m    637\u001b[0m         \u001b[1;32melif\u001b[0m \u001b[0misinstance\u001b[0m\u001b[1;33m(\u001b[0m\u001b[0mdata\u001b[0m\u001b[1;33m,\u001b[0m \u001b[0mma\u001b[0m\u001b[1;33m.\u001b[0m\u001b[0mMaskedArray\u001b[0m\u001b[1;33m)\u001b[0m\u001b[1;33m:\u001b[0m\u001b[1;33m\u001b[0m\u001b[1;33m\u001b[0m\u001b[0m\n\u001b[0;32m    638\u001b[0m             \u001b[1;32mimport\u001b[0m \u001b[0mnumpy\u001b[0m\u001b[1;33m.\u001b[0m\u001b[0mma\u001b[0m\u001b[1;33m.\u001b[0m\u001b[0mmrecords\u001b[0m \u001b[1;32mas\u001b[0m \u001b[0mmrecords\u001b[0m\u001b[1;33m\u001b[0m\u001b[1;33m\u001b[0m\u001b[0m\n",
      "\u001b[1;32mC:\\ProgramData\\Anaconda3\\lib\\site-packages\\pandas\\core\\internals\\construction.py\u001b[0m in \u001b[0;36mdict_to_mgr\u001b[1;34m(data, index, columns, dtype, typ, copy)\u001b[0m\n\u001b[0;32m    500\u001b[0m         \u001b[1;31m# TODO: can we get rid of the dt64tz special case above?\u001b[0m\u001b[1;33m\u001b[0m\u001b[1;33m\u001b[0m\u001b[0m\n\u001b[0;32m    501\u001b[0m \u001b[1;33m\u001b[0m\u001b[0m\n\u001b[1;32m--> 502\u001b[1;33m     \u001b[1;32mreturn\u001b[0m \u001b[0marrays_to_mgr\u001b[0m\u001b[1;33m(\u001b[0m\u001b[0marrays\u001b[0m\u001b[1;33m,\u001b[0m \u001b[0mcolumns\u001b[0m\u001b[1;33m,\u001b[0m \u001b[0mindex\u001b[0m\u001b[1;33m,\u001b[0m \u001b[0mdtype\u001b[0m\u001b[1;33m=\u001b[0m\u001b[0mdtype\u001b[0m\u001b[1;33m,\u001b[0m \u001b[0mtyp\u001b[0m\u001b[1;33m=\u001b[0m\u001b[0mtyp\u001b[0m\u001b[1;33m,\u001b[0m \u001b[0mconsolidate\u001b[0m\u001b[1;33m=\u001b[0m\u001b[0mcopy\u001b[0m\u001b[1;33m)\u001b[0m\u001b[1;33m\u001b[0m\u001b[1;33m\u001b[0m\u001b[0m\n\u001b[0m\u001b[0;32m    503\u001b[0m \u001b[1;33m\u001b[0m\u001b[0m\n\u001b[0;32m    504\u001b[0m \u001b[1;33m\u001b[0m\u001b[0m\n",
      "\u001b[1;32mC:\\ProgramData\\Anaconda3\\lib\\site-packages\\pandas\\core\\internals\\construction.py\u001b[0m in \u001b[0;36marrays_to_mgr\u001b[1;34m(arrays, columns, index, dtype, verify_integrity, typ, consolidate)\u001b[0m\n\u001b[0;32m    118\u001b[0m         \u001b[1;31m# figure out the index, if necessary\u001b[0m\u001b[1;33m\u001b[0m\u001b[1;33m\u001b[0m\u001b[0m\n\u001b[0;32m    119\u001b[0m         \u001b[1;32mif\u001b[0m \u001b[0mindex\u001b[0m \u001b[1;32mis\u001b[0m \u001b[1;32mNone\u001b[0m\u001b[1;33m:\u001b[0m\u001b[1;33m\u001b[0m\u001b[1;33m\u001b[0m\u001b[0m\n\u001b[1;32m--> 120\u001b[1;33m             \u001b[0mindex\u001b[0m \u001b[1;33m=\u001b[0m \u001b[0m_extract_index\u001b[0m\u001b[1;33m(\u001b[0m\u001b[0marrays\u001b[0m\u001b[1;33m)\u001b[0m\u001b[1;33m\u001b[0m\u001b[1;33m\u001b[0m\u001b[0m\n\u001b[0m\u001b[0;32m    121\u001b[0m         \u001b[1;32melse\u001b[0m\u001b[1;33m:\u001b[0m\u001b[1;33m\u001b[0m\u001b[1;33m\u001b[0m\u001b[0m\n\u001b[0;32m    122\u001b[0m             \u001b[0mindex\u001b[0m \u001b[1;33m=\u001b[0m \u001b[0mensure_index\u001b[0m\u001b[1;33m(\u001b[0m\u001b[0mindex\u001b[0m\u001b[1;33m)\u001b[0m\u001b[1;33m\u001b[0m\u001b[1;33m\u001b[0m\u001b[0m\n",
      "\u001b[1;32mC:\\ProgramData\\Anaconda3\\lib\\site-packages\\pandas\\core\\internals\\construction.py\u001b[0m in \u001b[0;36m_extract_index\u001b[1;34m(data)\u001b[0m\n\u001b[0;32m    662\u001b[0m \u001b[1;33m\u001b[0m\u001b[0m\n\u001b[0;32m    663\u001b[0m         \u001b[1;32mif\u001b[0m \u001b[1;32mnot\u001b[0m \u001b[0mindexes\u001b[0m \u001b[1;32mand\u001b[0m \u001b[1;32mnot\u001b[0m \u001b[0mraw_lengths\u001b[0m\u001b[1;33m:\u001b[0m\u001b[1;33m\u001b[0m\u001b[1;33m\u001b[0m\u001b[0m\n\u001b[1;32m--> 664\u001b[1;33m             \u001b[1;32mraise\u001b[0m \u001b[0mValueError\u001b[0m\u001b[1;33m(\u001b[0m\u001b[1;34m\"If using all scalar values, you must pass an index\"\u001b[0m\u001b[1;33m)\u001b[0m\u001b[1;33m\u001b[0m\u001b[1;33m\u001b[0m\u001b[0m\n\u001b[0m\u001b[0;32m    665\u001b[0m \u001b[1;33m\u001b[0m\u001b[0m\n\u001b[0;32m    666\u001b[0m         \u001b[1;32melif\u001b[0m \u001b[0mhave_series\u001b[0m\u001b[1;33m:\u001b[0m\u001b[1;33m\u001b[0m\u001b[1;33m\u001b[0m\u001b[0m\n",
      "\u001b[1;31mValueError\u001b[0m: If using all scalar values, you must pass an index"
     ]
    }
   ],
   "source": [
    "males = {\"dead\" : 0, \"lived\" : 0}\n",
    "totalMales = 0\n",
    "females = {\"dead\" : 0, \"lived\" : 0}\n",
    "totalFemales = 0\n",
    "\n",
    "for i in range(len(df)):\n",
    "    if df.loc[i][\"Survived\"] == 0 and df.loc[i][\"Sex\"] == \"M\":\n",
    "        males[\"dead\"] += 1\n",
    "        totalMales += 1\n",
    "    elif df.loc[i][\"Survived\"] == 1 and df.loc[i][\"Sex\"] == \"M\":\n",
    "        males[\"lived\"] += 1\n",
    "        totalMales += 1\n",
    "    elif df.loc[i][\"Survived\"] == 0 and df.loc[i][\"Sex\"] == \"F\":\n",
    "        females[\"dead\"] += 1\n",
    "        totalFemales += 1\n",
    "    elif df.loc[i][\"Survived\"] == 1 and df.loc[i][\"Sex\"] == \"F\":\n",
    "        females[\"lived\"] += 1\n",
    "        totalFemales += 1\n",
    "\n",
    "survivorData = {\n",
    "    \"Male Died\" : (males[\"dead\"] / totalMales) * 100, \"Male Lived\" : (males[\"lived\"] / totalMales) * 100,\n",
    "    \"Female Died\" : (females[\"dead\"] / totalFemales) * 100, \"Female Died\" : (females[\"lived\"] / totalFemales) * 100,\n",
    "    \"Total Died\" : (males[\"dead\"] + females[\"dead\"]) / (totalMales + totalFemales), \"Total Lived\" : (males[\"lived\"] + females[\"lived\"]) / (totalMales + totalFemales)\n",
    "}\n",
    "\n",
    "survivorDF = pd.DataFrame(survivorData)\n",
    "survivorDF"
   ]
  },
  {
   "cell_type": "code",
   "execution_count": 9,
   "id": "414b5304",
   "metadata": {},
   "outputs": [
    {
     "name": "stdout",
     "output_type": "stream",
     "text": [
      "  Sex  Percentile Amount\n",
      "0   M          50.859454\n",
      "1   F          49.140546\n"
     ]
    },
    {
     "data": {
      "image/png": "[encoded data removed]",
      "text/plain": [
       "<Figure size 640x480 with 1 Axes>"
      ]
     },
     "metadata": {},
     "output_type": "display_data"
    }
   ],
   "source": [
    "passengerSex = {}\n",
    "for i in df[\"Sex\"]:\n",
    "    if i in passengerSex:\n",
    "        passengerSex[i] += 1 / len(df) * 100\n",
    "    else:\n",
    "        passengerSex[i] = 1 / len(df) * 100\n",
    "\n",
    "graph = {\n",
    "    \"Sex\" : passengerSex.keys(),\n",
    "    \"Percentile Amount\" : passengerSex.values()\n",
    "}\n",
    "\n",
    "graphDF = pd.DataFrame(graph)\n",
    "\n",
    "sns.barplot(x = \"Sex\",\n",
    "            y = \"Percentile Amount\",\n",
    "            data = graphDF)\n",
    "\n",
    "plt.show()"
   ]
  },
  {
   "cell_type": "code",
   "execution_count": 12,
   "id": "a3ab618c",
   "metadata": {},
   "outputs": [
    {
     "data": {
      "text/plain": [
       "{'FirstClass Died': 87.68844221105527,\n",
       " 'FirstClass Lived': 12.311557788944723,\n",
       " 'SecondClass Died': 79.79274611398964,\n",
       " 'SecondClass Lived': 20.207253886010363,\n",
       " 'Total Died': 86.14762386248736,\n",
       " 'Total Lived': 13.852376137512639}"
      ]
     },
     "execution_count": 12,
     "metadata": {},
     "output_type": "execute_result"
    }
   ],
   "source": [
    "classes = {\"P\" : [0, 0], \"C\" : [0, 0]}\n",
    "\n",
    "for i in range(len(df)):\n",
    "    passengerClass = df.loc[i][\"Category\"]\n",
    "    survived = df.loc[i][\"Survived\"]\n",
    "    classes[passengerClass][survived] += 1\n",
    "\n",
    "totalFirstClass = classes[\"P\"][0] + classes[\"P\"][1]\n",
    "totalSecondClass = classes[\"C\"][0] + classes[\"C\"][1]\n",
    "    \n",
    "survivorData = {\n",
    "    \"FirstClass Died\" : (classes[\"P\"][0] / totalFirstClass) * 100, \"FirstClass Lived\" : (classes[\"P\"][1] / totalFirstClass) * 100,\n",
    "    \"SecondClass Died\" : (classes[\"C\"][0] / totalSecondClass) * 100, \"SecondClass Lived\" : (classes[\"C\"][1] / totalSecondClass) * 100,\n",
    "    \"Total Died\" : ((classes[\"P\"][0] + classes[\"C\"][0]) / (totalFirstClass + totalSecondClass)) * 100, \"Total Lived\" : ((classes[\"P\"][1] + classes[\"C\"][1]) / (totalFirstClass + totalSecondClass)) * 100\n",
    "}\n",
    "\n",
    "survivorData"
   ]
  },
  {
   "cell_type": "code",
   "execution_count": null,
   "id": "f933fe0b",
   "metadata": {},
   "outputs": [],
   "source": []
  }
 ],
 "metadata": {
  "kernelspec": {
   "display_name": "Python 3 (ipykernel)",
   "language": "python",
   "name": "python3"
  },
  "language_info": {
   "codemirror_mode": {
    "name": "ipython",
    "version": 3
   },
   "file_extension": ".py",
   "mimetype": "text/x-python",
   "name": "python",
   "nbconvert_exporter": "python",
   "pygments_lexer": "ipython3",
   "version": "3.9.13"
  }
 },
 "nbformat": 4,
 "nbformat_minor": 5
}
