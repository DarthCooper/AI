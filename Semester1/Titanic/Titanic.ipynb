{
 "cells": [
  {
   "cell_type": "code",
   "execution_count": 4,
   "id": "008a2e2a",
   "metadata": {},
   "outputs": [],
   "source": [
    "import pandas as pd"
   ]
  },
  {
   "cell_type": "code",
   "execution_count": 5,
   "id": "df3acfc7",
   "metadata": {},
   "outputs": [],
   "source": [
    "import math"
   ]
  },
  {
   "cell_type": "code",
   "execution_count": 6,
   "id": "77963643",
   "metadata": {},
   "outputs": [
    {
     "data": {
      "text/plain": [
       "PassengerId                   528\n",
       "Survived                        0\n",
       "Pclass                          1\n",
       "Name           Farthing, Mr. John\n",
       "Sex                          male\n",
       "Age                           NaN\n",
       "SibSp                           0\n",
       "Parch                           0\n",
       "Ticket                   PC 17483\n",
       "Fare                     221.7792\n",
       "Cabin                         C95\n",
       "Embarked                        S\n",
       "Name: 527, dtype: object"
      ]
     },
     "execution_count": 6,
     "metadata": {},
     "output_type": "execute_result"
    }
   ],
   "source": [
    "df = pd.read_csv(\"titanic.csv\")"
   ]
  },
  {
   "cell_type": "code",
   "execution_count": 20,
   "id": "abb3047a",
   "metadata": {},
   "outputs": [
    {
     "data": {
      "text/html": [
       "<div>\n",
       "<style scoped>\n",
       "    .dataframe tbody tr th:only-of-type {\n",
       "        vertical-align: middle;\n",
       "    }\n",
       "\n",
       "    .dataframe tbody tr th {\n",
       "        vertical-align: top;\n",
       "    }\n",
       "\n",
       "    .dataframe thead th {\n",
       "        text-align: right;\n",
       "    }\n",
       "</style>\n",
       "<table border=\"1\" class=\"dataframe\">\n",
       "  <thead>\n",
       "    <tr style=\"text-align: right;\">\n",
       "      <th></th>\n",
       "      <th>PassengerId</th>\n",
       "      <th>Survived</th>\n",
       "      <th>Pclass</th>\n",
       "      <th>Name</th>\n",
       "      <th>Sex</th>\n",
       "      <th>Age</th>\n",
       "      <th>SibSp</th>\n",
       "      <th>Parch</th>\n",
       "      <th>Ticket</th>\n",
       "      <th>Fare</th>\n",
       "      <th>Cabin</th>\n",
       "      <th>Embarked</th>\n",
       "    </tr>\n",
       "  </thead>\n",
       "  <tbody>\n",
       "    <tr>\n",
       "      <th>527</th>\n",
       "      <td>528</td>\n",
       "      <td>0</td>\n",
       "      <td>1</td>\n",
       "      <td>Farthing, Mr. John</td>\n",
       "      <td>male</td>\n",
       "      <td>NaN</td>\n",
       "      <td>0</td>\n",
       "      <td>0</td>\n",
       "      <td>PC 17483</td>\n",
       "      <td>221.7792</td>\n",
       "      <td>C95</td>\n",
       "      <td>S</td>\n",
       "    </tr>\n",
       "  </tbody>\n",
       "</table>\n",
       "</div>"
      ],
      "text/plain": [
       "     PassengerId  Survived  Pclass                Name   Sex  Age  SibSp  \\\n",
       "527          528         0       1  Farthing, Mr. John  male  NaN      0   \n",
       "\n",
       "     Parch    Ticket      Fare Cabin Embarked  \n",
       "527      0  PC 17483  221.7792   C95        S  "
      ]
     },
     "execution_count": 20,
     "metadata": {},
     "output_type": "execute_result"
    }
   ],
   "source": [
    "df[df['PassengerId'] == 528]"
   ]
  },
  {
   "cell_type": "code",
   "execution_count": 23,
   "id": "0424ad78",
   "metadata": {},
   "outputs": [
    {
     "data": {
      "text/plain": [
       "PassengerId                              707\n",
       "Survived                                   1\n",
       "Pclass                                     2\n",
       "Name           Kelly, Mrs. Florence \"Fannie\"\n",
       "Sex                                   female\n",
       "Age                                     45.0\n",
       "SibSp                                      0\n",
       "Parch                                      0\n",
       "Ticket                                223596\n",
       "Fare                                    13.5\n",
       "Cabin                                    NaN\n",
       "Embarked                                   S\n",
       "Name: 706, dtype: object"
      ]
     },
     "execution_count": 23,
     "metadata": {},
     "output_type": "execute_result"
    }
   ],
   "source": [
    "i = 0\n",
    "for person in df['Name']:\n",
    "    if \"Fannie\" in person:\n",
    "        break\n",
    "    i += 1\n",
    "df.loc[i]"
   ]
  },
  {
   "cell_type": "code",
   "execution_count": 82,
   "id": "5e19c128",
   "metadata": {},
   "outputs": [
    {
     "name": "stdout",
     "output_type": "stream",
     "text": [
      "Male Passengers: 64 %\n"
     ]
    }
   ],
   "source": [
    "count = (df[\"Sex\"] == \"male\").sum()\n",
    "print(f\"Male Passengers: {int(count / len(df) * 100)} %\")"
   ]
  },
  {
   "cell_type": "code",
   "execution_count": 107,
   "id": "7f3e5089",
   "metadata": {},
   "outputs": [
    {
     "name": "stdout",
     "output_type": "stream",
     "text": [
      "3\t491\n",
      "1\t216\n",
      "2\t184\n"
     ]
    }
   ],
   "source": [
    "ticketData = pd.read_csv(\"titanic.csv\")\n",
    "tickets = {}\n",
    "for i in ticketData['Pclass']:\n",
    "    if(i in tickets):\n",
    "        tickets[i] = tickets[i] + 1\n",
    "    else:\n",
    "        tickets[i] = 1\n",
    "        \n",
    "print(\"\\n\".join(\"{}\\t{}\".format(k, v) for k, v in tickets.items()))"
   ]
  },
  {
   "cell_type": "code",
   "execution_count": 115,
   "id": "3f3bbcc8",
   "metadata": {},
   "outputs": [
    {
     "name": "stdout",
     "output_type": "stream",
     "text": [
      "S : 73 %\n",
      "C : 19 %\n",
      "Q : 9 %\n",
      "nan : 1 %\n"
     ]
    }
   ],
   "source": [
    "passengerData = pd.read_csv(\"titanic.csv\")\n",
    "passengers = {}\n",
    "for i in passengerData['Embarked']:\n",
    "    if(i in passengers):\n",
    "        passengers[i] = passengers[i] + 1\n",
    "    else:\n",
    "        passengers[i] = 1\n",
    "        \n",
    "for i in passengers.keys():\n",
    "    print(f\"{i} : {math.ceil((passengers[i] / len(passengerData) * 100))} %\")"
   ]
  },
  {
   "cell_type": "code",
   "execution_count": 42,
   "id": "9c7de2e5",
   "metadata": {},
   "outputs": [
    {
     "name": "stdout",
     "output_type": "stream",
     "text": [
      "Males : {'dead': 468, 'lived': 109}\n",
      "Females : {'dead': 81, 'lived': 233}\n"
     ]
    }
   ],
   "source": [
    "males = {\"dead\" : 0, \"lived\" : 0}\n",
    "females = {\"dead\" : 0, \"lived\" : 0}\n",
    "for i in range(len(df)):\n",
    "    if df.loc[i][\"Survived\"] == 0 and df.loc[i][\"Sex\"] == \"male\":\n",
    "        males[\"dead\"] += 1\n",
    "    elif df.loc[i][\"Survived\"] == 1 and df.loc[i][\"Sex\"] == \"male\":\n",
    "        males[\"lived\"] += 1\n",
    "    elif df.loc[i][\"Survived\"] == 0 and df.loc[i][\"Sex\"] == \"female\":\n",
    "        females[\"dead\"] += 1\n",
    "    elif df.loc[i][\"Survived\"] == 1 and df.loc[i][\"Sex\"] == \"female\":\n",
    "        females[\"lived\"] += 1\n",
    "print (f\"Males : {males}\")\n",
    "print (f\"Females : {females}\")"
   ]
  },
  {
   "cell_type": "code",
   "execution_count": 57,
   "id": "fd0a7a62",
   "metadata": {},
   "outputs": [
    {
     "name": "stdout",
     "output_type": "stream",
     "text": [
      "Children - dead : 47% | Total 6 %\n",
      "Children - lived : 54% | Total 7 %\n",
      "Adults - dead : 62% | Total 42 %\n",
      "Adults - lived : 39% | Total 26 %\n"
     ]
    }
   ],
   "source": [
    "child = {\"dead\" : 0, \"lived\" : 0}\n",
    "adult = {\"dead\" : 0, \"lived\" : 0}\n",
    "\n",
    "for i in range(len(df)):\n",
    "    if df.loc[i][\"Survived\"] == 0 and df.loc[i][\"Age\"] < 18:\n",
    "        child[\"dead\"] += 1\n",
    "    elif df.loc[i][\"Survived\"] == 1 and df.loc[i][\"Age\"] < 18:\n",
    "        child[\"lived\"] += 1\n",
    "    elif df.loc[i][\"Survived\"] == 0 and df.loc[i][\"Age\"] >= 18:\n",
    "        adult[\"dead\"] += 1\n",
    "    elif df.loc[i][\"Survived\"] == 1 and df.loc[i][\"Age\"] >= 18:\n",
    "        adult[\"lived\"] += 1\n",
    "\n",
    "totalChildren = child[\"dead\"] + child[\"lived\"]\n",
    "for i in child.keys():\n",
    "    print(f\"Children - {i} : {math.ceil((child[i] / totalChildren) * 100)}% | Out of total {math.ceil((child[i] / len(df)) * 100)} %\")\n",
    "    \n",
    "totalAdults = adult[\"dead\"] + adult[\"lived\"]\n",
    "for i in adult.keys():\n",
    "    print(f\"Adults - {i} : {math.ceil((adult[i] / totalAdults) * 100)}% | Out of Total {math.ceil((adult[i] / len(df)) * 100)} %\")"
   ]
  },
  {
   "cell_type": "code",
   "execution_count": null,
   "id": "c7f9fa4c",
   "metadata": {},
   "outputs": [],
   "source": []
  }
 ],
 "metadata": {
  "kernelspec": {
   "display_name": "Python 3 (ipykernel)",
   "language": "python",
   "name": "python3"
  },
  "language_info": {
   "codemirror_mode": {
    "name": "ipython",
    "version": 3
   },
   "file_extension": ".py",
   "mimetype": "text/x-python",
   "name": "python",
   "nbconvert_exporter": "python",
   "pygments_lexer": "ipython3",
   "version": "3.9.13"
  }
 },
 "nbformat": 4,
 "nbformat_minor": 5
}
