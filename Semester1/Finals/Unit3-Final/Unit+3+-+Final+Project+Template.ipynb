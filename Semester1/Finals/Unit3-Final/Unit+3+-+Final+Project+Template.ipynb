{
 "cells": [
  {
   "cell_type": "markdown",
   "id": "9919c268",
   "metadata": {},
   "source": [
    "# Choose a Data Set\n",
    "\n",
    "Create your own dataset by scraping one of the following websites *(level 5)*:\n",
    "- [Wikipedia](https://www.wikipedia.org/)\n",
    "- [OpenLibrary](https://openlibrary.org/)\n",
    "\n",
    "**OR** \n",
    "\n",
    "Use data gathered from one of the following APIs *(level 4)*: \n",
    "- [TMDB](https://developer.themoviedb.org/reference/intro/getting-started)\n",
    "- [College Scorecard](https://collegescorecard.ed.gov/data/api-documentation/)\n",
    "\n",
    "**OR** \n",
    "\n",
    "Pick a JSON dataset *(level 3)*:\n",
    "- [Food/Restaurant Data](https://drive.google.com/drive/folders/1V94S6WpclvQmbnW88KVMD4EruryA1oma?usp=drive_link)\n",
    "- [Fashion Data](https://drive.google.com/drive/folders/1V8SbFjtRRW8WVf3xBzg0gzLjOtMhHea_?usp=drive_link)\n",
    "\n",
    "**OR** \n",
    "\n",
    "Pick a CSV dataset *(level 2)*:\n",
    "- [LA Parking Tickets](https://drive.google.com/drive/folders/1vaOfwMi6QmZEGsXr8VM0ulPGzvTTBCgm?usp=drive_link)\n",
    "- [Hotels](https://drive.google.com/drive/folders/1IpVFxgwBJvJHKoOuBsk6WK2qYqFYP4hi?usp=drive_link)"
   ]
  },
  {
   "cell_type": "markdown",
   "id": "ae147ea6",
   "metadata": {},
   "source": [
    "# My Question\n",
    " While exploring Europe, two friends make a bet. Out of the 15 highest populated cities in europe, if the next 2 people that person A talks to are from Madrid, then Friend B will pay him 1000 dollars, otherwise, Friend A will have to pay 20 dollars. What is the expected profit from the bet?"
   ]
  },
  {
   "cell_type": "markdown",
   "id": "149f324f",
   "metadata": {},
   "source": [
    "# My Answer"
   ]
  },
  {
   "cell_type": "markdown",
   "id": "d1ab7e58",
   "metadata": {},
   "source": [
    "***Imports***"
   ]
  },
  {
   "cell_type": "code",
   "execution_count": 73,
   "id": "9face45f",
   "metadata": {},
   "outputs": [],
   "source": [
    "import pandas as pd\n",
    "from bs4 import BeautifulSoup\n",
    "import requests\n",
    "import random\n",
    "import seaborn as sns\n",
    "import numpy as np"
   ]
  },
  {
   "cell_type": "code",
   "execution_count": 2,
   "id": "80d0d7c0",
   "metadata": {},
   "outputs": [],
   "source": [
    "def getScraped(url : str, htmlIdentifier : str):\n",
    "    URL = url\n",
    "    page = requests.get(URL)\n",
    "    soup = BeautifulSoup(page.content, \"html.parser\")\n",
    "        \n",
    "    data = soup.find_all(htmlIdentifier)\n",
    "        \n",
    "    return data\n",
    "\n",
    "def getScrappedClass(url : str, htmlIdentifier : str, className : str):\n",
    "    URL = url\n",
    "    page = requests.get(URL)\n",
    "    soup = BeautifulSoup(page.content, \"html.parser\")\n",
    "        \n",
    "    data = soup.find_all(htmlIdentifier, class_=className)\n",
    "        \n",
    "    return data"
   ]
  },
  {
   "cell_type": "code",
   "execution_count": 3,
   "id": "e3655600",
   "metadata": {},
   "outputs": [],
   "source": [
    "EuropeCities = getScraped(\"https://en.wikipedia.org/wiki/List_of_European_cities_by_population_within_city_limits\", \"tbody\")"
   ]
  },
  {
   "cell_type": "markdown",
   "id": "d5044146",
   "metadata": {},
   "source": [
    "This scrapes the wikipedia page that lists European cities and their populations."
   ]
  },
  {
   "cell_type": "code",
   "execution_count": 34,
   "id": "332809d9",
   "metadata": {},
   "outputs": [],
   "source": [
    "CityNames = []\n",
    "CityCountry = []\n",
    "CityPopulation = []\n",
    "CityDate = []\n",
    "\n",
    "for city in EuropeCities:\n",
    "    for name in city.find_all(\"td\"):\n",
    "        cityName = name.find(\"a\")\n",
    "        if not(cityName == None) and len(cityName.attrs) == 2:\n",
    "            if len(CityNames) == len(CityCountry) and len(CityNames) < 15:\n",
    "                CityNames.append(cityName.text)\n",
    "            elif len(CityCountry) < 15:\n",
    "                CityCountry.append(cityName.text)\n",
    "        CityData = name.find(\"span\")\n",
    "        if not(CityData == None):\n",
    "            if not(CityData.text.strip() == \"\") and not(CityData.text.strip() == \"[\"):\n",
    "                if len(CityPopulation) == len(CityDate) and len(CityPopulation) < 15:\n",
    "                    CityPopulation.append(CityData.text.strip().replace(\",\", \"\"))\n",
    "                elif len(CityDate) < 15:\n",
    "                    CityDate.append(CityData.text.strip())"
   ]
  },
  {
   "cell_type": "markdown",
   "id": "3a2261fd",
   "metadata": {},
   "source": [
    "This orgainizes, albeit shoddily, the data from the web scrape. It organizes it into the city's name, the city's country, the city's population, and the last time this data was checked."
   ]
  },
  {
   "cell_type": "code",
   "execution_count": 36,
   "id": "05ac9776",
   "metadata": {},
   "outputs": [
    {
     "data": {
      "text/html": [
       "<div>\n",
       "<style scoped>\n",
       "    .dataframe tbody tr th:only-of-type {\n",
       "        vertical-align: middle;\n",
       "    }\n",
       "\n",
       "    .dataframe tbody tr th {\n",
       "        vertical-align: top;\n",
       "    }\n",
       "\n",
       "    .dataframe thead th {\n",
       "        text-align: right;\n",
       "    }\n",
       "</style>\n",
       "<table border=\"1\" class=\"dataframe\">\n",
       "  <thead>\n",
       "    <tr style=\"text-align: right;\">\n",
       "      <th></th>\n",
       "      <th>Name</th>\n",
       "      <th>Country</th>\n",
       "      <th>Population</th>\n",
       "      <th>Checked On</th>\n",
       "    </tr>\n",
       "  </thead>\n",
       "  <tbody>\n",
       "    <tr>\n",
       "      <th>0</th>\n",
       "      <td>Istanbul</td>\n",
       "      <td>Turkey</td>\n",
       "      <td>15655924</td>\n",
       "      <td>31 Dec 2023</td>\n",
       "    </tr>\n",
       "    <tr>\n",
       "      <th>1</th>\n",
       "      <td>Moscow</td>\n",
       "      <td>Russia</td>\n",
       "      <td>13149803</td>\n",
       "      <td>1 Jan 2024</td>\n",
       "    </tr>\n",
       "    <tr>\n",
       "      <th>2</th>\n",
       "      <td>London</td>\n",
       "      <td>United Kingdom</td>\n",
       "      <td>8866180</td>\n",
       "      <td>30 Jun 2022</td>\n",
       "    </tr>\n",
       "    <tr>\n",
       "      <th>3</th>\n",
       "      <td>Saint Petersburg</td>\n",
       "      <td>Russia</td>\n",
       "      <td>5597763</td>\n",
       "      <td>1 Jan 2024</td>\n",
       "    </tr>\n",
       "    <tr>\n",
       "      <th>4</th>\n",
       "      <td>Berlin</td>\n",
       "      <td>Germany</td>\n",
       "      <td>3755251</td>\n",
       "      <td>31 Dec 2022</td>\n",
       "    </tr>\n",
       "    <tr>\n",
       "      <th>5</th>\n",
       "      <td>Madrid</td>\n",
       "      <td>Spain</td>\n",
       "      <td>3332035</td>\n",
       "      <td>1 Jan 2023</td>\n",
       "    </tr>\n",
       "    <tr>\n",
       "      <th>6</th>\n",
       "      <td>Kyiv</td>\n",
       "      <td>Ukraine</td>\n",
       "      <td>2952301</td>\n",
       "      <td>1 Jan 2022</td>\n",
       "    </tr>\n",
       "    <tr>\n",
       "      <th>7</th>\n",
       "      <td>Rome</td>\n",
       "      <td>Italy</td>\n",
       "      <td>2754719</td>\n",
       "      <td>1 Jan 2024</td>\n",
       "    </tr>\n",
       "    <tr>\n",
       "      <th>8</th>\n",
       "      <td>Baku</td>\n",
       "      <td>Azerbaijan</td>\n",
       "      <td>2344900</td>\n",
       "      <td>1 Jan 2024</td>\n",
       "    </tr>\n",
       "    <tr>\n",
       "      <th>9</th>\n",
       "      <td>Paris</td>\n",
       "      <td>France</td>\n",
       "      <td>2087577</td>\n",
       "      <td>1 Jan 2024</td>\n",
       "    </tr>\n",
       "    <tr>\n",
       "      <th>10</th>\n",
       "      <td>Vienna</td>\n",
       "      <td>Austria</td>\n",
       "      <td>2018653</td>\n",
       "      <td>1 Jul 2024</td>\n",
       "    </tr>\n",
       "    <tr>\n",
       "      <th>11</th>\n",
       "      <td>Minsk</td>\n",
       "      <td>Belarus</td>\n",
       "      <td>1992862</td>\n",
       "      <td>1 Jan 2024</td>\n",
       "    </tr>\n",
       "    <tr>\n",
       "      <th>12</th>\n",
       "      <td>Hamburg</td>\n",
       "      <td>Germany</td>\n",
       "      <td>1892122</td>\n",
       "      <td>31 Dec 2022</td>\n",
       "    </tr>\n",
       "    <tr>\n",
       "      <th>13</th>\n",
       "      <td>Warsaw</td>\n",
       "      <td>Poland</td>\n",
       "      <td>1861644</td>\n",
       "      <td>30 Jun 2023</td>\n",
       "    </tr>\n",
       "    <tr>\n",
       "      <th>14</th>\n",
       "      <td>Bucharest</td>\n",
       "      <td>Romania</td>\n",
       "      <td>1719958</td>\n",
       "      <td>1 Jan 2024</td>\n",
       "    </tr>\n",
       "  </tbody>\n",
       "</table>\n",
       "</div>"
      ],
      "text/plain": [
       "                Name         Country  Population   Checked On\n",
       "0           Istanbul          Turkey    15655924  31 Dec 2023\n",
       "1             Moscow          Russia    13149803   1 Jan 2024\n",
       "2             London  United Kingdom     8866180  30 Jun 2022\n",
       "3   Saint Petersburg          Russia     5597763   1 Jan 2024\n",
       "4             Berlin         Germany     3755251  31 Dec 2022\n",
       "5             Madrid           Spain     3332035   1 Jan 2023\n",
       "6               Kyiv         Ukraine     2952301   1 Jan 2022\n",
       "7               Rome           Italy     2754719   1 Jan 2024\n",
       "8               Baku      Azerbaijan     2344900   1 Jan 2024\n",
       "9              Paris          France     2087577   1 Jan 2024\n",
       "10            Vienna         Austria     2018653   1 Jul 2024\n",
       "11             Minsk         Belarus     1992862   1 Jan 2024\n",
       "12           Hamburg         Germany     1892122  31 Dec 2022\n",
       "13            Warsaw          Poland     1861644  30 Jun 2023\n",
       "14         Bucharest         Romania     1719958   1 Jan 2024"
      ]
     },
     "execution_count": 36,
     "metadata": {},
     "output_type": "execute_result"
    }
   ],
   "source": [
    "cities = {\n",
    "    \"Name\" : CityNames,\n",
    "    \"Country\" : CityCountry,\n",
    "    \"Population\" : CityPopulation,\n",
    "    \"Checked On\" : CityDate\n",
    "}\n",
    "\n",
    "df = pd.DataFrame(cities)\n",
    "df[\"Population\"] = pd.to_numeric(df[\"Population\"], errors=\"coerce\")\n",
    "df\n"
   ]
  },
  {
   "cell_type": "markdown",
   "id": "aa5fc949",
   "metadata": {},
   "source": [
    "This gives us our data set that we can use. We'll be focusing in Madrid for the first part of the question."
   ]
  },
  {
   "cell_type": "code",
   "execution_count": 39,
   "id": "b43e780e",
   "metadata": {},
   "outputs": [
    {
     "data": {
      "text/plain": [
       "69981692"
      ]
     },
     "execution_count": 39,
     "metadata": {},
     "output_type": "execute_result"
    }
   ],
   "source": [
    "overallPopulation = sum(df[\"Population\"])\n",
    "overallPopulation"
   ]
  },
  {
   "cell_type": "markdown",
   "id": "5f941ec8",
   "metadata": {},
   "source": [
    "This gives us our overall population which allows us to calculate a theoretical probability of one person. \n",
    "1 person : 3332035/69981692 = 0.476. 3 people = 3332035^2 / 69981692^2 = 0.002.\n",
    "Now let's put this in a simulation"
   ]
  },
  {
   "cell_type": "code",
   "execution_count": 71,
   "id": "6009b9a9",
   "metadata": {},
   "outputs": [
    {
     "name": "stdout",
     "output_type": "stream",
     "text": [
      "Empirical Probability: 0.002\n"
     ]
    }
   ],
   "source": [
    "rounds = 0\n",
    "trials = 1000\n",
    "both = 0\n",
    "while rounds < trials:\n",
    "    madrid = 0\n",
    "    for i in range(0, 2):\n",
    "        num = random.randint(1, overallPopulation)\n",
    "        if num in range(0, 3332035):\n",
    "            madrid += 1\n",
    "    if madrid == 2:\n",
    "        both += 1\n",
    "    rounds += 1\n",
    "    \n",
    "EmpiricalProb = both/trials\n",
    "print(\"Empirical Probability:\", str(EmpiricalProb))"
   ]
  },
  {
   "cell_type": "markdown",
   "id": "68ee5c61",
   "metadata": {},
   "source": [
    "The Empirical probability confirms our theoretical probability. So there is only a 0.2% chance that both people would end up in Madrid. Now let's calcualate what happens if Person A loses."
   ]
  },
  {
   "cell_type": "code",
   "execution_count": 82,
   "id": "eb427a5d",
   "metadata": {},
   "outputs": [
    {
     "data": {
      "text/plain": [
       "0.998"
      ]
     },
     "execution_count": 82,
     "metadata": {},
     "output_type": "execute_result"
    }
   ],
   "source": [
    "def lossChance(theoreticalProb : float) -> float:\n",
    "    return 1 - theoreticalProb\n",
    "\n",
    "loss = lossChance(EmpiricalProb)\n",
    "loss"
   ]
  },
  {
   "cell_type": "markdown",
   "id": "8e2aea2b",
   "metadata": {},
   "source": [
    "Person B has a 99% chance to win this bet."
   ]
  },
  {
   "cell_type": "code",
   "execution_count": 81,
   "id": "2b3aeff1",
   "metadata": {},
   "outputs": [
    {
     "data": {
      "text/plain": [
       "-17.96"
      ]
     },
     "execution_count": 81,
     "metadata": {},
     "output_type": "execute_result"
    }
   ],
   "source": [
    "(EmpiricalProb * 1000) - (loss * 20)"
   ]
  },
  {
   "cell_type": "markdown",
   "id": "c591f7f1",
   "metadata": {},
   "source": [
    "This yields an expected value of -19.76. Pretty much Person A is gonna lose"
   ]
  },
  {
   "cell_type": "markdown",
   "id": "4d93cfe1",
   "metadata": {},
   "source": [
    "## Analysis"
   ]
  },
  {
   "cell_type": "markdown",
   "id": "2eb09a9c",
   "metadata": {},
   "source": [
    "This bet between two friends gives Person A practically no chance to win. Person A has a theoretical probability of 0.2% chance to win, which was backed up by the exact same resulting number from an empirical probability simulation, while Person B has a theortical chance of 99.8% chance to win. This heavily favors one person, but due to the possible high payout if Person A wins, the expected value is -17.96. Person A is pretty much gonna be forced to pay 20 dollars."
   ]
  }
 ],
 "metadata": {
  "kernelspec": {
   "display_name": "Python 3 (ipykernel)",
   "language": "python",
   "name": "python3"
  },
  "language_info": {
   "codemirror_mode": {
    "name": "ipython",
    "version": 3
   },
   "file_extension": ".py",
   "mimetype": "text/x-python",
   "name": "python",
   "nbconvert_exporter": "python",
   "pygments_lexer": "ipython3",
   "version": "3.9.13"
  }
 },
 "nbformat": 4,
 "nbformat_minor": 5
}
