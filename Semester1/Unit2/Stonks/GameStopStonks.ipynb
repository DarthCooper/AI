{
 "cells": [
  {
   "cell_type": "code",
   "execution_count": 90,
   "id": "a6454cfd",
   "metadata": {},
   "outputs": [],
   "source": [
    "import pandas as pd\n",
    "import math\n",
    "import seaborn as sns\n",
    "import matplotlib.pyplot as plt\n",
    "import numpy as np\n",
    "from utils.KeyMethods import KeyMethods\n",
    "import requests\n",
    "import datetime"
   ]
  },
  {
   "cell_type": "code",
   "execution_count": 52,
   "id": "58287c5f",
   "metadata": {},
   "outputs": [],
   "source": [
    "df = pd.read_json(\"gme.json\")"
   ]
  },
  {
   "cell_type": "markdown",
   "id": "e7491f49",
   "metadata": {},
   "source": [
    "# Columns\n",
    "### Date : date of the stock data\n",
    "### Open : The price the stock sold for as soon as the markets opened.\n",
    "### High : The highest price the stock sold for on a particular day.\n",
    "### Low : The lowest price the stock sold for on a particular day.\n",
    "### Close : The price the stock sold for as soon as the markets closed.\n",
    "### Adj Close : The close price after all corporate actions of the day are accounted for (i.e. dividends, splitting, etc.).\n",
    "### Volume : The number of stocks traded (bought and sold) in a day.\n"
   ]
  },
  {
   "cell_type": "code",
   "execution_count": 16,
   "id": "dfe9c837",
   "metadata": {},
   "outputs": [
    {
     "name": "stdout",
     "output_type": "stream",
     "text": [
      "<class 'pandas.core.frame.DataFrame'>\n",
      "RangeIndex: 5600 entries, 0 to 5599\n",
      "Data columns (total 7 columns):\n",
      " #   Column     Non-Null Count  Dtype         \n",
      "---  ------     --------------  -----         \n",
      " 0   Date       5600 non-null   datetime64[ns]\n",
      " 1   Open       5600 non-null   float64       \n",
      " 2   High       5600 non-null   float64       \n",
      " 3   Low        5600 non-null   float64       \n",
      " 4   Close      5600 non-null   float64       \n",
      " 5   Adj Close  5600 non-null   float64       \n",
      " 6   Volume     5600 non-null   int64         \n",
      "dtypes: datetime64[ns](1), float64(5), int64(1)\n",
      "memory usage: 306.4 KB\n"
     ]
    }
   ],
   "source": [
    "df.info()"
   ]
  },
  {
   "cell_type": "code",
   "execution_count": 5,
   "id": "e9fde210",
   "metadata": {},
   "outputs": [
    {
     "data": {
      "text/html": [
       "<div>\n",
       "<style scoped>\n",
       "    .dataframe tbody tr th:only-of-type {\n",
       "        vertical-align: middle;\n",
       "    }\n",
       "\n",
       "    .dataframe tbody tr th {\n",
       "        vertical-align: top;\n",
       "    }\n",
       "\n",
       "    .dataframe thead th {\n",
       "        text-align: right;\n",
       "    }\n",
       "</style>\n",
       "<table border=\"1\" class=\"dataframe\">\n",
       "  <thead>\n",
       "    <tr style=\"text-align: right;\">\n",
       "      <th></th>\n",
       "      <th>Date</th>\n",
       "      <th>Open</th>\n",
       "      <th>High</th>\n",
       "      <th>Low</th>\n",
       "      <th>Close</th>\n",
       "      <th>Adj Close</th>\n",
       "      <th>Volume</th>\n",
       "    </tr>\n",
       "  </thead>\n",
       "  <tbody>\n",
       "    <tr>\n",
       "      <th>0</th>\n",
       "      <td>2002-02-13</td>\n",
       "      <td>2.40625</td>\n",
       "      <td>2.51500</td>\n",
       "      <td>2.38125</td>\n",
       "      <td>2.51250</td>\n",
       "      <td>1.691666</td>\n",
       "      <td>76216000</td>\n",
       "    </tr>\n",
       "    <tr>\n",
       "      <th>1</th>\n",
       "      <td>2002-02-14</td>\n",
       "      <td>2.54375</td>\n",
       "      <td>2.54875</td>\n",
       "      <td>2.48125</td>\n",
       "      <td>2.50000</td>\n",
       "      <td>1.683250</td>\n",
       "      <td>11021600</td>\n",
       "    </tr>\n",
       "    <tr>\n",
       "      <th>2</th>\n",
       "      <td>2002-02-15</td>\n",
       "      <td>2.50000</td>\n",
       "      <td>2.50625</td>\n",
       "      <td>2.46250</td>\n",
       "      <td>2.48750</td>\n",
       "      <td>1.674834</td>\n",
       "      <td>8389600</td>\n",
       "    </tr>\n",
       "    <tr>\n",
       "      <th>3</th>\n",
       "      <td>2002-02-19</td>\n",
       "      <td>2.47500</td>\n",
       "      <td>2.47500</td>\n",
       "      <td>2.34375</td>\n",
       "      <td>2.38750</td>\n",
       "      <td>1.607504</td>\n",
       "      <td>7410400</td>\n",
       "    </tr>\n",
       "    <tr>\n",
       "      <th>4</th>\n",
       "      <td>2002-02-20</td>\n",
       "      <td>2.40000</td>\n",
       "      <td>2.46875</td>\n",
       "      <td>2.38125</td>\n",
       "      <td>2.46875</td>\n",
       "      <td>1.662210</td>\n",
       "      <td>6892800</td>\n",
       "    </tr>\n",
       "  </tbody>\n",
       "</table>\n",
       "</div>"
      ],
      "text/plain": [
       "        Date     Open     High      Low    Close  Adj Close    Volume\n",
       "0 2002-02-13  2.40625  2.51500  2.38125  2.51250   1.691666  76216000\n",
       "1 2002-02-14  2.54375  2.54875  2.48125  2.50000   1.683250  11021600\n",
       "2 2002-02-15  2.50000  2.50625  2.46250  2.48750   1.674834   8389600\n",
       "3 2002-02-19  2.47500  2.47500  2.34375  2.38750   1.607504   7410400\n",
       "4 2002-02-20  2.40000  2.46875  2.38125  2.46875   1.662210   6892800"
      ]
     },
     "execution_count": 5,
     "metadata": {},
     "output_type": "execute_result"
    }
   ],
   "source": [
    "df.head()"
   ]
  },
  {
   "cell_type": "code",
   "execution_count": 6,
   "id": "fe16d90e",
   "metadata": {},
   "outputs": [
    {
     "data": {
      "text/html": [
       "<div>\n",
       "<style scoped>\n",
       "    .dataframe tbody tr th:only-of-type {\n",
       "        vertical-align: middle;\n",
       "    }\n",
       "\n",
       "    .dataframe tbody tr th {\n",
       "        vertical-align: top;\n",
       "    }\n",
       "\n",
       "    .dataframe thead th {\n",
       "        text-align: right;\n",
       "    }\n",
       "</style>\n",
       "<table border=\"1\" class=\"dataframe\">\n",
       "  <thead>\n",
       "    <tr style=\"text-align: right;\">\n",
       "      <th></th>\n",
       "      <th>Date</th>\n",
       "      <th>Open</th>\n",
       "      <th>High</th>\n",
       "      <th>Low</th>\n",
       "      <th>Close</th>\n",
       "      <th>Adj Close</th>\n",
       "      <th>Volume</th>\n",
       "    </tr>\n",
       "  </thead>\n",
       "  <tbody>\n",
       "    <tr>\n",
       "      <th>4772</th>\n",
       "      <td>2021-01-28</td>\n",
       "      <td>66.25</td>\n",
       "      <td>120.75</td>\n",
       "      <td>28.0625</td>\n",
       "      <td>48.400002</td>\n",
       "      <td>48.400002</td>\n",
       "      <td>235263200</td>\n",
       "    </tr>\n",
       "  </tbody>\n",
       "</table>\n",
       "</div>"
      ],
      "text/plain": [
       "           Date   Open    High      Low      Close  Adj Close     Volume\n",
       "4772 2021-01-28  66.25  120.75  28.0625  48.400002  48.400002  235263200"
      ]
     },
     "execution_count": 6,
     "metadata": {},
     "output_type": "execute_result"
    }
   ],
   "source": [
    "df[df['High'] == df['High'].max()]"
   ]
  },
  {
   "cell_type": "code",
   "execution_count": 7,
   "id": "7e35eef8",
   "metadata": {},
   "outputs": [
    {
     "data": {
      "text/html": [
       "<div>\n",
       "<style scoped>\n",
       "    .dataframe tbody tr th:only-of-type {\n",
       "        vertical-align: middle;\n",
       "    }\n",
       "\n",
       "    .dataframe tbody tr th {\n",
       "        vertical-align: top;\n",
       "    }\n",
       "\n",
       "    .dataframe thead th {\n",
       "        text-align: right;\n",
       "    }\n",
       "</style>\n",
       "<table border=\"1\" class=\"dataframe\">\n",
       "  <thead>\n",
       "    <tr style=\"text-align: right;\">\n",
       "      <th></th>\n",
       "      <th>Jan</th>\n",
       "      <th>Feb</th>\n",
       "      <th>Mar</th>\n",
       "      <th>Apr</th>\n",
       "      <th>May</th>\n",
       "      <th>Jun</th>\n",
       "      <th>Jul</th>\n",
       "      <th>Aug</th>\n",
       "      <th>Sep</th>\n",
       "      <th>Oct</th>\n",
       "      <th>Nov</th>\n",
       "      <th>Dec</th>\n",
       "    </tr>\n",
       "  </thead>\n",
       "  <tbody>\n",
       "    <tr>\n",
       "      <th>0</th>\n",
       "      <td>8.875343</td>\n",
       "      <td>8.462217</td>\n",
       "      <td>9.877809</td>\n",
       "      <td>9.833973</td>\n",
       "      <td>9.571928</td>\n",
       "      <td>10.514888</td>\n",
       "      <td>9.701705</td>\n",
       "      <td>9.847941</td>\n",
       "      <td>9.799947</td>\n",
       "      <td>9.26952</td>\n",
       "      <td>9.702786</td>\n",
       "      <td>8.784825</td>\n",
       "    </tr>\n",
       "  </tbody>\n",
       "</table>\n",
       "</div>"
      ],
      "text/plain": [
       "        Jan       Feb       Mar       Apr       May        Jun       Jul  \\\n",
       "0  8.875343  8.462217  9.877809  9.833973  9.571928  10.514888  9.701705   \n",
       "\n",
       "        Aug       Sep      Oct       Nov       Dec  \n",
       "0  9.847941  9.799947  9.26952  9.702786  8.784825  "
      ]
     },
     "execution_count": 7,
     "metadata": {},
     "output_type": "execute_result"
    }
   ],
   "source": [
    "months = {}\n",
    "averages = {}\n",
    "for i in range(len(df)):\n",
    "    date = df.loc[i, 'Date']\n",
    "    month = date.month\n",
    "    if month in months.keys():\n",
    "        high = months[month][0]\n",
    "        amount = months[month][1]\n",
    "        months[month] = [high + df.loc[i, 'High'], amount + 1]\n",
    "    else:\n",
    "        months[month] = [df.loc[i, 'High'], 1]\n",
    "               \n",
    "for month in months.keys():\n",
    "    averages[month] = months[month][0] / months[month][1]\n",
    "\n",
    "averageDF = {\n",
    "    \"Jan\" : averages[1],\n",
    "    \"Feb\" : averages[2],\n",
    "    \"Mar\" : averages[3],\n",
    "    \"Apr\" : averages[4],\n",
    "    \"May\" : averages[5],\n",
    "    \"Jun\" : averages[6],\n",
    "    \"Jul\" : averages[7],\n",
    "    \"Aug\" : averages[8],\n",
    "    \"Sep\" : averages[9],\n",
    "    \"Oct\" : averages[10],\n",
    "    \"Nov\" : averages[11],\n",
    "    \"Dec\" : averages[12]\n",
    "}\n",
    "    \n",
    "averageDF = pd.DataFrame(averageDF, index=[0])\n",
    "averageDF"
   ]
  },
  {
   "cell_type": "code",
   "execution_count": 8,
   "id": "471b6c2b",
   "metadata": {},
   "outputs": [
    {
     "data": {
      "text/plain": [
       "<AxesSubplot:xlabel='Volume', ylabel='Low'>"
      ]
     },
     "execution_count": 8,
     "metadata": {},
     "output_type": "execute_result"
    },
    {
     "data": {
      "image/png": "[encoded data removed]",
      "text/plain": [
       "<Figure size 640x480 with 1 Axes>"
      ]
     },
     "metadata": {},
     "output_type": "display_data"
    }
   ],
   "source": [
    "fixedX = KeyMethods.RemoveOutliers(df, \"Volume\")\n",
    "fixedDF = KeyMethods.RemoveOutliers(df, \"Low\")\n",
    "\n",
    "sns.scatterplot(data = fixedDF, x = \"Volume\", y = \"Low\")"
   ]
  },
  {
   "cell_type": "code",
   "execution_count": 9,
   "id": "c097eec5",
   "metadata": {},
   "outputs": [
    {
     "data": {
      "text/html": [
       "<div>\n",
       "<style scoped>\n",
       "    .dataframe tbody tr th:only-of-type {\n",
       "        vertical-align: middle;\n",
       "    }\n",
       "\n",
       "    .dataframe tbody tr th {\n",
       "        vertical-align: top;\n",
       "    }\n",
       "\n",
       "    .dataframe thead th {\n",
       "        text-align: right;\n",
       "    }\n",
       "</style>\n",
       "<table border=\"1\" class=\"dataframe\">\n",
       "  <thead>\n",
       "    <tr style=\"text-align: right;\">\n",
       "      <th></th>\n",
       "      <th>Volume</th>\n",
       "      <th>Low</th>\n",
       "    </tr>\n",
       "  </thead>\n",
       "  <tbody>\n",
       "    <tr>\n",
       "      <th>Volume</th>\n",
       "      <td>1.000000</td>\n",
       "      <td>-0.000375</td>\n",
       "    </tr>\n",
       "    <tr>\n",
       "      <th>Low</th>\n",
       "      <td>-0.000375</td>\n",
       "      <td>1.000000</td>\n",
       "    </tr>\n",
       "  </tbody>\n",
       "</table>\n",
       "</div>"
      ],
      "text/plain": [
       "          Volume       Low\n",
       "Volume  1.000000 -0.000375\n",
       "Low    -0.000375  1.000000"
      ]
     },
     "execution_count": 9,
     "metadata": {},
     "output_type": "execute_result"
    }
   ],
   "source": [
    "KeyMethods.calcCorr(df, \"Volume\", \"Low\", 'pearson')"
   ]
  },
  {
   "cell_type": "markdown",
   "id": "3b68919d",
   "metadata": {},
   "source": [
    "There is very minimal correlation between the lowest price and the volume traded in that day, with a correlation coefficient around -0.000375. The direction itself is negative, but a clear form or relationship is not present. "
   ]
  },
  {
   "cell_type": "code",
   "execution_count": 14,
   "id": "fd381257",
   "metadata": {
    "scrolled": false
   },
   "outputs": [
    {
     "name": "stderr",
     "output_type": "stream",
     "text": [
      "C:\\Users\\lbarber\\AppData\\Local\\Temp\\ipykernel_6780\\4209426443.py:3: SettingWithCopyWarning: \n",
      "A value is trying to be set on a copy of a slice from a DataFrame.\n",
      "Try using .loc[row_indexer,col_indexer] = value instead\n",
      "\n",
      "See the caveats in the documentation: https://pandas.pydata.org/pandas-docs/stable/user_guide/indexing.html#returning-a-view-versus-a-copy\n",
      "  fixedDF[\"Log High\"] = log_high\n"
     ]
    },
    {
     "data": {
      "text/plain": [
       "<AxesSubplot:xlabel='Date', ylabel='Log High'>"
      ]
     },
     "execution_count": 14,
     "metadata": {},
     "output_type": "execute_result"
    },
    {
     "data": {
      "image/png": "[encoded data removed]",
      "text/plain": [
       "<Figure size 640x480 with 1 Axes>"
      ]
     },
     "metadata": {},
     "output_type": "display_data"
    }
   ],
   "source": [
    "log_high = np.log(fixedDF['High'])\n",
    "\n",
    "fixedDF[\"Log High\"] = log_high\n",
    "\n",
    "sns.lineplot(data = fixedDF, x = \"Date\", y = \"Log High\")"
   ]
  },
  {
   "cell_type": "markdown",
   "id": "6fd1d03c",
   "metadata": {},
   "source": [
    "There is a minimal correlation until 2020 where there is a massive spike followed by a subtle decline. The direction itself is slightly positive, forming a  "
   ]
  },
  {
   "cell_type": "code",
   "execution_count": 17,
   "id": "6ce561c6",
   "metadata": {
    "scrolled": true
   },
   "outputs": [
    {
     "data": {
      "text/html": [
       "<div>\n",
       "<style scoped>\n",
       "    .dataframe tbody tr th:only-of-type {\n",
       "        vertical-align: middle;\n",
       "    }\n",
       "\n",
       "    .dataframe tbody tr th {\n",
       "        vertical-align: top;\n",
       "    }\n",
       "\n",
       "    .dataframe thead th {\n",
       "        text-align: right;\n",
       "    }\n",
       "</style>\n",
       "<table border=\"1\" class=\"dataframe\">\n",
       "  <thead>\n",
       "    <tr style=\"text-align: right;\">\n",
       "      <th></th>\n",
       "      <th>Date</th>\n",
       "      <th>Open</th>\n",
       "      <th>High</th>\n",
       "      <th>Low</th>\n",
       "      <th>Close</th>\n",
       "      <th>Adj Close</th>\n",
       "      <th>Volume</th>\n",
       "    </tr>\n",
       "  </thead>\n",
       "  <tbody>\n",
       "    <tr>\n",
       "      <th>5599</th>\n",
       "      <td>2024-05-13</td>\n",
       "      <td>26.34</td>\n",
       "      <td>38.200001</td>\n",
       "      <td>24.77</td>\n",
       "      <td>30.450001</td>\n",
       "      <td>30.450001</td>\n",
       "      <td>182308700</td>\n",
       "    </tr>\n",
       "  </tbody>\n",
       "</table>\n",
       "</div>"
      ],
      "text/plain": [
       "           Date   Open       High    Low      Close  Adj Close     Volume\n",
       "5599 2024-05-13  26.34  38.200001  24.77  30.450001  30.450001  182308700"
      ]
     },
     "execution_count": 17,
     "metadata": {},
     "output_type": "execute_result"
    }
   ],
   "source": [
    "df[df['Date'] == df['Date'].max()]"
   ]
  },
  {
   "cell_type": "code",
   "execution_count": 31,
   "id": "5c74b0c9",
   "metadata": {},
   "outputs": [
    {
     "data": {
      "text/plain": [
       "250.36363636363637"
      ]
     },
     "execution_count": 31,
     "metadata": {},
     "output_type": "execute_result"
    }
   ],
   "source": [
    "years = {}\n",
    "for date in df['Date']:\n",
    "    year = date.year\n",
    "    if year == 2024 : continue\n",
    "    if year in years.keys():\n",
    "        years[year] += 1\n",
    "    else:\n",
    "        years[year] = 1\n",
    "    \n",
    "average = sum(years.values()) / len(years)\n",
    "average"
   ]
  },
  {
   "cell_type": "code",
   "execution_count": 128,
   "id": "1a0b6602",
   "metadata": {},
   "outputs": [],
   "source": [
    "url = 'https://www.alphavantage.co/query?function=TIME_SERIES_DAILY&symbol=GME&interval=5min&apikey=U155V14OX0FBGL7B'\n",
    "r = requests.get(url)\n",
    "data = r.json()"
   ]
  },
  {
   "cell_type": "code",
   "execution_count": 129,
   "id": "89d3a04c",
   "metadata": {},
   "outputs": [
    {
     "name": "stdout",
     "output_type": "stream",
     "text": [
      "{'Information': 'Thank you for using Alpha Vantage! Our standard API rate limit is 25 requests per day. Please subscribe to any of the premium plans at https://www.alphavantage.co/premium/ to instantly remove all daily rate limits.'}\n"
     ]
    }
   ],
   "source": [
    "print(data)"
   ]
  },
  {
   "cell_type": "code",
   "execution_count": 131,
   "id": "997eb1da",
   "metadata": {
    "scrolled": false
   },
   "outputs": [
    {
     "ename": "KeyError",
     "evalue": "'Time Series'",
     "output_type": "error",
     "traceback": [
      "\u001b[1;31m---------------------------------------------------------------------------\u001b[0m",
      "\u001b[1;31mKeyError\u001b[0m                                  Traceback (most recent call last)",
      "\u001b[1;32m~\\AppData\\Local\\Temp\\ipykernel_6780\\971127163.py\u001b[0m in \u001b[0;36m<module>\u001b[1;34m\u001b[0m\n\u001b[1;32m----> 1\u001b[1;33m \u001b[0malphaDF\u001b[0m \u001b[1;33m=\u001b[0m \u001b[0mpd\u001b[0m\u001b[1;33m.\u001b[0m\u001b[0mDataFrame\u001b[0m\u001b[1;33m(\u001b[0m\u001b[0mdata\u001b[0m\u001b[1;33m[\u001b[0m\u001b[1;34m'Time Series'\u001b[0m\u001b[1;33m]\u001b[0m\u001b[1;33m)\u001b[0m\u001b[1;33m\u001b[0m\u001b[1;33m\u001b[0m\u001b[0m\n\u001b[0m\u001b[0;32m      2\u001b[0m \u001b[0malphaDF\u001b[0m \u001b[1;33m=\u001b[0m \u001b[0malphaDF\u001b[0m\u001b[1;33m.\u001b[0m\u001b[0mtranspose\u001b[0m\u001b[1;33m(\u001b[0m\u001b[1;33m)\u001b[0m\u001b[1;33m\u001b[0m\u001b[1;33m\u001b[0m\u001b[0m\n\u001b[0;32m      3\u001b[0m \u001b[0malphaDF\u001b[0m\u001b[1;33m.\u001b[0m\u001b[0mcolumns\u001b[0m \u001b[1;33m=\u001b[0m \u001b[1;33m[\u001b[0m\u001b[1;34m\"Open\"\u001b[0m\u001b[1;33m,\u001b[0m \u001b[1;34m\"High\"\u001b[0m\u001b[1;33m,\u001b[0m \u001b[1;34m\"Low\"\u001b[0m\u001b[1;33m,\u001b[0m \u001b[1;34m\"Close\"\u001b[0m\u001b[1;33m,\u001b[0m \u001b[1;34m\"Volume\"\u001b[0m\u001b[1;33m]\u001b[0m\u001b[1;33m\u001b[0m\u001b[1;33m\u001b[0m\u001b[0m\n\u001b[0;32m      4\u001b[0m \u001b[0malphaDF\u001b[0m\u001b[1;33m.\u001b[0m\u001b[0minsert\u001b[0m\u001b[1;33m(\u001b[0m\u001b[1;36m0\u001b[0m\u001b[1;33m,\u001b[0m \u001b[1;34m\"Date\"\u001b[0m\u001b[1;33m,\u001b[0m \u001b[0malphaDF\u001b[0m\u001b[1;33m.\u001b[0m\u001b[0mindex\u001b[0m\u001b[1;33m,\u001b[0m \u001b[1;32mTrue\u001b[0m\u001b[1;33m)\u001b[0m\u001b[1;33m\u001b[0m\u001b[1;33m\u001b[0m\u001b[0m\n\u001b[0;32m      5\u001b[0m \u001b[0mdates\u001b[0m \u001b[1;33m=\u001b[0m \u001b[0malphaDF\u001b[0m\u001b[1;33m[\u001b[0m\u001b[1;34m\"Date\"\u001b[0m\u001b[1;33m]\u001b[0m\u001b[1;33m\u001b[0m\u001b[1;33m\u001b[0m\u001b[0m\n",
      "\u001b[1;31mKeyError\u001b[0m: 'Time Series'"
     ]
    }
   ],
   "source": [
    "alphaDF = pd.DataFrame(data['Time Series'])\n",
    "alphaDF = alphaDF.transpose()\n",
    "alphaDF.columns = [\"Open\", \"High\", \"Low\", \"Close\", \"Volume\"]\n",
    "alphaDF.insert(0, \"Date\", alphaDF.index, True)\n",
    "dates = alphaDF[\"Date\"]\n",
    "fixedDates = []\n",
    "for date in dates:\n",
    "    yearDate = date.split()[0]\n",
    "    time = date.split()[1]\n",
    "    ts = pd.Timestamp(year = int(yearDate.split(\"-\")[0]),  month = int(yearDate.split(\"-\")[1]), day = int(yearDate.split(\"-\")[2]), tz = 'US/Central').floor(\"D\")\n",
    "    fixedDates.append(ts)\n",
    "alphaDF[\"Date\"] = fixedDates\n",
    "alphaDF[\"Date\"] = pd.to_datetime(alphaDF['Date']).dt.date\n",
    "alphaDF"
   ]
  },
  {
   "cell_type": "code",
   "execution_count": 56,
   "id": "3ec2039a",
   "metadata": {},
   "outputs": [],
   "source": [
    "df = df.drop('Adj Close', axis=1)"
   ]
  },
  {
   "cell_type": "code",
   "execution_count": 57,
   "id": "b901690b",
   "metadata": {},
   "outputs": [
    {
     "data": {
      "text/html": [
       "<div>\n",
       "<style scoped>\n",
       "    .dataframe tbody tr th:only-of-type {\n",
       "        vertical-align: middle;\n",
       "    }\n",
       "\n",
       "    .dataframe tbody tr th {\n",
       "        vertical-align: top;\n",
       "    }\n",
       "\n",
       "    .dataframe thead th {\n",
       "        text-align: right;\n",
       "    }\n",
       "</style>\n",
       "<table border=\"1\" class=\"dataframe\">\n",
       "  <thead>\n",
       "    <tr style=\"text-align: right;\">\n",
       "      <th></th>\n",
       "      <th>Date</th>\n",
       "      <th>Open</th>\n",
       "      <th>High</th>\n",
       "      <th>Low</th>\n",
       "      <th>Close</th>\n",
       "      <th>Volume</th>\n",
       "    </tr>\n",
       "  </thead>\n",
       "  <tbody>\n",
       "    <tr>\n",
       "      <th>0</th>\n",
       "      <td>2002-02-13</td>\n",
       "      <td>2.40625</td>\n",
       "      <td>2.51500</td>\n",
       "      <td>2.38125</td>\n",
       "      <td>2.51250</td>\n",
       "      <td>76216000</td>\n",
       "    </tr>\n",
       "    <tr>\n",
       "      <th>1</th>\n",
       "      <td>2002-02-14</td>\n",
       "      <td>2.54375</td>\n",
       "      <td>2.54875</td>\n",
       "      <td>2.48125</td>\n",
       "      <td>2.50000</td>\n",
       "      <td>11021600</td>\n",
       "    </tr>\n",
       "    <tr>\n",
       "      <th>2</th>\n",
       "      <td>2002-02-15</td>\n",
       "      <td>2.50000</td>\n",
       "      <td>2.50625</td>\n",
       "      <td>2.46250</td>\n",
       "      <td>2.48750</td>\n",
       "      <td>8389600</td>\n",
       "    </tr>\n",
       "    <tr>\n",
       "      <th>3</th>\n",
       "      <td>2002-02-19</td>\n",
       "      <td>2.47500</td>\n",
       "      <td>2.47500</td>\n",
       "      <td>2.34375</td>\n",
       "      <td>2.38750</td>\n",
       "      <td>7410400</td>\n",
       "    </tr>\n",
       "    <tr>\n",
       "      <th>4</th>\n",
       "      <td>2002-02-20</td>\n",
       "      <td>2.40000</td>\n",
       "      <td>2.46875</td>\n",
       "      <td>2.38125</td>\n",
       "      <td>2.46875</td>\n",
       "      <td>6892800</td>\n",
       "    </tr>\n",
       "  </tbody>\n",
       "</table>\n",
       "</div>"
      ],
      "text/plain": [
       "        Date     Open     High      Low    Close    Volume\n",
       "0 2002-02-13  2.40625  2.51500  2.38125  2.51250  76216000\n",
       "1 2002-02-14  2.54375  2.54875  2.48125  2.50000  11021600\n",
       "2 2002-02-15  2.50000  2.50625  2.46250  2.48750   8389600\n",
       "3 2002-02-19  2.47500  2.47500  2.34375  2.38750   7410400\n",
       "4 2002-02-20  2.40000  2.46875  2.38125  2.46875   6892800"
      ]
     },
     "execution_count": 57,
     "metadata": {},
     "output_type": "execute_result"
    }
   ],
   "source": [
    "df.head()"
   ]
  },
  {
   "cell_type": "code",
   "execution_count": 127,
   "id": "1368b39a",
   "metadata": {},
   "outputs": [
    {
     "data": {
      "text/html": [
       "<div>\n",
       "<style scoped>\n",
       "    .dataframe tbody tr th:only-of-type {\n",
       "        vertical-align: middle;\n",
       "    }\n",
       "\n",
       "    .dataframe tbody tr th {\n",
       "        vertical-align: top;\n",
       "    }\n",
       "\n",
       "    .dataframe thead th {\n",
       "        text-align: right;\n",
       "    }\n",
       "</style>\n",
       "<table border=\"1\" class=\"dataframe\">\n",
       "  <thead>\n",
       "    <tr style=\"text-align: right;\">\n",
       "      <th></th>\n",
       "      <th>Date</th>\n",
       "      <th>Open</th>\n",
       "      <th>High</th>\n",
       "      <th>Low</th>\n",
       "      <th>Close</th>\n",
       "      <th>Volume</th>\n",
       "    </tr>\n",
       "  </thead>\n",
       "  <tbody>\n",
       "    <tr>\n",
       "      <th>0</th>\n",
       "      <td>2002-02-13</td>\n",
       "      <td>2.40625</td>\n",
       "      <td>2.515</td>\n",
       "      <td>2.38125</td>\n",
       "      <td>2.5125</td>\n",
       "      <td>76216000</td>\n",
       "    </tr>\n",
       "    <tr>\n",
       "      <th>1</th>\n",
       "      <td>2002-02-14</td>\n",
       "      <td>2.54375</td>\n",
       "      <td>2.54875</td>\n",
       "      <td>2.48125</td>\n",
       "      <td>2.5</td>\n",
       "      <td>11021600</td>\n",
       "    </tr>\n",
       "    <tr>\n",
       "      <th>2</th>\n",
       "      <td>2002-02-15</td>\n",
       "      <td>2.5</td>\n",
       "      <td>2.50625</td>\n",
       "      <td>2.4625</td>\n",
       "      <td>2.4875</td>\n",
       "      <td>8389600</td>\n",
       "    </tr>\n",
       "    <tr>\n",
       "      <th>3</th>\n",
       "      <td>2002-02-19</td>\n",
       "      <td>2.475</td>\n",
       "      <td>2.475</td>\n",
       "      <td>2.34375</td>\n",
       "      <td>2.3875</td>\n",
       "      <td>7410400</td>\n",
       "    </tr>\n",
       "    <tr>\n",
       "      <th>4</th>\n",
       "      <td>2002-02-20</td>\n",
       "      <td>2.4</td>\n",
       "      <td>2.46875</td>\n",
       "      <td>2.38125</td>\n",
       "      <td>2.46875</td>\n",
       "      <td>6892800</td>\n",
       "    </tr>\n",
       "    <tr>\n",
       "      <th>...</th>\n",
       "      <td>...</td>\n",
       "      <td>...</td>\n",
       "      <td>...</td>\n",
       "      <td>...</td>\n",
       "      <td>...</td>\n",
       "      <td>...</td>\n",
       "    </tr>\n",
       "    <tr>\n",
       "      <th>5695</th>\n",
       "      <td>2024-09-26</td>\n",
       "      <td>22.3300</td>\n",
       "      <td>22.3498</td>\n",
       "      <td>22.2800</td>\n",
       "      <td>22.3250</td>\n",
       "      <td>30555</td>\n",
       "    </tr>\n",
       "    <tr>\n",
       "      <th>5696</th>\n",
       "      <td>2024-09-26</td>\n",
       "      <td>22.2900</td>\n",
       "      <td>22.3500</td>\n",
       "      <td>22.2600</td>\n",
       "      <td>22.3350</td>\n",
       "      <td>34243</td>\n",
       "    </tr>\n",
       "    <tr>\n",
       "      <th>5697</th>\n",
       "      <td>2024-09-26</td>\n",
       "      <td>22.2500</td>\n",
       "      <td>22.3200</td>\n",
       "      <td>22.2500</td>\n",
       "      <td>22.2850</td>\n",
       "      <td>21062</td>\n",
       "    </tr>\n",
       "    <tr>\n",
       "      <th>5698</th>\n",
       "      <td>2024-09-26</td>\n",
       "      <td>22.2801</td>\n",
       "      <td>22.3204</td>\n",
       "      <td>22.2412</td>\n",
       "      <td>22.2500</td>\n",
       "      <td>30577</td>\n",
       "    </tr>\n",
       "    <tr>\n",
       "      <th>5699</th>\n",
       "      <td>2024-09-26</td>\n",
       "      <td>22.2800</td>\n",
       "      <td>22.3000</td>\n",
       "      <td>22.2101</td>\n",
       "      <td>22.2814</td>\n",
       "      <td>48461</td>\n",
       "    </tr>\n",
       "  </tbody>\n",
       "</table>\n",
       "<p>5700 rows × 6 columns</p>\n",
       "</div>"
      ],
      "text/plain": [
       "            Date     Open     High      Low    Close    Volume\n",
       "0     2002-02-13  2.40625    2.515  2.38125   2.5125  76216000\n",
       "1     2002-02-14  2.54375  2.54875  2.48125      2.5  11021600\n",
       "2     2002-02-15      2.5  2.50625   2.4625   2.4875   8389600\n",
       "3     2002-02-19    2.475    2.475  2.34375   2.3875   7410400\n",
       "4     2002-02-20      2.4  2.46875  2.38125  2.46875   6892800\n",
       "...          ...      ...      ...      ...      ...       ...\n",
       "5695  2024-09-26  22.3300  22.3498  22.2800  22.3250     30555\n",
       "5696  2024-09-26  22.2900  22.3500  22.2600  22.3350     34243\n",
       "5697  2024-09-26  22.2500  22.3200  22.2500  22.2850     21062\n",
       "5698  2024-09-26  22.2801  22.3204  22.2412  22.2500     30577\n",
       "5699  2024-09-26  22.2800  22.3000  22.2101  22.2814     48461\n",
       "\n",
       "[5700 rows x 6 columns]"
      ]
     },
     "execution_count": 127,
     "metadata": {},
     "output_type": "execute_result"
    }
   ],
   "source": [
    "df[\"Date\"] = pd.to_datetime(df['Date']).dt.date\n",
    "conDF = pd.concat([df, alphaDF], ignore_index=True, sort=False)\n",
    "conDF"
   ]
  },
  {
   "cell_type": "code",
   "execution_count": 118,
   "id": "a71010b8",
   "metadata": {},
   "outputs": [
    {
     "data": {
      "text/plain": [
       "192"
      ]
     },
     "execution_count": 118,
     "metadata": {},
     "output_type": "execute_result"
    }
   ],
   "source": [
    "days = 0\n",
    "for date in conDF['Date']:\n",
    "    year = date.year\n",
    "    if year != 2024 : continue\n",
    "    days += 1\n",
    "days"
   ]
  },
  {
   "cell_type": "code",
   "execution_count": null,
   "id": "32896ddb",
   "metadata": {},
   "outputs": [],
   "source": []
  }
 ],
 "metadata": {
  "kernelspec": {
   "display_name": "Python 3 (ipykernel)",
   "language": "python",
   "name": "python3"
  },
  "language_info": {
   "codemirror_mode": {
    "name": "ipython",
    "version": 3
   },
   "file_extension": ".py",
   "mimetype": "text/x-python",
   "name": "python",
   "nbconvert_exporter": "python",
   "pygments_lexer": "ipython3",
   "version": "3.9.13"
  }
 },
 "nbformat": 4,
 "nbformat_minor": 5
}
