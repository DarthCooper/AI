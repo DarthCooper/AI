{
 "cells": [
  {
   "cell_type": "code",
   "execution_count": 2,
   "id": "e5b0c097",
   "metadata": {},
   "outputs": [],
   "source": [
    "from enum import Enum\n",
    "import random\n",
    "from utils.EmpiricalProbability import RunSimulation"
   ]
  },
  {
   "cell_type": "markdown",
   "id": "620c5c0d",
   "metadata": {},
   "source": [
    "# Cilantro"
   ]
  },
  {
   "cell_type": "code",
   "execution_count": 3,
   "id": "d700fa1b",
   "metadata": {},
   "outputs": [
    {
     "name": "stdout",
     "output_type": "stream",
     "text": [
      "Empirical Probability: 0.75136\n"
     ]
    }
   ],
   "source": [
    "class MomTopGenes(Enum):\n",
    "    AA = \"AA\"\n",
    "    AG = \"AG\"\n",
    "    GG = \"GG\"\n",
    "    \n",
    "class MomBottomGenes(Enum):\n",
    "    CC = \"CC\"\n",
    "    CT = \"CT\"\n",
    "    TT = \"TT\"\n",
    "\n",
    "def getMomGenes() -> str:\n",
    "    return list(MomTopGenes)[random.randint(0, len(MomTopGenes) - 1)].value + \"/\" + list(MomBottomGenes)[random.randint(0, len(MomBottomGenes) - 1)].value\n",
    "    \n",
    "trials = 100000\n",
    "count = 0\n",
    "dislike = 0\n",
    "while count < trials:\n",
    "    mGene = getMomGenes()\n",
    "    while(mGene == \"GG/TT\"):\n",
    "        mGene = getMomGenes()\n",
    "    dGene = \"GG/TT\"\n",
    "    gene = mGene.split('/')[random.randint(0, 1)] + dGene.split('/')[random.randint(0, 1)]\n",
    "    if(\"AA\" in gene or \"AG\" in gene or \"CC\" in gene or \"CT\" in gene):\n",
    "        dislike += 1\n",
    "    count += 1\n",
    "    \n",
    "print(\"Empirical Probability:\", str((dislike/trials)))"
   ]
  },
  {
   "cell_type": "code",
   "execution_count": null,
   "id": "ba1e6f28",
   "metadata": {},
   "outputs": [],
   "source": []
  }
 ],
 "metadata": {
  "kernelspec": {
   "display_name": "Python 3 (ipykernel)",
   "language": "python",
   "name": "python3"
  },
  "language_info": {
   "codemirror_mode": {
    "name": "ipython",
    "version": 3
   },
   "file_extension": ".py",
   "mimetype": "text/x-python",
   "name": "python",
   "nbconvert_exporter": "python",
   "pygments_lexer": "ipython3",
   "version": "3.9.13"
  }
 },
 "nbformat": 4,
 "nbformat_minor": 5
}
