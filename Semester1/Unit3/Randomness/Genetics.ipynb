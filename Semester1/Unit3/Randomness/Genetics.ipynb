{
 "cells": [
  {
   "cell_type": "code",
   "execution_count": 2,
   "id": "34f900b0",
   "metadata": {},
   "outputs": [],
   "source": [
    "from enum import Enum\n",
    "import random\n",
    "from utils.EmpiricalProbability import RunSimulation"
   ]
  },
  {
   "cell_type": "markdown",
   "id": "632a920b",
   "metadata": {},
   "source": [
    "# Cilantro"
   ]
  },
  {
   "cell_type": "code",
   "execution_count": 13,
   "id": "2749b55d",
   "metadata": {},
   "outputs": [
    {
     "name": "stdout",
     "output_type": "stream",
     "text": [
      "Empirical Probability: 0.729\n"
     ]
    }
   ],
   "source": [
    "class MomTopGenes(Enum):\n",
    "    AA = \"AA\"\n",
    "    AG = \"AG\"\n",
    "    GG = \"GG\"\n",
    "    \n",
    "class MomBottomGenes(Enum):\n",
    "    CC = \"CC\"\n",
    "    CT = \"CT\"\n",
    "    TT = \"TT\"\n",
    "\n",
    "def getMomGenes() -> str:\n",
    "    return list(MomTopGenes)[random.randint(0, len(MomTopGenes) - 1)].value + \"/\" + list(MomBottomGenes)[random.randint(0, len(MomBottomGenes) - 1)].value\n",
    "    \n",
    "trials = 1000\n",
    "count = 0\n",
    "dislike = 0\n",
    "while count < trials:\n",
    "    mGene = getMomGenes()\n",
    "    while(mGene == \"GG/TT\"):\n",
    "        mGene = getMomGenes()\n",
    "    dGene = \"GG/TT\"\n",
    "    gene = mGene.split('/')[random.randint(0, 1)] + dGene.split('/')[random.randint(0, 1)]\n",
    "    if(\"AA\" in gene or \"AG\" in gene or \"CC\" in gene or \"CT\" in gene):\n",
    "        dislike += 1\n",
    "    count += 1\n",
    "    \n",
    "print(\"Empirical Probability:\", str((dislike/trials)))"
   ]
  },
  {
   "cell_type": "markdown",
   "id": "b6ac4e2f",
   "metadata": {},
   "source": [
    "# Eye Color"
   ]
  },
  {
   "cell_type": "markdown",
   "id": "f63c6f4b",
   "metadata": {},
   "source": [
    "AA - brown,<br>\n",
    "AG - Hazel,<br>\n",
    "GG - Blue,\n",
    "\n",
    "Girl = 1/2<br>\n",
    "BlueEye = 1/3\n",
    "\n",
    "Blue Eyed Girl = 1/6 = ~16%"
   ]
  },
  {
   "cell_type": "code",
   "execution_count": 22,
   "id": "b777d94c",
   "metadata": {},
   "outputs": [],
   "source": [
    "class EyeGenes(Enum):\n",
    "    AA = \"AA\"\n",
    "    AG = \"AG\"\n",
    "    GG = \"GG\""
   ]
  },
  {
   "cell_type": "code",
   "execution_count": 32,
   "id": "66d6279a",
   "metadata": {},
   "outputs": [
    {
     "name": "stdout",
     "output_type": "stream",
     "text": [
      "Empirical Probability: 0.159\n"
     ]
    }
   ],
   "source": [
    "trials = 1000\n",
    "count = 0\n",
    "blueEyed = 0\n",
    "while count < trials:\n",
    "    dGene = list(EyeGenes)[random.randint(0, len(EyeGenes) - 1)].value + \"/\" + list(EyeGenes)[random.randint(0, len(EyeGenes) - 1)].value\n",
    "    gene = \"GG\" + dGene.split('/')[random.randint(0, 1)]\n",
    "    sex = random.randint(0, 1)\n",
    "    if(gene == \"GGGG\" and sex == 0):\n",
    "        blueEyed += 1\n",
    "    count += 1\n",
    "    \n",
    "print(\"Empirical Probability:\", str((blueEyed/trials)))"
   ]
  },
  {
   "cell_type": "code",
   "execution_count": null,
   "id": "5d5d17da",
   "metadata": {},
   "outputs": [],
   "source": []
  }
 ],
 "metadata": {
  "kernelspec": {
   "display_name": "Python 3 (ipykernel)",
   "language": "python",
   "name": "python3"
  },
  "language_info": {
   "codemirror_mode": {
    "name": "ipython",
    "version": 3
   },
   "file_extension": ".py",
   "mimetype": "text/x-python",
   "name": "python",
   "nbconvert_exporter": "python",
   "pygments_lexer": "ipython3",
   "version": "3.9.13"
  }
 },
 "nbformat": 4,
 "nbformat_minor": 5
}
