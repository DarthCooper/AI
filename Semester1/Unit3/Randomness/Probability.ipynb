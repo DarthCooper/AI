{
 "cells": [
  {
   "cell_type": "code",
   "execution_count": 1,
   "id": "91f6539e",
   "metadata": {},
   "outputs": [],
   "source": [
    "from enum import Enum\n",
    "import random\n",
    "from utils.EmpiricalProbability import RunSimulation"
   ]
  },
  {
   "cell_type": "code",
   "execution_count": 2,
   "id": "e22221ea",
   "metadata": {},
   "outputs": [
    {
     "name": "stdout",
     "output_type": "stream",
     "text": [
      "Empirical Probability: 0.179\n"
     ]
    }
   ],
   "source": [
    "rounds = 0\n",
    "trials = 1000\n",
    "hot_chips = 0\n",
    "while rounds < trials:\n",
    "    num = random.randint(1, 6)\n",
    "    if num == 1:\n",
    "        hot_chips += 1\n",
    "    rounds += 1\n",
    "\n",
    "print(\"Empirical Probability:\", str((hot_chips/trials)))"
   ]
  },
  {
   "cell_type": "code",
   "execution_count": 16,
   "id": "f0a6cd80",
   "metadata": {},
   "outputs": [
    {
     "name": "stdout",
     "output_type": "stream",
     "text": [
      "Empirical Probability: 0.152\n"
     ]
    }
   ],
   "source": [
    "rounds = 0\n",
    "trials = 1000\n",
    "kingsOrQueens = 0\n",
    "while rounds < trials:\n",
    "    num = random.randint(1, 13)\n",
    "    if num in range(1, 3):\n",
    "        kingsOrQueens += 1\n",
    "    rounds += 1\n",
    "\n",
    "print(\"Empirical Probability:\", str((kingsOrQueens/trials)))"
   ]
  },
  {
   "cell_type": "code",
   "execution_count": 12,
   "id": "85cee390",
   "metadata": {},
   "outputs": [
    {
     "name": "stdout",
     "output_type": "stream",
     "text": [
      "Empirical Probability: 0.072\n"
     ]
    }
   ],
   "source": [
    "rounds = 0\n",
    "trials = 1000\n",
    "Queens = 0\n",
    "while rounds < trials:\n",
    "    num = random.randint(1, 13)\n",
    "    if num == 1:\n",
    "        Queens += 1\n",
    "    rounds += 1\n",
    "\n",
    "print(\"Empirical Probability:\", str((Queens/trials)))"
   ]
  },
  {
   "cell_type": "markdown",
   "id": "d2315c2f",
   "metadata": {},
   "source": [
    "# Blood Types\n",
    "\n",
    "O- or AB- probability = 7.2% or 0.072"
   ]
  },
  {
   "cell_type": "code",
   "execution_count": 36,
   "id": "8f8a676f",
   "metadata": {},
   "outputs": [
    {
     "data": {
      "text/plain": [
       "{'OandABNegative': 0.072, None: 0.928}"
      ]
     },
     "execution_count": 36,
     "metadata": {},
     "output_type": "execute_result"
    }
   ],
   "source": [
    "class BloodTypes(Enum):\n",
    "    OandABNegative = range(0, 72)\n",
    "\n",
    "def GatherData():\n",
    "    num = random.randint(0, 1000)\n",
    "    for bloodType in BloodTypes:\n",
    "        if num in bloodType.value:\n",
    "            return bloodType.name\n",
    "    else:\n",
    "        return None\n",
    "    \n",
    "rounds = 0\n",
    "trials = 1000   \n",
    "pieces = {i.name: 0 for i in BloodTypes}\n",
    "pieces[None] = 0\n",
    "for i in range(0, trials):\n",
    "    pieces[GatherData()] += 1\n",
    "    \n",
    "for piece in pieces:\n",
    "    pieces[piece] /= 1000\n",
    "    \n",
    "pieces"
   ]
  },
  {
   "cell_type": "markdown",
   "id": "cfef2152",
   "metadata": {},
   "source": [
    "The values are off by roughly 0.002 each time. Again the Theoretical probability is a static fraction while the Empirical is a simulated result. One result is going to vary as it doesn't follow an exact pattern."
   ]
  },
  {
   "cell_type": "code",
   "execution_count": 3,
   "id": "92e4a05e",
   "metadata": {},
   "outputs": [
    {
     "data": {
      "text/plain": [
       "{'OPositive': 0.392,\n",
       " 'ONegative': 0.065,\n",
       " 'APositive': 0.356,\n",
       " 'ANegative': 0.058,\n",
       " 'BPositive': 0.085,\n",
       " 'BNegative': 0.014,\n",
       " 'ABPositive': 0.026,\n",
       " 'ABNegative': 0.004}"
      ]
     },
     "execution_count": 3,
     "metadata": {},
     "output_type": "execute_result"
    }
   ],
   "source": [
    "class BloodTypes(Enum):\n",
    "    OPositive = range(1, 374)\n",
    "    ONegative = range(374, 440)\n",
    "    APositive = range(440, 797)\n",
    "    ANegative = range(797, 860)\n",
    "    BPositive = range(860, 945)\n",
    "    BNegative = range(945, 960)\n",
    "    ABPositive = range(960, 996)\n",
    "    ABNegative = range(996, 1001)\n",
    "    \n",
    "sim = RunSimulation(1000, 1000, 0, BloodTypes)\n",
    "sim.GetEmpirical()"
   ]
  },
  {
   "cell_type": "code",
   "execution_count": 4,
   "id": "082116a2",
   "metadata": {},
   "outputs": [
    {
     "data": {
      "text/plain": [
       "{'OandABNegative': 0.064, None: 0.936}"
      ]
     },
     "execution_count": 4,
     "metadata": {},
     "output_type": "execute_result"
    }
   ],
   "source": [
    "class BloodTypes(Enum):\n",
    "    OandABNegative = range(0, 72)\n",
    "    \n",
    "sim = RunSimulation(1000, 1000, 0, BloodTypes)\n",
    "sim.GetEmpirical()"
   ]
  },
  {
   "cell_type": "markdown",
   "id": "0dc99e63",
   "metadata": {},
   "source": [
    "# Password Hacking\n",
    "Theoretical probability - There is a roughly 15% chance of guessing a correct character with a 2.52977675E-28% chance of guessing the actual full password."
   ]
  },
  {
   "cell_type": "code",
   "execution_count": 30,
   "id": "c3d27daf",
   "metadata": {},
   "outputs": [
    {
     "data": {
      "text/plain": [
       "{'correct': 0.17100000000000004, 'wrong': 14.829}"
      ]
     },
     "execution_count": 30,
     "metadata": {},
     "output_type": "execute_result"
    }
   ],
   "source": [
    "class CorrectKeys(Enum):\n",
    "    correct = range(0, 1)\n",
    "    wrong = range(1, 95)\n",
    "\n",
    "keys = {i.name: 0 for i in CorrectKeys}\n",
    "for i in range(0, 15):\n",
    "    sim = RunSimulation(1000, 94, 0, CorrectKeys)\n",
    "    simKeys = sim.GetEmpirical()\n",
    "    for key in simKeys:\n",
    "        keys[key] += simKeys[key]\n",
    "\n",
    "keys"
   ]
  },
  {
   "cell_type": "markdown",
   "id": "41f67b59",
   "metadata": {},
   "source": [
    "# 2 FA\n",
    "3.6670351629972945817829842292783e-42 of guessing the password and guessing the six digit 2-factor authentication code. WTF"
   ]
  },
  {
   "cell_type": "code",
   "execution_count": 32,
   "id": "ca6c91b4",
   "metadata": {},
   "outputs": [
    {
     "name": "stdout",
     "output_type": "stream",
     "text": [
      "Empirical Probability: 0.0\n"
     ]
    }
   ],
   "source": [
    "trials = 1000\n",
    "count = 0\n",
    "key = 0\n",
    "while count < trials:\n",
    "    combos = (94**15) * (10**6)\n",
    "    num = random.randint(1, combos)\n",
    "    if(num == 1):\n",
    "        key += 1\n",
    "    count += 1\n",
    "    \n",
    "print(\"Empirical Probability:\", str((key/trials)))"
   ]
  },
  {
   "cell_type": "code",
   "execution_count": null,
   "id": "84191c88",
   "metadata": {},
   "outputs": [],
   "source": []
  }
 ],
 "metadata": {
  "kernelspec": {
   "display_name": "Python 3 (ipykernel)",
   "language": "python",
   "name": "python3"
  },
  "language_info": {
   "codemirror_mode": {
    "name": "ipython",
    "version": 3
   },
   "file_extension": ".py",
   "mimetype": "text/x-python",
   "name": "python",
   "nbconvert_exporter": "python",
   "pygments_lexer": "ipython3",
   "version": "3.9.13"
  }
 },
 "nbformat": 4,
 "nbformat_minor": 5
}
