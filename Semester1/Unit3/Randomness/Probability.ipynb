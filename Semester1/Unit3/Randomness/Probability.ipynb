{
 "cells": [
  {
   "cell_type": "code",
   "execution_count": 1,
   "id": "95934985",
   "metadata": {},
   "outputs": [],
   "source": [
    "from enum import Enum\n",
    "import random\n",
    "from utils.EmpiricalProbability import RunSimulation"
   ]
  },
  {
   "cell_type": "code",
   "execution_count": 2,
   "id": "baa99dc4",
   "metadata": {},
   "outputs": [
    {
     "name": "stdout",
     "output_type": "stream",
     "text": [
      "Empirical Probability: 0.179\n"
     ]
    }
   ],
   "source": [
    "rounds = 0\n",
    "trials = 1000\n",
    "hot_chips = 0\n",
    "while rounds < trials:\n",
    "    num = random.randint(1, 6)\n",
    "    if num == 1:\n",
    "        hot_chips += 1\n",
    "    rounds += 1\n",
    "\n",
    "print(\"Empirical Probability:\", str((hot_chips/trials)))"
   ]
  },
  {
   "cell_type": "code",
   "execution_count": 16,
   "id": "0b3e2e7a",
   "metadata": {},
   "outputs": [
    {
     "name": "stdout",
     "output_type": "stream",
     "text": [
      "Empirical Probability: 0.152\n"
     ]
    }
   ],
   "source": [
    "rounds = 0\n",
    "trials = 1000\n",
    "kingsOrQueens = 0\n",
    "while rounds < trials:\n",
    "    num = random.randint(1, 13)\n",
    "    if num in range(1, 3):\n",
    "        kingsOrQueens += 1\n",
    "    rounds += 1\n",
    "\n",
    "print(\"Empirical Probability:\", str((kingsOrQueens/trials)))"
   ]
  },
  {
   "cell_type": "code",
   "execution_count": 12,
   "id": "22415fda",
   "metadata": {},
   "outputs": [
    {
     "name": "stdout",
     "output_type": "stream",
     "text": [
      "Empirical Probability: 0.072\n"
     ]
    }
   ],
   "source": [
    "rounds = 0\n",
    "trials = 1000\n",
    "Queens = 0\n",
    "while rounds < trials:\n",
    "    num = random.randint(1, 13)\n",
    "    if num == 1:\n",
    "        Queens += 1\n",
    "    rounds += 1\n",
    "\n",
    "print(\"Empirical Probability:\", str((Queens/trials)))"
   ]
  },
  {
   "cell_type": "markdown",
   "id": "41e6227c",
   "metadata": {},
   "source": [
    "# Blood Types\n",
    "\n",
    "O- or AB- probability = 7.2% or 0.072"
   ]
  },
  {
   "cell_type": "code",
   "execution_count": 36,
   "id": "b5a98a2b",
   "metadata": {},
   "outputs": [
    {
     "data": {
      "text/plain": [
       "{'OandABNegative': 0.072, None: 0.928}"
      ]
     },
     "execution_count": 36,
     "metadata": {},
     "output_type": "execute_result"
    }
   ],
   "source": [
    "class BloodTypes(Enum):\n",
    "    OandABNegative = range(0, 72)\n",
    "\n",
    "def GatherData():\n",
    "    num = random.randint(0, 1000)\n",
    "    for bloodType in BloodTypes:\n",
    "        if num in bloodType.value:\n",
    "            return bloodType.name\n",
    "    else:\n",
    "        return None\n",
    "    \n",
    "rounds = 0\n",
    "trials = 1000   \n",
    "pieces = {i.name: 0 for i in BloodTypes}\n",
    "pieces[None] = 0\n",
    "for i in range(0, trials):\n",
    "    pieces[GatherData()] += 1\n",
    "    \n",
    "for piece in pieces:\n",
    "    pieces[piece] /= 1000\n",
    "    \n",
    "pieces"
   ]
  },
  {
   "cell_type": "markdown",
   "id": "96a7b061",
   "metadata": {},
   "source": [
    "The values are off by roughly 0.002 each time. Again the Theoretical probability is a static fraction while the Empirical is a simulated result. One result is going to vary as it doesn't follow an exact pattern."
   ]
  },
  {
   "cell_type": "code",
   "execution_count": 3,
   "id": "4d97c83b",
   "metadata": {},
   "outputs": [
    {
     "data": {
      "text/plain": [
       "{'OPositive': 0.392,\n",
       " 'ONegative': 0.065,\n",
       " 'APositive': 0.356,\n",
       " 'ANegative': 0.058,\n",
       " 'BPositive': 0.085,\n",
       " 'BNegative': 0.014,\n",
       " 'ABPositive': 0.026,\n",
       " 'ABNegative': 0.004}"
      ]
     },
     "execution_count": 3,
     "metadata": {},
     "output_type": "execute_result"
    }
   ],
   "source": [
    "class BloodTypes(Enum):\n",
    "    OPositive = range(1, 374)\n",
    "    ONegative = range(374, 440)\n",
    "    APositive = range(440, 797)\n",
    "    ANegative = range(797, 860)\n",
    "    BPositive = range(860, 945)\n",
    "    BNegative = range(945, 960)\n",
    "    ABPositive = range(960, 996)\n",
    "    ABNegative = range(996, 1001)\n",
    "    \n",
    "sim = RunSimulation(1000, 1000, 0, BloodTypes)\n",
    "sim.GetEmpirical()"
   ]
  },
  {
   "cell_type": "code",
   "execution_count": 4,
   "id": "321abb3d",
   "metadata": {},
   "outputs": [
    {
     "data": {
      "text/plain": [
       "{'OandABNegative': 0.064, None: 0.936}"
      ]
     },
     "execution_count": 4,
     "metadata": {},
     "output_type": "execute_result"
    }
   ],
   "source": [
    "class BloodTypes(Enum):\n",
    "    OandABNegative = range(0, 72)\n",
    "    \n",
    "sim = RunSimulation(1000, 1000, 0, BloodTypes)\n",
    "sim.GetEmpirical()"
   ]
  },
  {
   "cell_type": "code",
   "execution_count": null,
   "id": "4232de90",
   "metadata": {},
   "outputs": [],
   "source": []
  }
 ],
 "metadata": {
  "kernelspec": {
   "display_name": "Python 3 (ipykernel)",
   "language": "python",
   "name": "python3"
  },
  "language_info": {
   "codemirror_mode": {
    "name": "ipython",
    "version": 3
   },
   "file_extension": ".py",
   "mimetype": "text/x-python",
   "name": "python",
   "nbconvert_exporter": "python",
   "pygments_lexer": "ipython3",
   "version": "3.9.13"
  }
 },
 "nbformat": 4,
 "nbformat_minor": 5
}
