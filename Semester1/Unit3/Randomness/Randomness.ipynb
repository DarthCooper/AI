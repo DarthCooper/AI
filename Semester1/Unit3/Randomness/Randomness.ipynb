{
 "cells": [
  {
   "cell_type": "code",
   "execution_count": 1,
   "id": "109646ec",
   "metadata": {},
   "outputs": [],
   "source": [
    "from enum import Enum\n",
    "import random\n",
    "from utils.Simulation import RunSimulation"
   ]
  },
  {
   "cell_type": "code",
   "execution_count": 2,
   "id": "612d94d5",
   "metadata": {},
   "outputs": [],
   "source": [
    "def GetMarbles(picked):\n",
    "    for marble in Marbles:\n",
    "        if picked in marble.value:\n",
    "            return marble.name"
   ]
  },
  {
   "cell_type": "code",
   "execution_count": 3,
   "id": "43c4dedd",
   "metadata": {},
   "outputs": [],
   "source": [
    "class Marbles(Enum):\n",
    "    RED = range(0, 33)\n",
    "    BLUE = range(33, 66)\n",
    "    GREEN = range(66, 100)"
   ]
  },
  {
   "cell_type": "code",
   "execution_count": 4,
   "id": "21d17ca9",
   "metadata": {},
   "outputs": [
    {
     "name": "stdout",
     "output_type": "stream",
     "text": [
      "{'RED': 328, 'BLUE': 320, 'GREEN': 352}\n"
     ]
    }
   ],
   "source": [
    "marbles = {Marbles.RED.name : 0, Marbles.BLUE.name : 0, Marbles.GREEN.name : 0}\n",
    "for i in range(0, 1000):\n",
    "    pick = random.randint(1, 99)\n",
    "    marbles[GetMarbles(pick)] += 1\n",
    "print(marbles)"
   ]
  },
  {
   "cell_type": "code",
   "execution_count": 5,
   "id": "53213eb6",
   "metadata": {},
   "outputs": [],
   "source": [
    "class TeenieBeanies(Enum):\n",
    "    Patti_The_Platypus = range(0, 10)\n",
    "    Pinky_The_Flamingo = range(10, 20)\n",
    "    Chops_The_Lamb = range(20, 30)\n",
    "    Chocolate_The_Moose = range(30, 40)\n",
    "    Goldie_The_Goldfish = range(40, 50)\n",
    "    Speedy_The_Turtle = range(50, 60)\n",
    "    Seamore_The_Seal = range(60, 70)\n",
    "    Snort_The_Bull = range(70, 80)\n",
    "    Quacks_The_Duck = range(80, 90)\n",
    "    Lizz_The_Lizard = range(90, 100)"
   ]
  },
  {
   "cell_type": "code",
   "execution_count": 6,
   "id": "6e369aee",
   "metadata": {},
   "outputs": [
    {
     "name": "stdout",
     "output_type": "stream",
     "text": [
      "29.391\n"
     ]
    }
   ],
   "source": [
    "sim = RunSimulation(1000, 1, TeenieBeanies)\n",
    "print(sim.getAverage())"
   ]
  },
  {
   "cell_type": "code",
   "execution_count": 7,
   "id": "bebfb765",
   "metadata": {},
   "outputs": [
    {
     "ename": "NameError",
     "evalue": "name 'WorldSeries' is not defined",
     "output_type": "error",
     "traceback": [
      "\u001b[1;31m---------------------------------------------------------------------------\u001b[0m",
      "\u001b[1;31mNameError\u001b[0m                                 Traceback (most recent call last)",
      "\u001b[1;32m~\\AppData\\Local\\Temp\\ipykernel_15064\\2340192856.py\u001b[0m in \u001b[0;36m<module>\u001b[1;34m\u001b[0m\n\u001b[1;32m----> 1\u001b[1;33m \u001b[0msim\u001b[0m \u001b[1;33m=\u001b[0m \u001b[0mRunSimulation\u001b[0m\u001b[1;33m(\u001b[0m\u001b[1;36m1000\u001b[0m\u001b[1;33m,\u001b[0m \u001b[1;36m1\u001b[0m\u001b[1;33m,\u001b[0m \u001b[0mWorldSeries\u001b[0m\u001b[1;33m)\u001b[0m\u001b[1;33m\u001b[0m\u001b[1;33m\u001b[0m\u001b[0m\n\u001b[0m",
      "\u001b[1;31mNameError\u001b[0m: name 'WorldSeries' is not defined"
     ]
    }
   ],
   "source": [
    "sim = RunSimulation(1000, 1, WorldSeries)\n"
   ]
  },
  {
   "cell_type": "code",
   "execution_count": null,
   "id": "79d4d3c0",
   "metadata": {},
   "outputs": [],
   "source": [
    "class WorldSeries(Enum):\n",
    "    DodgersHome = range(0, 55)\n",
    "    YankeesHome = range(0, 55)\n",
    "    DodgersAway = range(55, 100)\n",
    "    YankeesAway = range(55, 100)\n",
    "    \n",
    "class Series():\n",
    "    def __init__(self, trials):\n",
    "        average = 0\n",
    "        for i in range(0, trials):\n",
    "            average += self.CollectWorldSeries()\n",
    "\n",
    "        print(average / trials)\n",
    "    \n",
    "    def GetWorldSeries(self, pick, game):\n",
    "        if game >= 4:\n",
    "            if i in WorldSeries.DodgersHome.value:\n",
    "                return WorldSeries.DodgersHome.name\n",
    "            else:\n",
    "                return WorldSeries.YankeesAway.name\n",
    "        else:\n",
    "            if i in WorldSeries.YankeesHome.value:\n",
    "                return WorldSeries.YankeesHome.name\n",
    "            else:\n",
    "                return WorldSeries.DodgersAway.name\n",
    "            \n",
    "    def CollectWorldSeries(self) -> int:\n",
    "        series = {i.name: 0 for i in WorldSeries}\n",
    "        for i in range(0, 7):\n",
    "            allCollected = True\n",
    "            total = 0\n",
    "            for i in beanies.values():\n",
    "                total += i\n",
    "                if(i <= 4):\n",
    "                    allCollected = False\n",
    "            if(allCollected):\n",
    "                return total\n",
    "            pick = random.randint(1, 99)\n",
    "            series[self.GetWorldSeries(pick, i)] += 1"
   ]
  },
  {
   "cell_type": "code",
   "execution_count": null,
   "id": "bf472bbc",
   "metadata": {},
   "outputs": [],
   "source": [
    "Series(1000)"
   ]
  },
  {
   "cell_type": "code",
   "execution_count": null,
   "id": "73c762f9",
   "metadata": {},
   "outputs": [],
   "source": [
    "class BeanieBabies():\n",
    "    def __init__(self, trials):\n",
    "        average = 0\n",
    "        for i in range(0, trials):\n",
    "            average += CollectBeanies()\n",
    "\n",
    "        print(average / trials)\n",
    "        \n",
    "    class TeenieBeanies(Enum):\n",
    "        Patti_The_Platypus = range(0, 10)\n",
    "        Pinky_The_Flamingo = range(10, 20)\n",
    "        Chops_The_Lamb = range(20, 30)\n",
    "        Chocolate_The_Moose = range(30, 40)\n",
    "        Goldie_The_Goldfish = range(40, 50)\n",
    "        Speedy_The_Turtle = range(50, 60)\n",
    "        Seamore_The_Seal = range(60, 70)\n",
    "        Snort_The_Bull = range(70, 80)\n",
    "        Quacks_The_Duck = range(80, 90)\n",
    "        Lizz_The_Lizard = range(90, 100)\n",
    "    \n",
    "    def GetBeanies(pick):\n",
    "        for beanie in TeenieBeanies:\n",
    "            if pick in beanie.value:\n",
    "                return beanie.name\n",
    "            \n",
    "    def CollectBeanies() -> int:\n",
    "        beanies = {i.name: 0 for i in TeenieBeanies}\n",
    "        while True:\n",
    "            allCollected = True\n",
    "            total = 0\n",
    "            for i in beanies.values():\n",
    "                total += i\n",
    "                if(i <= 0):\n",
    "                    allCollected = False\n",
    "            if(allCollected):\n",
    "                return total\n",
    "            pick = random.randint(1, 99)\n",
    "            beanies[GetBeanies(pick)] += 1"
   ]
  },
  {
   "cell_type": "code",
   "execution_count": null,
   "id": "feaa68e2",
   "metadata": {},
   "outputs": [],
   "source": [
    "BeanieBabies(1000)"
   ]
  },
  {
   "cell_type": "code",
   "execution_count": null,
   "id": "5443a6ca",
   "metadata": {},
   "outputs": [],
   "source": [
    "average = 0\n",
    "iterations = 1000\n",
    "for i in range(0, 1000):\n",
    "    average += CollectBeanies()\n",
    "    \n",
    "print(average / iterations)"
   ]
  },
  {
   "cell_type": "code",
   "execution_count": null,
   "id": "5eef1700",
   "metadata": {
    "scrolled": true
   },
   "outputs": [],
   "source": [
    "import random\n",
    "from enum import Enum\n",
    "\n",
    "class Cards(Enum):\n",
    "    TigerWoods= range(0, 20)\n",
    "    CristianoRonaldo= range(20, 50)\n",
    "    SerenaWilliams = range(50, 100)\n",
    "\n",
    "def GetCards(picked):\n",
    "    for card in Cards:\n",
    "        if picked in card .value:\n",
    "            return card .name\n",
    "\n",
    "def CollectCards() -> int:\n",
    "    cards = {i.name: 0 for i in Cards}\n",
    "    while True:\n",
    "        allCollected = True\n",
    "        total = 0\n",
    "        for i in cards.values():\n",
    "            total += i\n",
    "            if(i <= 0):\n",
    "                allCollected = False\n",
    "        if(allCollected):\n",
    "            return total\n",
    "        pick = random.randint(1, 99)\n",
    "        cards[GetCards(pick)] += 1\n",
    "\n",
    "average = 0\n",
    "iterations = 1000\n",
    "for i in range(0, 1000):\n",
    "    average += CollectCards()\n",
    "    \n",
    "print(average / iterations)"
   ]
  },
  {
   "cell_type": "code",
   "execution_count": null,
   "id": "9fa9fede",
   "metadata": {},
   "outputs": [],
   "source": []
  }
 ],
 "metadata": {
  "kernelspec": {
   "display_name": "Python 3 (ipykernel)",
   "language": "python",
   "name": "python3"
  },
  "language_info": {
   "codemirror_mode": {
    "name": "ipython",
    "version": 3
   },
   "file_extension": ".py",
   "mimetype": "text/x-python",
   "name": "python",
   "nbconvert_exporter": "python",
   "pygments_lexer": "ipython3",
   "version": "3.9.13"
  }
 },
 "nbformat": 4,
 "nbformat_minor": 5
}
