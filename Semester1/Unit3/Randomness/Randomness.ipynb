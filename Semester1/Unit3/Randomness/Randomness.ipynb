{
 "cells": [
  {
   "cell_type": "code",
   "execution_count": 122,
   "id": "e2090bce",
   "metadata": {},
   "outputs": [],
   "source": [
    "from enum import Enum\n",
    "import random"
   ]
  },
  {
   "cell_type": "code",
   "execution_count": 82,
   "id": "1d682bd4",
   "metadata": {},
   "outputs": [],
   "source": [
    "def GetMarbles(picked):\n",
    "    for marble in Marbles:\n",
    "        if picked in marble.value:\n",
    "            return marble.name"
   ]
  },
  {
   "cell_type": "code",
   "execution_count": 116,
   "id": "593a5f8e",
   "metadata": {},
   "outputs": [],
   "source": [
    "class Marbles(Enum):\n",
    "    RED = range(0, 33)\n",
    "    BLUE = range(33, 66)\n",
    "    GREEN = range(66, 100)"
   ]
  },
  {
   "cell_type": "code",
   "execution_count": 117,
   "id": "762a6ff1",
   "metadata": {},
   "outputs": [
    {
     "name": "stdout",
     "output_type": "stream",
     "text": [
      "{'RED': 319, 'BLUE': 329, 'GREEN': 352}\n"
     ]
    }
   ],
   "source": [
    "marbles = {Marbles.RED.name : 0, Marbles.BLUE.name : 0, Marbles.GREEN.name : 0}\n",
    "for i in range(0, 1000):\n",
    "    pick = random.randint(1, 99)\n",
    "    marbles[GetMarbles(pick)] += 1\n",
    "print(marbles)"
   ]
  },
  {
   "cell_type": "code",
   "execution_count": 157,
   "id": "10980fa3",
   "metadata": {},
   "outputs": [],
   "source": [
    "class RunSimulation():\n",
    "    def __init__(self, trials, condition, data : Enum):\n",
    "        self.average = 0\n",
    "        self.data = data\n",
    "        self.trials = trials\n",
    "        self.condition = condition\n",
    "        self.pieces = {i.name: 0 for i in self.data}\n",
    "        for i in range(0, trials):\n",
    "            self.average += self.CollectData()\n",
    "\n",
    "    def getAverage(self) -> float:\n",
    "        return self.average / self.trials\n",
    "    \n",
    "    def getAveragePieces(self) -> dict:\n",
    "        average = self.pieces\n",
    "        for value in self.pieces.keys():\n",
    "            average[value] = self.pieces[value] / self.trials\n",
    "            \n",
    "        return average\n",
    "    \n",
    "    def getPieces(self) -> dict:\n",
    "        return self.pieces\n",
    "    \n",
    "    def GetData(self, pick):\n",
    "        for piece in self.data:\n",
    "            if pick in piece.value:\n",
    "                return piece.name\n",
    "            \n",
    "    def CollectData(self) -> int:\n",
    "        pieces = {i.name: 0 for i in self.data}\n",
    "        while True:\n",
    "            allCollected = True\n",
    "            total = 0\n",
    "            for i in pieces.values():\n",
    "                total += i\n",
    "                if(i < self.condition):\n",
    "                    allCollected = False\n",
    "            if(allCollected):\n",
    "                self.UpdatePieces(pieces)\n",
    "                return total\n",
    "            pick = random.randint(1, 99)\n",
    "            pieces[GetBeanies(pick)] += 1\n",
    "        \n",
    "    def UpdatePieces(self, piece):\n",
    "        for value in self.pieces.keys():\n",
    "            self.pieces[value] += piece[value]"
   ]
  },
  {
   "cell_type": "code",
   "execution_count": 158,
   "id": "6f79f89b",
   "metadata": {},
   "outputs": [
    {
     "name": "stdout",
     "output_type": "stream",
     "text": [
      "29.155\n",
      "{'Patti_The_Platypus': 2.689, 'Pinky_The_Flamingo': 2.982, 'Chops_The_Lamb': 2.797, 'Chocolate_The_Moose': 2.935, 'Goldie_The_Goldfish': 2.841, 'Speedy_The_Turtle': 2.985, 'Seamore_The_Seal': 3.009, 'Snort_The_Bull': 3.03, 'Quacks_The_Duck': 2.891, 'Lizz_The_Lizard': 2.996}\n",
      "{'Patti_The_Platypus': 2.689, 'Pinky_The_Flamingo': 2.982, 'Chops_The_Lamb': 2.797, 'Chocolate_The_Moose': 2.935, 'Goldie_The_Goldfish': 2.841, 'Speedy_The_Turtle': 2.985, 'Seamore_The_Seal': 3.009, 'Snort_The_Bull': 3.03, 'Quacks_The_Duck': 2.891, 'Lizz_The_Lizard': 2.996}\n"
     ]
    }
   ],
   "source": [
    "sim = RunSimulation(1000, 1, TeenieBeanies)\n",
    "print(sim.getAverage())"
   ]
  },
  {
   "cell_type": "code",
   "execution_count": null,
   "id": "b7593ad5",
   "metadata": {},
   "outputs": [],
   "source": [
    "sim = RunSimulation(1000, 1, WorldSeries)\n"
   ]
  },
  {
   "cell_type": "code",
   "execution_count": 133,
   "id": "5487eb46",
   "metadata": {},
   "outputs": [],
   "source": [
    "class TeenieBeanies(Enum):\n",
    "    Patti_The_Platypus = range(0, 10)\n",
    "    Pinky_The_Flamingo = range(10, 20)\n",
    "    Chops_The_Lamb = range(20, 30)\n",
    "    Chocolate_The_Moose = range(30, 40)\n",
    "    Goldie_The_Goldfish = range(40, 50)\n",
    "    Speedy_The_Turtle = range(50, 60)\n",
    "    Seamore_The_Seal = range(60, 70)\n",
    "    Snort_The_Bull = range(70, 80)\n",
    "    Quacks_The_Duck = range(80, 90)\n",
    "    Lizz_The_Lizard = range(90, 100)"
   ]
  },
  {
   "cell_type": "code",
   "execution_count": 174,
   "id": "c616ae1b",
   "metadata": {},
   "outputs": [],
   "source": [
    "class WorldSeries(Enum):\n",
    "    DodgersHome = range(0, 55)\n",
    "    YankeesHome = range(0, 55)\n",
    "    DodgersAway = range(55, 100)\n",
    "    YankeesAway = range(55, 100)\n",
    "    \n",
    "class Series():\n",
    "    def __init__(self, trials):\n",
    "        average = 0\n",
    "        for i in range(0, trials):\n",
    "            average += self.CollectWorldSeries()\n",
    "\n",
    "        print(average / trials)\n",
    "    \n",
    "    def GetWorldSeries(self, pick, game):\n",
    "        if game >= 4:\n",
    "            if i in WorldSeries.DodgersHome.value:\n",
    "                return WorldSeries.DodgersHome.name\n",
    "            else:\n",
    "                return WorldSeries.YankeesAway.name\n",
    "        else:\n",
    "            if i in WorldSeries.YankeesHome.value:\n",
    "                return WorldSeries.YankeesHome.name\n",
    "            else:\n",
    "                return WorldSeries.DodgersAway.name\n",
    "            \n",
    "    def CollectWorldSeries(self) -> int:\n",
    "        series = {i.name: 0 for i in WorldSeries}\n",
    "        for i in range(0, 7):\n",
    "            allCollected = True\n",
    "            total = 0\n",
    "            for i in beanies.values():\n",
    "                total += i\n",
    "                if(i <= 4):\n",
    "                    allCollected = False\n",
    "            if(allCollected):\n",
    "                return total\n",
    "            pick = random.randint(1, 99)\n",
    "            series[self.GetWorldSeries(pick, i)] += 1"
   ]
  },
  {
   "cell_type": "code",
   "execution_count": 175,
   "id": "31affa4e",
   "metadata": {},
   "outputs": [
    {
     "ename": "TypeError",
     "evalue": "unsupported operand type(s) for +=: 'int' and 'NoneType'",
     "output_type": "error",
     "traceback": [
      "\u001b[1;31m---------------------------------------------------------------------------\u001b[0m",
      "\u001b[1;31mTypeError\u001b[0m                                 Traceback (most recent call last)",
      "\u001b[1;32m~\\AppData\\Local\\Temp\\ipykernel_4444\\349782303.py\u001b[0m in \u001b[0;36m<module>\u001b[1;34m\u001b[0m\n\u001b[1;32m----> 1\u001b[1;33m \u001b[0mSeries\u001b[0m\u001b[1;33m(\u001b[0m\u001b[1;36m1000\u001b[0m\u001b[1;33m)\u001b[0m\u001b[1;33m\u001b[0m\u001b[1;33m\u001b[0m\u001b[0m\n\u001b[0m",
      "\u001b[1;32m~\\AppData\\Local\\Temp\\ipykernel_4444\\1320376563.py\u001b[0m in \u001b[0;36m__init__\u001b[1;34m(self, trials)\u001b[0m\n\u001b[0;32m      9\u001b[0m         \u001b[0maverage\u001b[0m \u001b[1;33m=\u001b[0m \u001b[1;36m0\u001b[0m\u001b[1;33m\u001b[0m\u001b[1;33m\u001b[0m\u001b[0m\n\u001b[0;32m     10\u001b[0m         \u001b[1;32mfor\u001b[0m \u001b[0mi\u001b[0m \u001b[1;32min\u001b[0m \u001b[0mrange\u001b[0m\u001b[1;33m(\u001b[0m\u001b[1;36m0\u001b[0m\u001b[1;33m,\u001b[0m \u001b[0mtrials\u001b[0m\u001b[1;33m)\u001b[0m\u001b[1;33m:\u001b[0m\u001b[1;33m\u001b[0m\u001b[1;33m\u001b[0m\u001b[0m\n\u001b[1;32m---> 11\u001b[1;33m             \u001b[0maverage\u001b[0m \u001b[1;33m+=\u001b[0m \u001b[0mself\u001b[0m\u001b[1;33m.\u001b[0m\u001b[0mCollectWorldSeries\u001b[0m\u001b[1;33m(\u001b[0m\u001b[1;33m)\u001b[0m\u001b[1;33m\u001b[0m\u001b[1;33m\u001b[0m\u001b[0m\n\u001b[0m\u001b[0;32m     12\u001b[0m \u001b[1;33m\u001b[0m\u001b[0m\n\u001b[0;32m     13\u001b[0m         \u001b[0mprint\u001b[0m\u001b[1;33m(\u001b[0m\u001b[0maverage\u001b[0m \u001b[1;33m/\u001b[0m \u001b[0mtrials\u001b[0m\u001b[1;33m)\u001b[0m\u001b[1;33m\u001b[0m\u001b[1;33m\u001b[0m\u001b[0m\n",
      "\u001b[1;31mTypeError\u001b[0m: unsupported operand type(s) for +=: 'int' and 'NoneType'"
     ]
    }
   ],
   "source": [
    "Series(1000)"
   ]
  },
  {
   "cell_type": "code",
   "execution_count": 130,
   "id": "a29021fa",
   "metadata": {},
   "outputs": [],
   "source": [
    "class BeanieBabies():\n",
    "    def __init__(self, trials):\n",
    "        average = 0\n",
    "        for i in range(0, trials):\n",
    "            average += CollectBeanies()\n",
    "\n",
    "        print(average / trials)\n",
    "        \n",
    "    class TeenieBeanies(Enum):\n",
    "        Patti_The_Platypus = range(0, 10)\n",
    "        Pinky_The_Flamingo = range(10, 20)\n",
    "        Chops_The_Lamb = range(20, 30)\n",
    "        Chocolate_The_Moose = range(30, 40)\n",
    "        Goldie_The_Goldfish = range(40, 50)\n",
    "        Speedy_The_Turtle = range(50, 60)\n",
    "        Seamore_The_Seal = range(60, 70)\n",
    "        Snort_The_Bull = range(70, 80)\n",
    "        Quacks_The_Duck = range(80, 90)\n",
    "        Lizz_The_Lizard = range(90, 100)\n",
    "    \n",
    "    def GetBeanies(pick):\n",
    "        for beanie in TeenieBeanies:\n",
    "            if pick in beanie.value:\n",
    "                return beanie.name\n",
    "            \n",
    "    def CollectBeanies() -> int:\n",
    "        beanies = {i.name: 0 for i in TeenieBeanies}\n",
    "        while True:\n",
    "            allCollected = True\n",
    "            total = 0\n",
    "            for i in beanies.values():\n",
    "                total += i\n",
    "                if(i <= 0):\n",
    "                    allCollected = False\n",
    "            if(allCollected):\n",
    "                return total\n",
    "            pick = random.randint(1, 99)\n",
    "            beanies[GetBeanies(pick)] += 1"
   ]
  },
  {
   "cell_type": "code",
   "execution_count": 131,
   "id": "d1bddc9e",
   "metadata": {},
   "outputs": [
    {
     "name": "stdout",
     "output_type": "stream",
     "text": [
      "29.085\n"
     ]
    },
    {
     "data": {
      "text/plain": [
       "<__main__.BeanieBabies at 0x1827a8ef1c0>"
      ]
     },
     "execution_count": 131,
     "metadata": {},
     "output_type": "execute_result"
    }
   ],
   "source": [
    "BeanieBabies(1000)"
   ]
  },
  {
   "cell_type": "code",
   "execution_count": 126,
   "id": "f9c40268",
   "metadata": {},
   "outputs": [
    {
     "name": "stdout",
     "output_type": "stream",
     "text": [
      "29.874\n"
     ]
    }
   ],
   "source": [
    "average = 0\n",
    "iterations = 1000\n",
    "for i in range(0, 1000):\n",
    "    average += CollectBeanies()\n",
    "    \n",
    "print(average / iterations)"
   ]
  },
  {
   "cell_type": "code",
   "execution_count": 120,
   "id": "cc3c5031",
   "metadata": {
    "scrolled": true
   },
   "outputs": [
    {
     "name": "stdout",
     "output_type": "stream",
     "text": [
      "6.683\n"
     ]
    }
   ],
   "source": [
    "import random\n",
    "from enum import Enum\n",
    "\n",
    "class Cards(Enum):\n",
    "    TigerWoods= range(0, 20)\n",
    "    CristianoRonaldo= range(20, 50)\n",
    "    SerenaWilliams = range(50, 100)\n",
    "\n",
    "def GetCards(picked):\n",
    "    for card in Cards:\n",
    "        if picked in card .value:\n",
    "            return card .name\n",
    "\n",
    "def CollectCards() -> int:\n",
    "    cards = {i.name: 0 for i in Cards}\n",
    "    while True:\n",
    "        allCollected = True\n",
    "        total = 0\n",
    "        for i in cards.values():\n",
    "            total += i\n",
    "            if(i <= 0):\n",
    "                allCollected = False\n",
    "        if(allCollected):\n",
    "            return total\n",
    "        pick = random.randint(1, 99)\n",
    "        cards[GetCards(pick)] += 1\n",
    "\n",
    "average = 0\n",
    "iterations = 1000\n",
    "for i in range(0, 1000):\n",
    "    average += CollectCards()\n",
    "    \n",
    "print(average / iterations)"
   ]
  },
  {
   "cell_type": "code",
   "execution_count": null,
   "id": "71e61b6c",
   "metadata": {},
   "outputs": [],
   "source": []
  }
 ],
 "metadata": {
  "kernelspec": {
   "display_name": "Python 3 (ipykernel)",
   "language": "python",
   "name": "python3"
  },
  "language_info": {
   "codemirror_mode": {
    "name": "ipython",
    "version": 3
   },
   "file_extension": ".py",
   "mimetype": "text/x-python",
   "name": "python",
   "nbconvert_exporter": "python",
   "pygments_lexer": "ipython3",
   "version": "3.9.13"
  }
 },
 "nbformat": 4,
 "nbformat_minor": 5
}
