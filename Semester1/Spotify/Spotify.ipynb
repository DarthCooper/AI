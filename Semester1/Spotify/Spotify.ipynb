{
 "cells": [
  {
   "cell_type": "code",
   "execution_count": 1,
   "id": "2bd2fae1",
   "metadata": {},
   "outputs": [],
   "source": [
    "import pandas as pd"
   ]
  },
  {
   "cell_type": "code",
   "execution_count": 2,
   "id": "1da40fc0",
   "metadata": {},
   "outputs": [],
   "source": [
    "import math"
   ]
  },
  {
   "cell_type": "code",
   "execution_count": 3,
   "id": "833474f9",
   "metadata": {},
   "outputs": [],
   "source": [
    "import seaborn as sns"
   ]
  },
  {
   "cell_type": "code",
   "execution_count": 4,
   "id": "b72c06b8",
   "metadata": {},
   "outputs": [],
   "source": [
    "import matplotlib.pyplot as plt"
   ]
  },
  {
   "cell_type": "code",
   "execution_count": 5,
   "id": "d0b84fa7",
   "metadata": {},
   "outputs": [],
   "source": [
    "df = pd.read_csv(\"spotify2024.csv\", encoding = \"ISO-8859-1\")"
   ]
  },
  {
   "cell_type": "code",
   "execution_count": 6,
   "id": "bdce60dd",
   "metadata": {},
   "outputs": [
    {
     "data": {
      "text/html": [
       "<div>\n",
       "<style scoped>\n",
       "    .dataframe tbody tr th:only-of-type {\n",
       "        vertical-align: middle;\n",
       "    }\n",
       "\n",
       "    .dataframe tbody tr th {\n",
       "        vertical-align: top;\n",
       "    }\n",
       "\n",
       "    .dataframe thead th {\n",
       "        text-align: right;\n",
       "    }\n",
       "</style>\n",
       "<table border=\"1\" class=\"dataframe\">\n",
       "  <thead>\n",
       "    <tr style=\"text-align: right;\">\n",
       "      <th></th>\n",
       "      <th>Track</th>\n",
       "      <th>Album Name</th>\n",
       "      <th>Artist</th>\n",
       "      <th>Release Date</th>\n",
       "      <th>ISRC</th>\n",
       "      <th>All Time Rank</th>\n",
       "      <th>Track Score</th>\n",
       "      <th>Spotify Streams</th>\n",
       "      <th>Spotify Playlist Count</th>\n",
       "      <th>Spotify Playlist Reach</th>\n",
       "      <th>...</th>\n",
       "      <th>SiriusXM Spins</th>\n",
       "      <th>Deezer Playlist Count</th>\n",
       "      <th>Deezer Playlist Reach</th>\n",
       "      <th>Amazon Playlist Count</th>\n",
       "      <th>Pandora Streams</th>\n",
       "      <th>Pandora Track Stations</th>\n",
       "      <th>Soundcloud Streams</th>\n",
       "      <th>Shazam Counts</th>\n",
       "      <th>TIDAL Popularity</th>\n",
       "      <th>Explicit Track</th>\n",
       "    </tr>\n",
       "  </thead>\n",
       "  <tbody>\n",
       "    <tr>\n",
       "      <th>0</th>\n",
       "      <td>MILLION DOLLAR BABY</td>\n",
       "      <td>Million Dollar Baby - Single</td>\n",
       "      <td>Tommy Richman</td>\n",
       "      <td>4/26/2024</td>\n",
       "      <td>QM24S2402528</td>\n",
       "      <td>1</td>\n",
       "      <td>725.4</td>\n",
       "      <td>390,470,936</td>\n",
       "      <td>30,716</td>\n",
       "      <td>196,631,588</td>\n",
       "      <td>...</td>\n",
       "      <td>684</td>\n",
       "      <td>62.0</td>\n",
       "      <td>17,598,718</td>\n",
       "      <td>114.0</td>\n",
       "      <td>18,004,655</td>\n",
       "      <td>22,931</td>\n",
       "      <td>4,818,457</td>\n",
       "      <td>2,669,262</td>\n",
       "      <td>NaN</td>\n",
       "      <td>0</td>\n",
       "    </tr>\n",
       "    <tr>\n",
       "      <th>1</th>\n",
       "      <td>Not Like Us</td>\n",
       "      <td>Not Like Us</td>\n",
       "      <td>Kendrick Lamar</td>\n",
       "      <td>5/4/2024</td>\n",
       "      <td>USUG12400910</td>\n",
       "      <td>2</td>\n",
       "      <td>545.9</td>\n",
       "      <td>323,703,884</td>\n",
       "      <td>28,113</td>\n",
       "      <td>174,597,137</td>\n",
       "      <td>...</td>\n",
       "      <td>3</td>\n",
       "      <td>67.0</td>\n",
       "      <td>10,422,430</td>\n",
       "      <td>111.0</td>\n",
       "      <td>7,780,028</td>\n",
       "      <td>28,444</td>\n",
       "      <td>6,623,075</td>\n",
       "      <td>1,118,279</td>\n",
       "      <td>NaN</td>\n",
       "      <td>1</td>\n",
       "    </tr>\n",
       "    <tr>\n",
       "      <th>2</th>\n",
       "      <td>i like the way you kiss me</td>\n",
       "      <td>I like the way you kiss me</td>\n",
       "      <td>Artemas</td>\n",
       "      <td>3/19/2024</td>\n",
       "      <td>QZJ842400387</td>\n",
       "      <td>3</td>\n",
       "      <td>538.4</td>\n",
       "      <td>601,309,283</td>\n",
       "      <td>54,331</td>\n",
       "      <td>211,607,669</td>\n",
       "      <td>...</td>\n",
       "      <td>536</td>\n",
       "      <td>136.0</td>\n",
       "      <td>36,321,847</td>\n",
       "      <td>172.0</td>\n",
       "      <td>5,022,621</td>\n",
       "      <td>5,639</td>\n",
       "      <td>7,208,651</td>\n",
       "      <td>5,285,340</td>\n",
       "      <td>NaN</td>\n",
       "      <td>0</td>\n",
       "    </tr>\n",
       "    <tr>\n",
       "      <th>3</th>\n",
       "      <td>Flowers</td>\n",
       "      <td>Flowers - Single</td>\n",
       "      <td>Miley Cyrus</td>\n",
       "      <td>1/12/2023</td>\n",
       "      <td>USSM12209777</td>\n",
       "      <td>4</td>\n",
       "      <td>444.9</td>\n",
       "      <td>2,031,280,633</td>\n",
       "      <td>269,802</td>\n",
       "      <td>136,569,078</td>\n",
       "      <td>...</td>\n",
       "      <td>2,182</td>\n",
       "      <td>264.0</td>\n",
       "      <td>24,684,248</td>\n",
       "      <td>210.0</td>\n",
       "      <td>190,260,277</td>\n",
       "      <td>203,384</td>\n",
       "      <td>NaN</td>\n",
       "      <td>11,822,942</td>\n",
       "      <td>NaN</td>\n",
       "      <td>0</td>\n",
       "    </tr>\n",
       "    <tr>\n",
       "      <th>4</th>\n",
       "      <td>Houdini</td>\n",
       "      <td>Houdini</td>\n",
       "      <td>Eminem</td>\n",
       "      <td>5/31/2024</td>\n",
       "      <td>USUG12403398</td>\n",
       "      <td>5</td>\n",
       "      <td>423.3</td>\n",
       "      <td>107,034,922</td>\n",
       "      <td>7,223</td>\n",
       "      <td>151,469,874</td>\n",
       "      <td>...</td>\n",
       "      <td>1</td>\n",
       "      <td>82.0</td>\n",
       "      <td>17,660,624</td>\n",
       "      <td>105.0</td>\n",
       "      <td>4,493,884</td>\n",
       "      <td>7,006</td>\n",
       "      <td>207,179</td>\n",
       "      <td>457,017</td>\n",
       "      <td>NaN</td>\n",
       "      <td>1</td>\n",
       "    </tr>\n",
       "    <tr>\n",
       "      <th>5</th>\n",
       "      <td>Lovin On Me</td>\n",
       "      <td>Lovin On Me</td>\n",
       "      <td>Jack Harlow</td>\n",
       "      <td>11/10/2023</td>\n",
       "      <td>USAT22311371</td>\n",
       "      <td>6</td>\n",
       "      <td>410.1</td>\n",
       "      <td>670,665,438</td>\n",
       "      <td>105,892</td>\n",
       "      <td>175,421,034</td>\n",
       "      <td>...</td>\n",
       "      <td>4,654</td>\n",
       "      <td>86.0</td>\n",
       "      <td>17,167,254</td>\n",
       "      <td>152.0</td>\n",
       "      <td>138,529,362</td>\n",
       "      <td>50,982</td>\n",
       "      <td>9,438,601</td>\n",
       "      <td>4,517,131</td>\n",
       "      <td>NaN</td>\n",
       "      <td>1</td>\n",
       "    </tr>\n",
       "  </tbody>\n",
       "</table>\n",
       "<p>6 rows × 29 columns</p>\n",
       "</div>"
      ],
      "text/plain": [
       "                        Track                    Album Name          Artist  \\\n",
       "0         MILLION DOLLAR BABY  Million Dollar Baby - Single   Tommy Richman   \n",
       "1                 Not Like Us                   Not Like Us  Kendrick Lamar   \n",
       "2  i like the way you kiss me    I like the way you kiss me         Artemas   \n",
       "3                     Flowers              Flowers - Single     Miley Cyrus   \n",
       "4                     Houdini                       Houdini          Eminem   \n",
       "5                 Lovin On Me                   Lovin On Me     Jack Harlow   \n",
       "\n",
       "  Release Date          ISRC All Time Rank  Track Score Spotify Streams  \\\n",
       "0    4/26/2024  QM24S2402528             1        725.4     390,470,936   \n",
       "1     5/4/2024  USUG12400910             2        545.9     323,703,884   \n",
       "2    3/19/2024  QZJ842400387             3        538.4     601,309,283   \n",
       "3    1/12/2023  USSM12209777             4        444.9   2,031,280,633   \n",
       "4    5/31/2024  USUG12403398             5        423.3     107,034,922   \n",
       "5   11/10/2023  USAT22311371             6        410.1     670,665,438   \n",
       "\n",
       "  Spotify Playlist Count Spotify Playlist Reach  ...  SiriusXM Spins  \\\n",
       "0                 30,716            196,631,588  ...             684   \n",
       "1                 28,113            174,597,137  ...               3   \n",
       "2                 54,331            211,607,669  ...             536   \n",
       "3                269,802            136,569,078  ...           2,182   \n",
       "4                  7,223            151,469,874  ...               1   \n",
       "5                105,892            175,421,034  ...           4,654   \n",
       "\n",
       "  Deezer Playlist Count Deezer Playlist Reach Amazon Playlist Count  \\\n",
       "0                  62.0            17,598,718                 114.0   \n",
       "1                  67.0            10,422,430                 111.0   \n",
       "2                 136.0            36,321,847                 172.0   \n",
       "3                 264.0            24,684,248                 210.0   \n",
       "4                  82.0            17,660,624                 105.0   \n",
       "5                  86.0            17,167,254                 152.0   \n",
       "\n",
       "  Pandora Streams Pandora Track Stations Soundcloud Streams  Shazam Counts  \\\n",
       "0      18,004,655                 22,931          4,818,457      2,669,262   \n",
       "1       7,780,028                 28,444          6,623,075      1,118,279   \n",
       "2       5,022,621                  5,639          7,208,651      5,285,340   \n",
       "3     190,260,277                203,384                NaN     11,822,942   \n",
       "4       4,493,884                  7,006            207,179        457,017   \n",
       "5     138,529,362                 50,982          9,438,601      4,517,131   \n",
       "\n",
       "  TIDAL Popularity Explicit Track  \n",
       "0              NaN              0  \n",
       "1              NaN              1  \n",
       "2              NaN              0  \n",
       "3              NaN              0  \n",
       "4              NaN              1  \n",
       "5              NaN              1  \n",
       "\n",
       "[6 rows x 29 columns]"
      ]
     },
     "execution_count": 6,
     "metadata": {},
     "output_type": "execute_result"
    }
   ],
   "source": [
    "df.head(6)"
   ]
  },
  {
   "cell_type": "code",
   "execution_count": 26,
   "id": "bab0f50c",
   "metadata": {},
   "outputs": [
    {
     "data": {
      "image/png": "[encoded data removed]",
      "text/plain": [
       "<Figure size 640x480 with 1 Axes>"
      ]
     },
     "metadata": {},
     "output_type": "display_data"
    }
   ],
   "source": [
    "months = []\n",
    "months = [0 for i in range(12)]\n",
    "\n",
    "for date in df[\"Release Date\"]:\n",
    "    month = date.split('/')[0]\n",
    "    months[int(month) - 1] += 1\n",
    "        \n",
    "graph = {\n",
    "    \"months\" : [\"Jan\", \"Feb\", \"Mar\", \"Apr\", \"May\", \"Jun\", \"Jul\", \"Aug\", \"Sep\", \"Oct\", \"Nov\", \"Dec\"],\n",
    "    \"amount\" : months\n",
    "}\n",
    "\n",
    "graphDF = pd.DataFrame(graph)\n",
    "        \n",
    "sns.barplot(x = \"months\",\n",
    "            y = \"amount\",\n",
    "            data = graphDF)\n",
    "\n",
    "plt.show()"
   ]
  },
  {
   "cell_type": "code",
   "execution_count": 16,
   "id": "cf8a2c7d",
   "metadata": {},
   "outputs": [
    {
     "data": {
      "image/png": "[encoded data removed]",
      "text/plain": [
       "<Figure size 640x480 with 1 Axes>"
      ]
     },
     "metadata": {},
     "output_type": "display_data"
    }
   ],
   "source": [
    "explicit = {\"Clean\" : 0, \"Explicit\" : 0}\n",
    "\n",
    "for i in df[\"Explicit Track\"]:\n",
    "    if i == 0:\n",
    "        explicit[\"Clean\"] += (1 / len(df)) * 100\n",
    "    elif i == 1:\n",
    "        explicit[\"Explicit\"] += (1 / len(df)) * 100\n",
    "        \n",
    "graph = {\n",
    "    \"explicit\" : explicit.keys(),\n",
    "    \"percentile amount\" : explicit.values()\n",
    "}\n",
    "\n",
    "graphDF = pd.DataFrame(graph)\n",
    "        \n",
    "sns.barplot(x = \"explicit\",\n",
    "            y = \"percentile amount\",\n",
    "            data = graphDF)\n",
    "\n",
    "plt.show()"
   ]
  },
  {
   "cell_type": "code",
   "execution_count": 12,
   "id": "c1fa9904",
   "metadata": {},
   "outputs": [
    {
     "data": {
      "text/plain": [
       "<AxesSubplot:xlabel='Spotify Popularity', ylabel='Count'>"
      ]
     },
     "execution_count": 12,
     "metadata": {},
     "output_type": "execute_result"
    },
    {
     "data": {
      "image/png": "[encoded data removed]",
      "text/plain": [
       "<Figure size 640x480 with 1 Axes>"
      ]
     },
     "metadata": {},
     "output_type": "display_data"
    }
   ],
   "source": [
    "sns.histplot(data=df, x=\"Spotify Popularity\", bins=50)"
   ]
  },
  {
   "cell_type": "code",
   "execution_count": 51,
   "id": "c06da88c",
   "metadata": {},
   "outputs": [
    {
     "data": {
      "text/plain": [
       "<AxesSubplot:xlabel='YouTube Views', ylabel='Count'>"
      ]
     },
     "execution_count": 51,
     "metadata": {},
     "output_type": "execute_result"
    },
    {
     "data": {
      "image/png": "[encoded data removed]",
      "text/plain": [
       "<Figure size 640x480 with 1 Axes>"
      ]
     },
     "metadata": {},
     "output_type": "display_data"
    }
   ],
   "source": [
    "df = pd.read_csv(\"spotify2024.csv\", encoding = \"ISO-8859-1\")\n",
    "df[\"YouTube Views\"] = df[\"YouTube Views\"].str.replace(\",\", \"\")\n",
    "df[\"YouTube Views\"] = pd.to_numeric(df[\"YouTube Views\"], errors=\"coerce\")\n",
    "sns.histplot(data=df, x=\"YouTube Views\", bins=50)"
   ]
  },
  {
   "cell_type": "code",
   "execution_count": 10,
   "id": "527f71be",
   "metadata": {},
   "outputs": [
    {
     "data": {
      "text/plain": [
       "<AxesSubplot:xlabel='Spotify Streams', ylabel='Count'>"
      ]
     },
     "execution_count": 10,
     "metadata": {},
     "output_type": "execute_result"
    },
    {
     "data": {
      "image/png": "[encoded data removed]",
      "text/plain": [
       "<Figure size 640x480 with 1 Axes>"
      ]
     },
     "metadata": {},
     "output_type": "display_data"
    }
   ],
   "source": [
    "df = pd.read_csv(\"spotify2024.csv\", encoding = \"ISO-8859-1\")\n",
    "df[\"Spotify Streams\"] = df[\"Spotify Streams\"].str.replace(\",\", \"\")\n",
    "df[\"Spotify Streams\"] = pd.to_numeric(df[\"Spotify Streams\"], errors=\"coerce\")\n",
    "sns.histplot(data=df, x=\"Spotify Streams\", bins=50)"
   ]
  },
  {
   "cell_type": "code",
   "execution_count": 11,
   "id": "993386c2",
   "metadata": {},
   "outputs": [
    {
     "data": {
      "text/plain": [
       "<AxesSubplot:xlabel='Shazam Counts', ylabel='Count'>"
      ]
     },
     "execution_count": 11,
     "metadata": {},
     "output_type": "execute_result"
    },
    {
     "data": {
      "image/png": "[encoded data removed]",
      "text/plain": [
       "<Figure size 640x480 with 1 Axes>"
      ]
     },
     "metadata": {},
     "output_type": "display_data"
    }
   ],
   "source": [
    "df = pd.read_csv(\"spotify2024.csv\", encoding = \"ISO-8859-1\")\n",
    "df[\"Shazam Counts\"] = df[\"Shazam Counts\"].str.replace(\",\", \"\")\n",
    "df[\"Shazam Counts\"] = pd.to_numeric(df[\"Shazam Counts\"], errors=\"coerce\")\n",
    "sns.histplot(data=df, x=\"Shazam Counts\", bins=50)"
   ]
  },
  {
   "cell_type": "code",
   "execution_count": 17,
   "id": "fe294e49",
   "metadata": {},
   "outputs": [
    {
     "data": {
      "text/plain": [
       "<AxesSubplot:xlabel='All Time Rank', ylabel='Count'>"
      ]
     },
     "execution_count": 17,
     "metadata": {},
     "output_type": "execute_result"
    },
    {
     "data": {
      "image/png": "[encoded data removed]",
      "text/plain": [
       "<Figure size 640x480 with 1 Axes>"
      ]
     },
     "metadata": {},
     "output_type": "display_data"
    }
   ],
   "source": [
    "df = pd.read_csv(\"spotify2024.csv\", encoding = \"ISO-8859-1\")\n",
    "df[\"All Time Rank\"] = df[\"All Time Rank\"].str.replace(\",\", \"\")\n",
    "df[\"All Time Rank\"] = pd.to_numeric(df[\"All Time Rank\"], errors=\"coerce\")\n",
    "sns.histplot(data=df, x=\"All Time Rank\", bins=50)"
   ]
  },
  {
   "cell_type": "code",
   "execution_count": 15,
   "id": "a273212a",
   "metadata": {},
   "outputs": [
    {
     "data": {
      "text/plain": [
       "<AxesSubplot:xlabel='Soundcloud Streams', ylabel='Count'>"
      ]
     },
     "execution_count": 15,
     "metadata": {},
     "output_type": "execute_result"
    },
    {
     "data": {
      "image/png": "[encoded data removed]",
      "text/plain": [
       "<Figure size 640x480 with 1 Axes>"
      ]
     },
     "metadata": {},
     "output_type": "display_data"
    }
   ],
   "source": [
    "df = pd.read_csv(\"spotify2024.csv\", encoding = \"ISO-8859-1\")\n",
    "df[\"Soundcloud Streams\"] = df[\"Soundcloud Streams\"].str.replace(\",\", \"\")\n",
    "df[\"Soundcloud Streams\"] = pd.to_numeric(df[\"Soundcloud Streams\"], errors=\"coerce\")\n",
    "sns.histplot(data=df, x=\"Soundcloud Streams\", bins=50)"
   ]
  },
  {
   "cell_type": "code",
   "execution_count": 22,
   "id": "06c8e242",
   "metadata": {},
   "outputs": [
    {
     "data": {
      "text/html": [
       "<div>\n",
       "<style scoped>\n",
       "    .dataframe tbody tr th:only-of-type {\n",
       "        vertical-align: middle;\n",
       "    }\n",
       "\n",
       "    .dataframe tbody tr th {\n",
       "        vertical-align: top;\n",
       "    }\n",
       "\n",
       "    .dataframe thead th {\n",
       "        text-align: right;\n",
       "    }\n",
       "</style>\n",
       "<table border=\"1\" class=\"dataframe\">\n",
       "  <thead>\n",
       "    <tr style=\"text-align: right;\">\n",
       "      <th></th>\n",
       "      <th>Track</th>\n",
       "      <th>Album Name</th>\n",
       "      <th>Artist</th>\n",
       "      <th>Release Date</th>\n",
       "      <th>ISRC</th>\n",
       "      <th>All Time Rank</th>\n",
       "      <th>Track Score</th>\n",
       "      <th>Spotify Streams</th>\n",
       "      <th>Spotify Playlist Count</th>\n",
       "      <th>Spotify Playlist Reach</th>\n",
       "      <th>...</th>\n",
       "      <th>SiriusXM Spins</th>\n",
       "      <th>Deezer Playlist Count</th>\n",
       "      <th>Deezer Playlist Reach</th>\n",
       "      <th>Amazon Playlist Count</th>\n",
       "      <th>Pandora Streams</th>\n",
       "      <th>Pandora Track Stations</th>\n",
       "      <th>Soundcloud Streams</th>\n",
       "      <th>Shazam Counts</th>\n",
       "      <th>TIDAL Popularity</th>\n",
       "      <th>Explicit Track</th>\n",
       "    </tr>\n",
       "  </thead>\n",
       "  <tbody>\n",
       "    <tr>\n",
       "      <th>1024</th>\n",
       "      <td>Monkeys Spinning Monkeys</td>\n",
       "      <td>SteamFun - Single</td>\n",
       "      <td>Kevin MacLeod</td>\n",
       "      <td>5/16/2011</td>\n",
       "      <td>USUAN1400011</td>\n",
       "      <td>1,018</td>\n",
       "      <td>47.6</td>\n",
       "      <td>11,477,477</td>\n",
       "      <td>7,679</td>\n",
       "      <td>1,490,705</td>\n",
       "      <td>...</td>\n",
       "      <td>NaN</td>\n",
       "      <td>1.0</td>\n",
       "      <td>43,207</td>\n",
       "      <td>1.0</td>\n",
       "      <td>NaN</td>\n",
       "      <td>NaN</td>\n",
       "      <td>NaN</td>\n",
       "      <td>1,177,639</td>\n",
       "      <td>NaN</td>\n",
       "      <td>0</td>\n",
       "    </tr>\n",
       "  </tbody>\n",
       "</table>\n",
       "<p>1 rows × 29 columns</p>\n",
       "</div>"
      ],
      "text/plain": [
       "                         Track         Album Name         Artist Release Date  \\\n",
       "1024  Monkeys Spinning Monkeys  SteamFun - Single  Kevin MacLeod    5/16/2011   \n",
       "\n",
       "              ISRC All Time Rank  Track Score Spotify Streams  \\\n",
       "1024  USUAN1400011         1,018         47.6      11,477,477   \n",
       "\n",
       "     Spotify Playlist Count Spotify Playlist Reach  ...  SiriusXM Spins  \\\n",
       "1024                  7,679              1,490,705  ...             NaN   \n",
       "\n",
       "     Deezer Playlist Count Deezer Playlist Reach Amazon Playlist Count  \\\n",
       "1024                   1.0                43,207                   1.0   \n",
       "\n",
       "      Pandora Streams Pandora Track Stations Soundcloud Streams  \\\n",
       "1024              NaN                    NaN                NaN   \n",
       "\n",
       "      Shazam Counts TIDAL Popularity Explicit Track  \n",
       "1024      1,177,639              NaN              0  \n",
       "\n",
       "[1 rows x 29 columns]"
      ]
     },
     "execution_count": 22,
     "metadata": {},
     "output_type": "execute_result"
    }
   ],
   "source": [
    "df = pd.read_csv(\"spotify2024.csv\", encoding = \"ISO-8859-1\")\n",
    "df[\"TikTok Likes\"] = df[\"TikTok Likes\"].str.replace(\",\", \"\")\n",
    "df[\"TikTok Likes\"] = pd.to_numeric(df[\"TikTok Likes\"], errors=\"coerce\")\n",
    "df[df['TikTok Likes']==df['TikTok Likes'].max()]"
   ]
  },
  {
   "cell_type": "code",
   "execution_count": 25,
   "id": "aa99bfb0",
   "metadata": {},
   "outputs": [
    {
     "data": {
      "text/html": [
       "<div>\n",
       "<style scoped>\n",
       "    .dataframe tbody tr th:only-of-type {\n",
       "        vertical-align: middle;\n",
       "    }\n",
       "\n",
       "    .dataframe tbody tr th {\n",
       "        vertical-align: top;\n",
       "    }\n",
       "\n",
       "    .dataframe thead th {\n",
       "        text-align: right;\n",
       "    }\n",
       "</style>\n",
       "<table border=\"1\" class=\"dataframe\">\n",
       "  <thead>\n",
       "    <tr style=\"text-align: right;\">\n",
       "      <th></th>\n",
       "      <th>Track</th>\n",
       "      <th>Album Name</th>\n",
       "      <th>Artist</th>\n",
       "      <th>Release Date</th>\n",
       "      <th>ISRC</th>\n",
       "      <th>All Time Rank</th>\n",
       "      <th>Track Score</th>\n",
       "      <th>Spotify Streams</th>\n",
       "      <th>Spotify Playlist Count</th>\n",
       "      <th>Spotify Playlist Reach</th>\n",
       "      <th>...</th>\n",
       "      <th>SiriusXM Spins</th>\n",
       "      <th>Deezer Playlist Count</th>\n",
       "      <th>Deezer Playlist Reach</th>\n",
       "      <th>Amazon Playlist Count</th>\n",
       "      <th>Pandora Streams</th>\n",
       "      <th>Pandora Track Stations</th>\n",
       "      <th>Soundcloud Streams</th>\n",
       "      <th>Shazam Counts</th>\n",
       "      <th>TIDAL Popularity</th>\n",
       "      <th>Explicit Track</th>\n",
       "    </tr>\n",
       "  </thead>\n",
       "  <tbody>\n",
       "    <tr>\n",
       "      <th>3106</th>\n",
       "      <td>Magic Johnson</td>\n",
       "      <td>Valedictorian [Deluxe]</td>\n",
       "      <td>ian</td>\n",
       "      <td>5/31/2024</td>\n",
       "      <td>USQX92402650</td>\n",
       "      <td>3,110</td>\n",
       "      <td>24.8</td>\n",
       "      <td>3,884,887</td>\n",
       "      <td>789</td>\n",
       "      <td>6,746,829</td>\n",
       "      <td>...</td>\n",
       "      <td>1</td>\n",
       "      <td>1.0</td>\n",
       "      <td>611</td>\n",
       "      <td>9.0</td>\n",
       "      <td>12,947</td>\n",
       "      <td>21</td>\n",
       "      <td>527,385</td>\n",
       "      <td>NaN</td>\n",
       "      <td>NaN</td>\n",
       "      <td>1</td>\n",
       "    </tr>\n",
       "  </tbody>\n",
       "</table>\n",
       "<p>1 rows × 29 columns</p>\n",
       "</div>"
      ],
      "text/plain": [
       "              Track              Album Name Artist Release Date          ISRC  \\\n",
       "3106  Magic Johnson  Valedictorian [Deluxe]    ian    5/31/2024  USQX92402650   \n",
       "\n",
       "     All Time Rank  Track Score Spotify Streams Spotify Playlist Count  \\\n",
       "3106         3,110         24.8       3,884,887                    789   \n",
       "\n",
       "     Spotify Playlist Reach  ...  SiriusXM Spins Deezer Playlist Count  \\\n",
       "3106              6,746,829  ...               1                   1.0   \n",
       "\n",
       "      Deezer Playlist Reach Amazon Playlist Count Pandora Streams  \\\n",
       "3106                    611                   9.0          12,947   \n",
       "\n",
       "     Pandora Track Stations Soundcloud Streams  Shazam Counts  \\\n",
       "3106                     21            527,385            NaN   \n",
       "\n",
       "     TIDAL Popularity Explicit Track  \n",
       "3106              NaN              1  \n",
       "\n",
       "[1 rows x 29 columns]"
      ]
     },
     "execution_count": 25,
     "metadata": {},
     "output_type": "execute_result"
    }
   ],
   "source": [
    "df = pd.read_csv(\"spotify2024.csv\", encoding = \"ISO-8859-1\")\n",
    "df[\"YouTube Likes\"] = df[\"YouTube Likes\"].str.replace(\",\", \"\")\n",
    "df[\"YouTube Likes\"] = pd.to_numeric(df[\"YouTube Likes\"], errors=\"coerce\")\n",
    "df[df['YouTube Likes']==df['YouTube Likes'].min()]"
   ]
  },
  {
   "cell_type": "markdown",
   "id": "8efd90e6",
   "metadata": {},
   "source": [
    "# TikTok Likes Distribution\n",
    "--------------------------------------------------------\n",
    "### The distribution of views is rather spread out.\n",
    "### The maxiumum value is 233,232,311,463.0\n",
    "### The 3rd Quartile is 913,416,942.0\n",
    "### The Median is 265,917,250.0\n",
    "### The 1st Quartile is 59,027,855.5\n",
    "### The Minimum is 19.0"
   ]
  },
  {
   "cell_type": "code",
   "execution_count": null,
   "id": "f447d6a2",
   "metadata": {},
   "outputs": [],
   "source": [
    "df = pd.read_csv(\"spotify2024.csv\", encoding = \"ISO-8859-1\")\n",
    "df[\"TikTok Views\"] = df[\"TikTok Views\"].str.replace(\",\", \"\")\n",
    "df[\"TikTok Views\"] = pd.to_numeric(df[\"TikTok Views\"], errors=\"coerce\")\n",
    "sns.boxplot(data=df, x=\"TikTok Views\")\n",
    "summary = {\n",
    "    \"max\": df[\"TikTok Views\"].max(),\n",
    "    \"Q3\" : df[\"TikTok Views\"].quantile(0.75),\n",
    "    \"Median\" : df[\"TikTok Views\"].median(),\n",
    "    \"Q1\" : df[\"TikTok Views\"].quantile(0.25),\n",
    "    \"Min\" : df[\"TikTok Views\"].min(),\n",
    "}\n",
    "summary"
   ]
  },
  {
   "cell_type": "code",
   "execution_count": null,
   "id": "1e3647a9",
   "metadata": {},
   "outputs": [],
   "source": []
  }
 ],
 "metadata": {
  "kernelspec": {
   "display_name": "Python 3 (ipykernel)",
   "language": "python",
   "name": "python3"
  },
  "language_info": {
   "codemirror_mode": {
    "name": "ipython",
    "version": 3
   },
   "file_extension": ".py",
   "mimetype": "text/x-python",
   "name": "python",
   "nbconvert_exporter": "python",
   "pygments_lexer": "ipython3",
   "version": "3.9.13"
  }
 },
 "nbformat": 4,
 "nbformat_minor": 5
}
