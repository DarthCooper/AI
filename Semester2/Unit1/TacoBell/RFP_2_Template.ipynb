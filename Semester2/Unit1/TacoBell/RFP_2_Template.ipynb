{
 "cells": [
  {
   "cell_type": "markdown",
   "id": "1b940825",
   "metadata": {},
   "source": [
    "# RFP: Targeted Taco Bell Ads\n",
    "\n",
    "## Project Overview\n",
    "You are invited to submit a proposal that answers the following question:\n",
    "\n",
    "### What ad will you create and why?\n",
    "\n",
    "*Please submit your proposal by **1/30/25 at 11:59 PM**.*"
   ]
  },
  {
   "cell_type": "markdown",
   "id": "968a85f0",
   "metadata": {},
   "source": [
    "## Required Proposal Components\n",
    "\n",
    "### 1. Data Description\n",
    "In the code cell below, read in the data you will need to train and test your model. Call `info()` once you have read the data into a dataframe. Consider using some or all of the following sources:\n",
    "- [Customer Demographics](https://drive.google.com/file/d/1HK42Oa3bhhRDWR1y1wVBDAQ2tbNwg1gS/view?usp=sharing)\n",
    "- [Ad Response Data](https://drive.google.com/file/d/1cuLqXPNKhP66m5BP9BAlci2G--Vopt-Z/view?usp=sharing)\n",
    "\n",
    "*Note, a level 5 dataset combines these two data sets.*"
   ]
  },
  {
   "cell_type": "code",
   "execution_count": 1,
   "id": "5c47fdac",
   "metadata": {},
   "outputs": [],
   "source": [
    "import pandas as pd\n",
    "import typing\n",
    "from typing import List\n",
    "from kMeans import KMeans\n",
    "\n",
    "import matplotlib.pyplot as plt\n",
    "import random\n",
    "%matplotlib inline"
   ]
  },
  {
   "cell_type": "code",
   "execution_count": 2,
   "id": "08c1688a",
   "metadata": {},
   "outputs": [],
   "source": [
    "c_df = pd.read_csv(\"customer_data.csv\")\n",
    "a_df = pd.read_csv(\"ad_data.csv\")"
   ]
  },
  {
   "cell_type": "code",
   "execution_count": 3,
   "id": "4e9fbd9a",
   "metadata": {},
   "outputs": [
    {
     "name": "stdout",
     "output_type": "stream",
     "text": [
      "<class 'pandas.core.frame.DataFrame'>\n",
      "RangeIndex: 10000 entries, 0 to 9999\n",
      "Data columns (total 7 columns):\n",
      " #   Column       Non-Null Count  Dtype  \n",
      "---  ------       --------------  -----  \n",
      " 0   customer_id  10000 non-null  int64  \n",
      " 1   state        10000 non-null  object \n",
      " 2   sex          10000 non-null  object \n",
      " 3   age          10000 non-null  float64\n",
      " 4   occupation   10000 non-null  object \n",
      " 5   family_size  10000 non-null  int64  \n",
      " 6   income       10000 non-null  int64  \n",
      "dtypes: float64(1), int64(3), object(3)\n",
      "memory usage: 547.0+ KB\n"
     ]
    }
   ],
   "source": [
    "c_df.info()"
   ]
  },
  {
   "cell_type": "code",
   "execution_count": 4,
   "id": "4d2b27c0",
   "metadata": {},
   "outputs": [
    {
     "data": {
      "text/html": [
       "<div>\n",
       "<style scoped>\n",
       "    .dataframe tbody tr th:only-of-type {\n",
       "        vertical-align: middle;\n",
       "    }\n",
       "\n",
       "    .dataframe tbody tr th {\n",
       "        vertical-align: top;\n",
       "    }\n",
       "\n",
       "    .dataframe thead th {\n",
       "        text-align: right;\n",
       "    }\n",
       "</style>\n",
       "<table border=\"1\" class=\"dataframe\">\n",
       "  <thead>\n",
       "    <tr style=\"text-align: right;\">\n",
       "      <th></th>\n",
       "      <th>customer_id</th>\n",
       "      <th>ad_type</th>\n",
       "      <th>ad_medium</th>\n",
       "      <th>ad_response</th>\n",
       "      <th>items_purchased</th>\n",
       "      <th>drinks_purchased</th>\n",
       "    </tr>\n",
       "  </thead>\n",
       "  <tbody>\n",
       "    <tr>\n",
       "      <th>0</th>\n",
       "      <td>3226</td>\n",
       "      <td>BOGO - Garlic Steak Nacho Fries</td>\n",
       "      <td>15 sec YouTube ad</td>\n",
       "      <td>True</td>\n",
       "      <td>['steak garlic nacho fries', 'steak garlic nac...</td>\n",
       "      <td>['gatorade', 'mug root beer', 'baja blast', 'd...</td>\n",
       "    </tr>\n",
       "    <tr>\n",
       "      <th>1</th>\n",
       "      <td>5217</td>\n",
       "      <td>DISCOUNT-50%</td>\n",
       "      <td>15 sec YouTube ad</td>\n",
       "      <td>False</td>\n",
       "      <td>['crunchy taco', 'cheesy bean and rice burrito']</td>\n",
       "      <td>['gatorade', 'diet pepsi']</td>\n",
       "    </tr>\n",
       "    <tr>\n",
       "      <th>2</th>\n",
       "      <td>5247</td>\n",
       "      <td>REWARD - Free Garlic Steak Nacho Fries with pu...</td>\n",
       "      <td>15 sec YouTube ad</td>\n",
       "      <td>True</td>\n",
       "      <td>['steak garlic nacho fries', 'cheesy gordita c...</td>\n",
       "      <td>['mountain dew', 'starry']</td>\n",
       "    </tr>\n",
       "    <tr>\n",
       "      <th>3</th>\n",
       "      <td>7793</td>\n",
       "      <td>DISCOUNT-5%</td>\n",
       "      <td>30 sec Hulu commercial</td>\n",
       "      <td>False</td>\n",
       "      <td>['crunchwrap supreme', 'cravings box', 'crunch...</td>\n",
       "      <td>['baja blast', 'brisk', 'mountain dew']</td>\n",
       "    </tr>\n",
       "    <tr>\n",
       "      <th>4</th>\n",
       "      <td>5759</td>\n",
       "      <td>DISCOUNT-50%</td>\n",
       "      <td>15 sec YouTube ad</td>\n",
       "      <td>False</td>\n",
       "      <td>['nachos bellgrande', 'crunchy taco']</td>\n",
       "      <td>['pepsi', 'diet pepsi']</td>\n",
       "    </tr>\n",
       "    <tr>\n",
       "      <th>...</th>\n",
       "      <td>...</td>\n",
       "      <td>...</td>\n",
       "      <td>...</td>\n",
       "      <td>...</td>\n",
       "      <td>...</td>\n",
       "      <td>...</td>\n",
       "    </tr>\n",
       "    <tr>\n",
       "      <th>9995</th>\n",
       "      <td>904</td>\n",
       "      <td>BOGO - Baja Blast</td>\n",
       "      <td>15 sec TikTok ad</td>\n",
       "      <td>False</td>\n",
       "      <td>['steak garlic nacho fries']</td>\n",
       "      <td>['mountain dew']</td>\n",
       "    </tr>\n",
       "    <tr>\n",
       "      <th>9996</th>\n",
       "      <td>8731</td>\n",
       "      <td>DISCOUNT-5%</td>\n",
       "      <td>Static Facebook ad</td>\n",
       "      <td>False</td>\n",
       "      <td>['crunchwrap supreme', 'spicy potato soft taco...</td>\n",
       "      <td>['mountain dew', 'brisk', 'starry', 'baja blast']</td>\n",
       "    </tr>\n",
       "    <tr>\n",
       "      <th>9997</th>\n",
       "      <td>7396</td>\n",
       "      <td>DISCOUNT-10%</td>\n",
       "      <td>15 sec TikTok ad</td>\n",
       "      <td>False</td>\n",
       "      <td>['steak garlic nacho fries']</td>\n",
       "      <td>['gatorade']</td>\n",
       "    </tr>\n",
       "    <tr>\n",
       "      <th>9998</th>\n",
       "      <td>8559</td>\n",
       "      <td>DISCOUNT-10%</td>\n",
       "      <td>30 sec cable TV ad</td>\n",
       "      <td>False</td>\n",
       "      <td>['cinnamon twists', 'mexican pizza', 'cinnamon...</td>\n",
       "      <td>['gatorade', 'mug root beer', 'iced tea', 'ice...</td>\n",
       "    </tr>\n",
       "    <tr>\n",
       "      <th>9999</th>\n",
       "      <td>7641</td>\n",
       "      <td>DISCOUNT-20%</td>\n",
       "      <td>15 sec YouTube ad</td>\n",
       "      <td>False</td>\n",
       "      <td>['chicken quesadilla']</td>\n",
       "      <td>['baja blast']</td>\n",
       "    </tr>\n",
       "  </tbody>\n",
       "</table>\n",
       "<p>10000 rows × 6 columns</p>\n",
       "</div>"
      ],
      "text/plain": [
       "      customer_id                                            ad_type  \\\n",
       "0            3226                    BOGO - Garlic Steak Nacho Fries   \n",
       "1            5217                                       DISCOUNT-50%   \n",
       "2            5247  REWARD - Free Garlic Steak Nacho Fries with pu...   \n",
       "3            7793                                        DISCOUNT-5%   \n",
       "4            5759                                       DISCOUNT-50%   \n",
       "...           ...                                                ...   \n",
       "9995          904                                  BOGO - Baja Blast   \n",
       "9996         8731                                        DISCOUNT-5%   \n",
       "9997         7396                                       DISCOUNT-10%   \n",
       "9998         8559                                       DISCOUNT-10%   \n",
       "9999         7641                                       DISCOUNT-20%   \n",
       "\n",
       "                   ad_medium  ad_response  \\\n",
       "0          15 sec YouTube ad         True   \n",
       "1          15 sec YouTube ad        False   \n",
       "2          15 sec YouTube ad         True   \n",
       "3     30 sec Hulu commercial        False   \n",
       "4          15 sec YouTube ad        False   \n",
       "...                      ...          ...   \n",
       "9995        15 sec TikTok ad        False   \n",
       "9996      Static Facebook ad        False   \n",
       "9997        15 sec TikTok ad        False   \n",
       "9998      30 sec cable TV ad        False   \n",
       "9999       15 sec YouTube ad        False   \n",
       "\n",
       "                                        items_purchased  \\\n",
       "0     ['steak garlic nacho fries', 'steak garlic nac...   \n",
       "1      ['crunchy taco', 'cheesy bean and rice burrito']   \n",
       "2     ['steak garlic nacho fries', 'cheesy gordita c...   \n",
       "3     ['crunchwrap supreme', 'cravings box', 'crunch...   \n",
       "4                 ['nachos bellgrande', 'crunchy taco']   \n",
       "...                                                 ...   \n",
       "9995                       ['steak garlic nacho fries']   \n",
       "9996  ['crunchwrap supreme', 'spicy potato soft taco...   \n",
       "9997                       ['steak garlic nacho fries']   \n",
       "9998  ['cinnamon twists', 'mexican pizza', 'cinnamon...   \n",
       "9999                             ['chicken quesadilla']   \n",
       "\n",
       "                                       drinks_purchased  \n",
       "0     ['gatorade', 'mug root beer', 'baja blast', 'd...  \n",
       "1                            ['gatorade', 'diet pepsi']  \n",
       "2                            ['mountain dew', 'starry']  \n",
       "3               ['baja blast', 'brisk', 'mountain dew']  \n",
       "4                               ['pepsi', 'diet pepsi']  \n",
       "...                                                 ...  \n",
       "9995                                   ['mountain dew']  \n",
       "9996  ['mountain dew', 'brisk', 'starry', 'baja blast']  \n",
       "9997                                       ['gatorade']  \n",
       "9998  ['gatorade', 'mug root beer', 'iced tea', 'ice...  \n",
       "9999                                     ['baja blast']  \n",
       "\n",
       "[10000 rows x 6 columns]"
      ]
     },
     "execution_count": 4,
     "metadata": {},
     "output_type": "execute_result"
    }
   ],
   "source": [
    "a_df"
   ]
  },
  {
   "cell_type": "code",
   "execution_count": 5,
   "id": "28c262f8",
   "metadata": {},
   "outputs": [],
   "source": [
    "df = pd.merge(c_df, a_df, on = \"customer_id\", how = \"inner\")"
   ]
  },
  {
   "cell_type": "code",
   "execution_count": 6,
   "id": "0095393e",
   "metadata": {},
   "outputs": [
    {
     "data": {
      "text/html": [
       "<div>\n",
       "<style scoped>\n",
       "    .dataframe tbody tr th:only-of-type {\n",
       "        vertical-align: middle;\n",
       "    }\n",
       "\n",
       "    .dataframe tbody tr th {\n",
       "        vertical-align: top;\n",
       "    }\n",
       "\n",
       "    .dataframe thead th {\n",
       "        text-align: right;\n",
       "    }\n",
       "</style>\n",
       "<table border=\"1\" class=\"dataframe\">\n",
       "  <thead>\n",
       "    <tr style=\"text-align: right;\">\n",
       "      <th></th>\n",
       "      <th>customer_id</th>\n",
       "      <th>state</th>\n",
       "      <th>sex</th>\n",
       "      <th>age</th>\n",
       "      <th>occupation</th>\n",
       "      <th>family_size</th>\n",
       "      <th>income</th>\n",
       "      <th>ad_type</th>\n",
       "      <th>ad_medium</th>\n",
       "      <th>ad_response</th>\n",
       "      <th>items_purchased</th>\n",
       "      <th>drinks_purchased</th>\n",
       "    </tr>\n",
       "  </thead>\n",
       "  <tbody>\n",
       "    <tr>\n",
       "      <th>0</th>\n",
       "      <td>9167</td>\n",
       "      <td>MO</td>\n",
       "      <td>F</td>\n",
       "      <td>42.0</td>\n",
       "      <td>Food Service</td>\n",
       "      <td>1</td>\n",
       "      <td>40343</td>\n",
       "      <td>DISCOUNT-20%</td>\n",
       "      <td>Instagram photo ad</td>\n",
       "      <td>True</td>\n",
       "      <td>['mexican pizza', 'chicken quesadilla']</td>\n",
       "      <td>['mountain dew', 'mug root beer']</td>\n",
       "    </tr>\n",
       "    <tr>\n",
       "      <th>1</th>\n",
       "      <td>531</td>\n",
       "      <td>MI</td>\n",
       "      <td>F</td>\n",
       "      <td>36.0</td>\n",
       "      <td>Retail</td>\n",
       "      <td>4</td>\n",
       "      <td>41730</td>\n",
       "      <td>DISCOUNT-10%</td>\n",
       "      <td>Instagram photo ad</td>\n",
       "      <td>False</td>\n",
       "      <td>['steak garlic nacho fries', 'crunchy taco', '...</td>\n",
       "      <td>['mug root beer', 'iced tea', 'starry', 'iced ...</td>\n",
       "    </tr>\n",
       "    <tr>\n",
       "      <th>2</th>\n",
       "      <td>2265</td>\n",
       "      <td>CA</td>\n",
       "      <td>F</td>\n",
       "      <td>25.0</td>\n",
       "      <td>IT</td>\n",
       "      <td>0</td>\n",
       "      <td>84024</td>\n",
       "      <td>DISCOUNT-20%</td>\n",
       "      <td>15 sec YouTube ad</td>\n",
       "      <td>False</td>\n",
       "      <td>['chicken quesadilla']</td>\n",
       "      <td>['mug root beer']</td>\n",
       "    </tr>\n",
       "    <tr>\n",
       "      <th>3</th>\n",
       "      <td>7550</td>\n",
       "      <td>VA</td>\n",
       "      <td>M</td>\n",
       "      <td>38.0</td>\n",
       "      <td>Food Service</td>\n",
       "      <td>2</td>\n",
       "      <td>38990</td>\n",
       "      <td>BOGO - Garlic Steak Nacho Fries</td>\n",
       "      <td>15 sec YouTube ad</td>\n",
       "      <td>True</td>\n",
       "      <td>['steak garlic nacho fries', 'steak garlic nac...</td>\n",
       "      <td>['pepsi', 'diet pepsi', 'diet pepsi']</td>\n",
       "    </tr>\n",
       "    <tr>\n",
       "      <th>4</th>\n",
       "      <td>5334</td>\n",
       "      <td>MT</td>\n",
       "      <td>M</td>\n",
       "      <td>35.0</td>\n",
       "      <td>Food Service</td>\n",
       "      <td>1</td>\n",
       "      <td>33400</td>\n",
       "      <td>DISCOUNT-20%</td>\n",
       "      <td>15 sec YouTube ad</td>\n",
       "      <td>False</td>\n",
       "      <td>['spicy potato soft taco', 'nachos bellgrande']</td>\n",
       "      <td>['gatorade', 'baja blast']</td>\n",
       "    </tr>\n",
       "    <tr>\n",
       "      <th>...</th>\n",
       "      <td>...</td>\n",
       "      <td>...</td>\n",
       "      <td>...</td>\n",
       "      <td>...</td>\n",
       "      <td>...</td>\n",
       "      <td>...</td>\n",
       "      <td>...</td>\n",
       "      <td>...</td>\n",
       "      <td>...</td>\n",
       "      <td>...</td>\n",
       "      <td>...</td>\n",
       "      <td>...</td>\n",
       "    </tr>\n",
       "    <tr>\n",
       "      <th>9995</th>\n",
       "      <td>3616</td>\n",
       "      <td>AL</td>\n",
       "      <td>F</td>\n",
       "      <td>47.0</td>\n",
       "      <td>Healthcare</td>\n",
       "      <td>3</td>\n",
       "      <td>143571</td>\n",
       "      <td>DISCOUNT-10%</td>\n",
       "      <td>30 sec Hulu commercial</td>\n",
       "      <td>False</td>\n",
       "      <td>['chicken quesadilla', 'steak garlic nacho fri...</td>\n",
       "      <td>['baja blast', 'baja blast', 'gatorade', 'iced...</td>\n",
       "    </tr>\n",
       "    <tr>\n",
       "      <th>9996</th>\n",
       "      <td>7670</td>\n",
       "      <td>NY</td>\n",
       "      <td>M</td>\n",
       "      <td>30.0</td>\n",
       "      <td>Retail</td>\n",
       "      <td>2</td>\n",
       "      <td>37865</td>\n",
       "      <td>DISCOUNT-5%</td>\n",
       "      <td>15 sec YouTube ad</td>\n",
       "      <td>False</td>\n",
       "      <td>['soft taco', 'chicken quesadilla', 'steak gar...</td>\n",
       "      <td>['gatorade', 'iced tea', 'mug root beer']</td>\n",
       "    </tr>\n",
       "    <tr>\n",
       "      <th>9997</th>\n",
       "      <td>7248</td>\n",
       "      <td>MO</td>\n",
       "      <td>F</td>\n",
       "      <td>42.0</td>\n",
       "      <td>Government</td>\n",
       "      <td>3</td>\n",
       "      <td>96691</td>\n",
       "      <td>BOGO - Garlic Steak Nacho Fries</td>\n",
       "      <td>15 sec YouTube ad</td>\n",
       "      <td>True</td>\n",
       "      <td>['steak garlic nacho fries', 'steak garlic nac...</td>\n",
       "      <td>['diet pepsi', 'iced tea', 'baja blast', 'brisk']</td>\n",
       "    </tr>\n",
       "    <tr>\n",
       "      <th>9998</th>\n",
       "      <td>7699</td>\n",
       "      <td>AZ</td>\n",
       "      <td>F</td>\n",
       "      <td>26.0</td>\n",
       "      <td>Government</td>\n",
       "      <td>1</td>\n",
       "      <td>62191</td>\n",
       "      <td>BOGO - Baja Blast</td>\n",
       "      <td>15 sec YouTube ad</td>\n",
       "      <td>True</td>\n",
       "      <td>['spicy potato soft taco', 'crunchy taco']</td>\n",
       "      <td>['baja blast', 'baja blast']</td>\n",
       "    </tr>\n",
       "    <tr>\n",
       "      <th>9999</th>\n",
       "      <td>2112</td>\n",
       "      <td>OH</td>\n",
       "      <td>M</td>\n",
       "      <td>35.0</td>\n",
       "      <td>Other</td>\n",
       "      <td>2</td>\n",
       "      <td>53155</td>\n",
       "      <td>REWARD - Free Baja Blast with purchase of $20 ...</td>\n",
       "      <td>Instagram photo ad</td>\n",
       "      <td>False</td>\n",
       "      <td>['crunchwrap supreme', 'chicken quesadilla', '...</td>\n",
       "      <td>['brisk', 'gatorade', 'brisk']</td>\n",
       "    </tr>\n",
       "  </tbody>\n",
       "</table>\n",
       "<p>10000 rows × 12 columns</p>\n",
       "</div>"
      ],
      "text/plain": [
       "      customer_id state sex   age    occupation  family_size  income  \\\n",
       "0            9167    MO   F  42.0  Food Service            1   40343   \n",
       "1             531    MI   F  36.0        Retail            4   41730   \n",
       "2            2265    CA   F  25.0            IT            0   84024   \n",
       "3            7550    VA   M  38.0  Food Service            2   38990   \n",
       "4            5334    MT   M  35.0  Food Service            1   33400   \n",
       "...           ...   ...  ..   ...           ...          ...     ...   \n",
       "9995         3616    AL   F  47.0    Healthcare            3  143571   \n",
       "9996         7670    NY   M  30.0        Retail            2   37865   \n",
       "9997         7248    MO   F  42.0    Government            3   96691   \n",
       "9998         7699    AZ   F  26.0    Government            1   62191   \n",
       "9999         2112    OH   M  35.0         Other            2   53155   \n",
       "\n",
       "                                                ad_type  \\\n",
       "0                                          DISCOUNT-20%   \n",
       "1                                          DISCOUNT-10%   \n",
       "2                                          DISCOUNT-20%   \n",
       "3                       BOGO - Garlic Steak Nacho Fries   \n",
       "4                                          DISCOUNT-20%   \n",
       "...                                                 ...   \n",
       "9995                                       DISCOUNT-10%   \n",
       "9996                                        DISCOUNT-5%   \n",
       "9997                    BOGO - Garlic Steak Nacho Fries   \n",
       "9998                                  BOGO - Baja Blast   \n",
       "9999  REWARD - Free Baja Blast with purchase of $20 ...   \n",
       "\n",
       "                   ad_medium  ad_response  \\\n",
       "0         Instagram photo ad         True   \n",
       "1         Instagram photo ad        False   \n",
       "2          15 sec YouTube ad        False   \n",
       "3          15 sec YouTube ad         True   \n",
       "4          15 sec YouTube ad        False   \n",
       "...                      ...          ...   \n",
       "9995  30 sec Hulu commercial        False   \n",
       "9996       15 sec YouTube ad        False   \n",
       "9997       15 sec YouTube ad         True   \n",
       "9998       15 sec YouTube ad         True   \n",
       "9999      Instagram photo ad        False   \n",
       "\n",
       "                                        items_purchased  \\\n",
       "0               ['mexican pizza', 'chicken quesadilla']   \n",
       "1     ['steak garlic nacho fries', 'crunchy taco', '...   \n",
       "2                                ['chicken quesadilla']   \n",
       "3     ['steak garlic nacho fries', 'steak garlic nac...   \n",
       "4       ['spicy potato soft taco', 'nachos bellgrande']   \n",
       "...                                                 ...   \n",
       "9995  ['chicken quesadilla', 'steak garlic nacho fri...   \n",
       "9996  ['soft taco', 'chicken quesadilla', 'steak gar...   \n",
       "9997  ['steak garlic nacho fries', 'steak garlic nac...   \n",
       "9998         ['spicy potato soft taco', 'crunchy taco']   \n",
       "9999  ['crunchwrap supreme', 'chicken quesadilla', '...   \n",
       "\n",
       "                                       drinks_purchased  \n",
       "0                     ['mountain dew', 'mug root beer']  \n",
       "1     ['mug root beer', 'iced tea', 'starry', 'iced ...  \n",
       "2                                     ['mug root beer']  \n",
       "3                 ['pepsi', 'diet pepsi', 'diet pepsi']  \n",
       "4                            ['gatorade', 'baja blast']  \n",
       "...                                                 ...  \n",
       "9995  ['baja blast', 'baja blast', 'gatorade', 'iced...  \n",
       "9996          ['gatorade', 'iced tea', 'mug root beer']  \n",
       "9997  ['diet pepsi', 'iced tea', 'baja blast', 'brisk']  \n",
       "9998                       ['baja blast', 'baja blast']  \n",
       "9999                     ['brisk', 'gatorade', 'brisk']  \n",
       "\n",
       "[10000 rows x 12 columns]"
      ]
     },
     "execution_count": 6,
     "metadata": {},
     "output_type": "execute_result"
    }
   ],
   "source": [
    "df"
   ]
  },
  {
   "cell_type": "code",
   "execution_count": 7,
   "id": "5d542983",
   "metadata": {},
   "outputs": [
    {
     "name": "stdout",
     "output_type": "stream",
     "text": [
      "<class 'pandas.core.frame.DataFrame'>\n",
      "Int64Index: 10000 entries, 0 to 9999\n",
      "Data columns (total 12 columns):\n",
      " #   Column            Non-Null Count  Dtype  \n",
      "---  ------            --------------  -----  \n",
      " 0   customer_id       10000 non-null  int64  \n",
      " 1   state             10000 non-null  object \n",
      " 2   sex               10000 non-null  object \n",
      " 3   age               10000 non-null  float64\n",
      " 4   occupation        10000 non-null  object \n",
      " 5   family_size       10000 non-null  int64  \n",
      " 6   income            10000 non-null  int64  \n",
      " 7   ad_type           10000 non-null  object \n",
      " 8   ad_medium         10000 non-null  object \n",
      " 9   ad_response       10000 non-null  bool   \n",
      " 10  items_purchased   10000 non-null  object \n",
      " 11  drinks_purchased  10000 non-null  object \n",
      "dtypes: bool(1), float64(1), int64(3), object(7)\n",
      "memory usage: 947.3+ KB\n"
     ]
    }
   ],
   "source": [
    "df.info()"
   ]
  },
  {
   "cell_type": "code",
   "execution_count": 8,
   "id": "5d369161",
   "metadata": {},
   "outputs": [
    {
     "data": {
      "text/plain": [
       "<bound method Series.unique of 0                                            DISCOUNT-20%\n",
       "1                                            DISCOUNT-10%\n",
       "2                                            DISCOUNT-20%\n",
       "3                         BOGO - Garlic Steak Nacho Fries\n",
       "4                                            DISCOUNT-20%\n",
       "                              ...                        \n",
       "9995                                         DISCOUNT-10%\n",
       "9996                                          DISCOUNT-5%\n",
       "9997                      BOGO - Garlic Steak Nacho Fries\n",
       "9998                                    BOGO - Baja Blast\n",
       "9999    REWARD - Free Baja Blast with purchase of $20 ...\n",
       "Name: ad_type, Length: 10000, dtype: object>"
      ]
     },
     "execution_count": 8,
     "metadata": {},
     "output_type": "execute_result"
    }
   ],
   "source": [
    "df['ad_type'].unique"
   ]
  },
  {
   "cell_type": "code",
   "execution_count": 9,
   "id": "07335909",
   "metadata": {},
   "outputs": [
    {
     "name": "stdout",
     "output_type": "stream",
     "text": [
      "<class 'pandas.core.frame.DataFrame'>\n",
      "Int64Index: 10000 entries, 0 to 9999\n",
      "Data columns (total 12 columns):\n",
      " #   Column            Non-Null Count  Dtype  \n",
      "---  ------            --------------  -----  \n",
      " 0   customer_id       10000 non-null  int64  \n",
      " 1   state             10000 non-null  object \n",
      " 2   sex               10000 non-null  object \n",
      " 3   age               10000 non-null  float64\n",
      " 4   occupation        10000 non-null  object \n",
      " 5   family_size       10000 non-null  int64  \n",
      " 6   income            10000 non-null  int64  \n",
      " 7   ad_type           10000 non-null  int64  \n",
      " 8   ad_medium         10000 non-null  object \n",
      " 9   ad_response       10000 non-null  bool   \n",
      " 10  items_purchased   10000 non-null  object \n",
      " 11  drinks_purchased  10000 non-null  object \n",
      "dtypes: bool(1), float64(1), int64(4), object(6)\n",
      "memory usage: 1.2+ MB\n"
     ]
    }
   ],
   "source": [
    "for i in range(len(df)):\n",
    "    adtype = df.loc[i]['ad_type']\n",
    "    if str(adtype) == \"DISCOUNT-5%\":\n",
    "        df.at[i, 'ad_type'] = 5\n",
    "    elif str(adtype) == \"DISCOUNT-10%\":\n",
    "        df.at[i, 'ad_type'] = 10\n",
    "    elif str(adtype) == \"DISCOUNT-20%\":\n",
    "        df.at[i, 'ad_type'] = 20\n",
    "    elif str(adtype) == \"DISCOUNT-50%\":\n",
    "        df.at[i, 'ad_type'] = 50\n",
    "    elif \"BOGO\" in adtype:\n",
    "        df.at[i, 'ad_type'] = 100\n",
    "    elif \"REWARD\" in adtype:\n",
    "        df.at[i, 'ad_type'] = 0\n",
    "    else:\n",
    "        print(adtype)\n",
    "     \n",
    "df['ad_type'] = df['ad_type'].astype('int64')\n",
    "df.info()"
   ]
  },
  {
   "cell_type": "markdown",
   "id": "880ff05f",
   "metadata": {},
   "source": [
    "### 2. Training Your Model\n",
    "In the cell seen below, write the code you need to train a K-means clustering model. Make sure you describe the center of each cluster found."
   ]
  },
  {
   "cell_type": "markdown",
   "id": "c5bfd973",
   "metadata": {},
   "source": [
    "I wanted to graph the data, so here it is:"
   ]
  },
  {
   "cell_type": "code",
   "execution_count": 10,
   "id": "3401baab",
   "metadata": {},
   "outputs": [
    {
     "data": {
      "text/plain": [
       "[<matplotlib.lines.Line2D at 0x1f0d95f43d0>]"
      ]
     },
     "execution_count": 10,
     "metadata": {},
     "output_type": "execute_result"
    },
    {
     "data": {
      "image/png": "[encoded data removed]",
      "text/plain": [
       "<Figure size 640x480 with 1 Axes>"
      ]
     },
     "metadata": {},
     "output_type": "display_data"
    }
   ],
   "source": [
    "plt.plot(df[\"income\"], df[\"ad_type\"], 'bo')"
   ]
  },
  {
   "cell_type": "code",
   "execution_count": 11,
   "id": "ea0545af",
   "metadata": {},
   "outputs": [
    {
     "data": {
      "text/plain": [
       "[<matplotlib.lines.Line2D at 0x1f0d9cd7100>]"
      ]
     },
     "execution_count": 11,
     "metadata": {},
     "output_type": "execute_result"
    },
    {
     "data": {
      "image/png": "[encoded data removed]",
      "text/plain": [
       "<Figure size 640x480 with 1 Axes>"
      ]
     },
     "metadata": {},
     "output_type": "display_data"
    }
   ],
   "source": [
    "plt.plot(df[\"family_size\"], df[\"ad_type\"], 'bo')"
   ]
  },
  {
   "cell_type": "code",
   "execution_count": 12,
   "id": "f1573581",
   "metadata": {},
   "outputs": [],
   "source": [
    "test_df = df[['ad_type','income', 'family_size']]\n",
    "kMeans = KMeans(test_df, 10)"
   ]
  },
  {
   "cell_type": "code",
   "execution_count": 13,
   "id": "e77b39c1",
   "metadata": {},
   "outputs": [],
   "source": [
    "assignments, centroids, wcss  = kMeans.run_iterations()"
   ]
  },
  {
   "cell_type": "code",
   "execution_count": 14,
   "id": "49da0f29",
   "metadata": {},
   "outputs": [
    {
     "name": "stdout",
     "output_type": "stream",
     "text": [
      "     ad_type         income  family_size\n",
      "0  36.230432   47932.556043     1.839073\n",
      "1  34.582569   35732.905046     1.711468\n",
      "2  34.381188  120157.107261     1.985149\n",
      "3  38.202765  186542.866359     1.861751\n",
      "4  35.434783    5300.220227     2.147448\n",
      "5  36.002415  148585.669082     2.357488\n",
      "6  39.702381  248209.660714     2.619048\n",
      "7  36.885081   62907.847446     1.788978\n",
      "8  36.030596   78708.489533     1.791465\n",
      "9  37.902913   97181.245631     2.053398\n"
     ]
    }
   ],
   "source": [
    "print(centroids)"
   ]
  },
  {
   "cell_type": "code",
   "execution_count": 15,
   "id": "2bbeea9f",
   "metadata": {},
   "outputs": [
    {
     "data": {
      "text/plain": [
       "[<matplotlib.lines.Line2D at 0x1f0d9fc1eb0>]"
      ]
     },
     "execution_count": 15,
     "metadata": {},
     "output_type": "execute_result"
    },
    {
     "data": {
      "image/png": "[encoded data removed]",
      "text/plain": [
       "<Figure size 640x480 with 1 Axes>"
      ]
     },
     "metadata": {},
     "output_type": "display_data"
    }
   ],
   "source": [
    "plt.plot(centroids['income'], centroids['ad_type'], 'bo')"
   ]
  },
  {
   "cell_type": "markdown",
   "id": "7d8cf5d4",
   "metadata": {},
   "source": [
    "Strangely enough, those who have a decent income prefer to eat at Taco bell when they are having a big discount. This result may occur since wealthier people may tend to shop at higher quality places only going to Taco bell for specific reasons(decent discount). This is a direct relationship with the more money you make the more likely you are to eat at Taco Bell for a discount."
   ]
  },
  {
   "cell_type": "code",
   "execution_count": 16,
   "id": "94ca3b76",
   "metadata": {},
   "outputs": [
    {
     "data": {
      "text/plain": [
       "[<matplotlib.lines.Line2D at 0x1f0da012970>]"
      ]
     },
     "execution_count": 16,
     "metadata": {},
     "output_type": "execute_result"
    },
    {
     "data": {
      "image/png": "[encoded data removed]",
      "text/plain": [
       "<Figure size 640x480 with 1 Axes>"
      ]
     },
     "metadata": {},
     "output_type": "display_data"
    }
   ],
   "source": [
    "plt.plot(centroids['family_size'], centroids['ad_type'], 'bo')"
   ]
  },
  {
   "cell_type": "markdown",
   "id": "0fe52f67",
   "metadata": {},
   "source": [
    "It appears that those with a bigger family are far more likely to respond to a decent sale. This is a direct pattern where the more family members you have the more discounts you are going to apply to. Strange, it's like feeding people is rather expensive. "
   ]
  },
  {
   "cell_type": "markdown",
   "id": "cfb2b903",
   "metadata": {},
   "source": [
    "### 3. Testing Your Model\n",
    "In the cell seen below, write the code you need to test your K-means model. Then, interpret your findings.\n",
    "\n",
    "*Note, level 5 testing uses both an elbow plot and a silhouette score to evaluate your model. Level 4 uses one or the other.*"
   ]
  },
  {
   "cell_type": "code",
   "execution_count": 17,
   "id": "24f8b990",
   "metadata": {},
   "outputs": [],
   "source": [
    "wcss_values = []\n",
    "silhouette_avg_values = []\n",
    "silhouette_scores_dict = {}\n",
    "silhouette_scores = []\n",
    "\n",
    "def get_centroids(data: pd.DataFrame, max_k: int):\n",
    "    k_values = range(1, max_k + 1)\n",
    "    \n",
    "    for k in k_values:\n",
    "        kMeans = KMeans(data, k)\n",
    "        assignments, centroids, wcss = kMeans.run_iterations()\n",
    "        wcss_values.append(wcss)\n",
    "        silhouette_scores = kMeans.calculate_silhoutte(assignments)\n",
    "        silhouette_avg_values.append(silhouette_scores.mean())\n",
    "        silhouette_scores_dict[k] = (assignments, silhouette_scores)\n",
    "        print(f\"K : {k}, centroid : {centroids}, silhouette : {silhouette_scores}\")\n",
    "        \n",
    "    return k_values\n",
    "        \n",
    "#I spent so long developing my own k-means algorithm I forgot seaborn was an option...oops       \n",
    "def plot_elbow(k_values):\n",
    "    plt.figure(figsize=(8, 5))\n",
    "    plt.plot(k_values, wcss_values, marker='o', linestyle='--', color='b')\n",
    "    plt.title('Elbow Plot for Optimal K')\n",
    "    plt.xlabel('Number of Clusters (K)')\n",
    "    plt.ylabel('Within-Cluster Sum of Squares (WCSS)')\n",
    "    plt.xticks(k_values)\n",
    "    plt.grid()\n",
    "    \n",
    "def plot_silhouette(k_values):\n",
    "    best_k = k_values[silhouette_avg_values.index(max(silhouette_avg_values))]\n",
    "    clusters, silhouette_scores = silhouette_scores_dict[best_k]\n",
    "\n",
    "    # Generate silhouette plot\n",
    "    plt.subplot(1, 2, 2)\n",
    "    y_lower = 10\n",
    "    for cluster in range(best_k):\n",
    "        cluster_scores = silhouette_scores[clusters == cluster].sort_values()\n",
    "        size_cluster = len(cluster_scores)\n",
    "        y_upper = y_lower + size_cluster\n",
    "        plt.fill_betweenx(range(y_lower, y_upper), 0, cluster_scores, alpha=0.7)\n",
    "        y_lower = y_upper + 10  # Add space between clusters\n",
    "\n",
    "    plt.axvline(x=silhouette_scores.mean(), color=\"red\", linestyle=\"--\")  # Average silhouette score line\n",
    "    plt.title(f\"Silhouette Plot for k={best_k}\")\n",
    "    plt.xlabel(\"Silhouette Coefficient\")\n",
    "    plt.ylabel(\"Cluster Size\")\n",
    "    plt.grid()\n",
    "\n",
    "    plt.tight_layout()\n",
    "    plt.show()\n"
   ]
  },
  {
   "cell_type": "code",
   "execution_count": 18,
   "id": "8c8603ba",
   "metadata": {},
   "outputs": [
    {
     "name": "stdout",
     "output_type": "stream",
     "text": [
      "K : 1, centroid :    ad_type      income  family_size\n",
      "0  36.0115  66802.1861       1.8965, silhouette : 0      NaN\n",
      "1      NaN\n",
      "2      NaN\n",
      "3      NaN\n",
      "4      NaN\n",
      "        ..\n",
      "9995   NaN\n",
      "9996   NaN\n",
      "9997   NaN\n",
      "9998   NaN\n",
      "9999   NaN\n",
      "Length: 10000, dtype: float64\n",
      "K : 2, centroid :      ad_type         income  family_size\n",
      "0  36.911889  131126.586003     2.115093\n",
      "1  35.731515   46799.894992     1.828526, silhouette : 0       0.943723\n",
      "1       0.943918\n",
      "2       0.531410\n",
      "3       0.943203\n",
      "4       0.938096\n",
      "          ...   \n",
      "9995    0.795876\n",
      "9996    0.942541\n",
      "9997   -0.011290\n",
      "9998    0.884528\n",
      "9999    0.928568\n",
      "Length: 10000, dtype: float64\n",
      "K : 3, centroid :      ad_type         income  family_size\n",
      "0  36.051780   87132.893743     1.899946\n",
      "1  35.705516   35998.111417     1.834524\n",
      "2  37.832335  177834.008383     2.286228, silhouette : 0       0.872935\n",
      "1       0.860351\n",
      "2       0.865732\n",
      "3       0.882808\n",
      "4       0.904168\n",
      "          ...   \n",
      "9995    0.194832\n",
      "9996    0.889424\n",
      "9997    0.891619\n",
      "9998    0.025977\n",
      "9999    0.600690\n",
      "Length: 10000, dtype: float64\n",
      "K : 4, centroid :      ad_type         income  family_size\n",
      "0  35.662640   48107.255903     1.776496\n",
      "1  35.477081    5518.171188     2.134705\n",
      "2  36.446485   98253.306605     1.944543\n",
      "3  37.967033  190200.762951     2.312402, silhouette : 0       0.828695\n",
      "1       0.855393\n",
      "2       0.618261\n",
      "3       0.795808\n",
      "4       0.551857\n",
      "          ...   \n",
      "9995    0.350881\n",
      "9996    0.762323\n",
      "9997    0.860064\n",
      "9998    0.784638\n",
      "9999    0.921511\n",
      "Length: 10000, dtype: float64\n",
      "K : 5, centroid :      ad_type         income  family_size\n",
      "0  36.249581   81188.269347     1.885427\n",
      "1  35.904932   43721.503682     1.762776\n",
      "2  35.415937  131993.021891     2.112960\n",
      "3  39.176647  219805.853293     2.254491\n",
      "4  35.434783    5300.220227     2.147448, silhouette : 0       0.923533\n",
      "1       0.934434\n",
      "2       0.905153\n",
      "3       0.908289\n",
      "4       0.770589\n",
      "          ...   \n",
      "9995    0.882745\n",
      "9996    0.891431\n",
      "9997    0.751203\n",
      "9998    0.169736\n",
      "9999    0.813361\n",
      "Length: 10000, dtype: float64\n",
      "K : 6, centroid :      ad_type         income  family_size\n",
      "0  36.617537   68850.254104     1.783209\n",
      "1  35.302866   40588.140076     1.762574\n",
      "2  36.485507  102541.155797     2.018720\n",
      "3  41.071429  237333.968750     2.441964\n",
      "4  35.434783    5300.220227     2.147448\n",
      "5  35.555556  153259.710526     2.201754, silhouette : 0       0.946529\n",
      "1       0.939918\n",
      "2       0.359412\n",
      "3       0.948310\n",
      "4       0.882105\n",
      "          ...   \n",
      "9995    0.768589\n",
      "9996    0.947036\n",
      "9997    0.799492\n",
      "9998    0.764468\n",
      "9999    0.363987\n",
      "Length: 10000, dtype: float64\n",
      "K : 7, centroid :      ad_type         income  family_size\n",
      "0  36.443559   64335.478808     1.803609\n",
      "1  35.094176   39671.640104     1.752825\n",
      "2  37.453059   90900.175045     1.941853\n",
      "3  37.500000  168720.401408     2.171362\n",
      "4  35.434783    5300.220227     2.147448\n",
      "5  34.970344  123725.247924     2.048636\n",
      "6  39.255319  244385.574468     2.595745, silhouette : 0       0.938336\n",
      "1       0.924537\n",
      "2       0.737280\n",
      "3       0.944235\n",
      "4       0.907735\n",
      "          ...   \n",
      "9995    0.426960\n",
      "9996    0.944838\n",
      "9997    0.880437\n",
      "9998    0.895552\n",
      "9999    0.193793\n",
      "Length: 10000, dtype: float64\n",
      "K : 8, centroid :      ad_type         income  family_size\n",
      "0  36.725146   56649.187135     1.801701\n",
      "1  34.974688   38029.314546     1.736753\n",
      "2  37.495915   98620.308824     2.054739\n",
      "3  38.477089  172012.859838     2.086253\n",
      "4  35.434783    5300.220227     2.147448\n",
      "5  33.843391  129630.929598     2.093391\n",
      "6  39.408602  244782.956989     2.602151\n",
      "7  36.310919   75814.597162     1.806292, silhouette : 0       0.896582\n",
      "1       0.845721\n",
      "2       0.614502\n",
      "3       0.923473\n",
      "4       0.918192\n",
      "          ...   \n",
      "9995    0.709532\n",
      "9996    0.934030\n",
      "9997    0.874807\n",
      "9998    0.727873\n",
      "9999    0.835470\n",
      "Length: 10000, dtype: float64\n",
      "K : 9, centroid :      ad_type         income  family_size\n",
      "0  37.908571   54230.629143     1.813714\n",
      "1  34.646193   37476.569325     1.732399\n",
      "2  35.700549  115741.987637     1.960165\n",
      "3  38.504464  185480.879464     1.870536\n",
      "4  35.434783    5300.220227     2.147448\n",
      "5  36.082251  146271.255411     2.359307\n",
      "6  39.823529  247840.923529     2.611765\n",
      "7  35.389241   71705.032278     1.802532\n",
      "8  36.864952   91932.271704     1.983923, silhouette : 0       0.862499\n",
      "1       0.780276\n",
      "2       0.436275\n",
      "3       0.906574\n",
      "4       0.916397\n",
      "          ...   \n",
      "9995    0.877311\n",
      "9996    0.925232\n",
      "9997    0.853725\n",
      "9998    0.256879\n",
      "9999    0.901841\n",
      "Length: 10000, dtype: float64\n",
      "K : 10, centroid :      ad_type         income  family_size\n",
      "0  36.230432   47932.556043     1.839073\n",
      "1  34.582569   35732.905046     1.711468\n",
      "2  34.381188  120157.107261     1.985149\n",
      "3  38.202765  186542.866359     1.861751\n",
      "4  35.434783    5300.220227     2.147448\n",
      "5  36.002415  148585.669082     2.357488\n",
      "6  39.702381  248209.660714     2.619048\n",
      "7  36.885081   62907.847446     1.788978\n",
      "8  36.030596   78708.489533     1.791465\n",
      "9  37.902913   97181.245631     2.053398, silhouette : 0       0.528943\n",
      "1       0.092926\n",
      "2       0.746302\n",
      "3       0.749774\n",
      "4       0.917100\n",
      "          ...   \n",
      "9995    0.817188\n",
      "9996    0.847121\n",
      "9997    0.901487\n",
      "9998    0.909370\n",
      "9999    0.622093\n",
      "Length: 10000, dtype: float64\n"
     ]
    }
   ],
   "source": [
    "test_df = df[['ad_type','income', 'family_size']]\n",
    "kValues = get_centroids(test_df, 10)"
   ]
  },
  {
   "cell_type": "code",
   "execution_count": 20,
   "id": "ccb31603",
   "metadata": {},
   "outputs": [
    {
     "data": {
      "image/png": "[encoded data removed]",
      "text/plain": [
       "<Figure size 800x500 with 1 Axes>"
      ]
     },
     "metadata": {},
     "output_type": "display_data"
    }
   ],
   "source": [
    "plot_elbow(kValues)"
   ]
  },
  {
   "cell_type": "markdown",
   "id": "5b23deff",
   "metadata": {},
   "source": [
    "Elbow Plot Interpretation: This elbow plot shows that there are roughly 4 different clusters. The elbow occurs at K = 3 with two clusters occuring before the bend. There then appears to be two main clusters after the elbow, with a group between K=3 and K=5, and a group from K=5 to K=10. This shows that there are 4 primary groups of consumers."
   ]
  },
  {
   "cell_type": "markdown",
   "id": "343eb3f7",
   "metadata": {},
   "source": [
    "### 4. Final Answer\n",
    "\n",
    "In the first cell seen below, describe the cluster you have chosen to target with your ad, making sure to describe the type of ad they were the most likely to respond to. Then, use software of your choosing to create the ad you will need to target this cluster. You do not need to create an ad for both the nacho fries and the Baja Blast. You can focus on one if that's what your cluster cares about most.\n",
    "\n",
    "In the second cell seen below, include a link to your ad.\n",
    "\n",
    "*Note, a level 5 ad uses the medium (static image or video) the cluster most likely responded to.* "
   ]
  },
  {
   "cell_type": "markdown",
   "id": "ffa4081a",
   "metadata": {},
   "source": [
    "I am going to appeal to rather large families(probably 5+ members), by using a rather high deal that applies to families. If a deal is only applicable to groups of 5+ or the deal get better per each person, than bigger groups are going to be more enticed towards the product. "
   ]
  },
  {
   "cell_type": "markdown",
   "id": "e29adde2",
   "metadata": {},
   "source": [
    "#### Link your ad here."
   ]
  },
  {
   "cell_type": "markdown",
   "id": "4e65f2b2",
   "metadata": {},
   "source": [
    "<img src=\"C:\\Users\\lbarber\\OneDrive - Cherry Creek School District\\Desktop\\Github\\AI\\Semester2\\Unit1\\TacoBell\\TacoBell-ad.png\" width=60 height=60 />"
   ]
  },
  {
   "cell_type": "code",
   "execution_count": null,
   "id": "b1200185",
   "metadata": {},
   "outputs": [],
   "source": []
  }
 ],
 "metadata": {
  "kernelspec": {
   "display_name": "Python 3 (ipykernel)",
   "language": "python",
   "name": "python3"
  },
  "language_info": {
   "codemirror_mode": {
    "name": "ipython",
    "version": 3
   },
   "file_extension": ".py",
   "mimetype": "text/x-python",
   "name": "python",
   "nbconvert_exporter": "python",
   "pygments_lexer": "ipython3",
   "version": "3.9.13"
  }
 },
 "nbformat": 4,
 "nbformat_minor": 5
}
