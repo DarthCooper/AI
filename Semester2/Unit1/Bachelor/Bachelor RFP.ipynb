{
 "cells": [
  {
   "cell_type": "markdown",
   "id": "1b940825",
   "metadata": {},
   "source": [
    "# RFP: Betting on the Bachelor\n",
    "\n",
    "## Project Overview\n",
    "You are invited to submit a proposal that answers the following question:\n",
    "\n",
    "### Who will win season 29 of the Bachelor?\n",
    "\n",
    "*All proposals must be submitted by **1/15/25 at 11:59 PM**.*"
   ]
  },
  {
   "cell_type": "markdown",
   "id": "968a85f0",
   "metadata": {},
   "source": [
    "## Required Proposal Components\n",
    "\n",
    "### 1. Data Description\n",
    "In the code cell below, read in the data you plan on using to train and test your model. Call `info()` once you have read the data into a dataframe. Consider using some or all of the following sources:\n",
    "- [Scrape Fandom Wikis](https://bachelor-nation.fandom.com/wiki/The_Bachelor) or [the official Bachelor website]('https://bachelornation.com/shows/the-bachelor/')\n",
    "- [Ask ChatGPT to genereate it](https://chatgpt.com/)\n",
    "- [Read in csv files like this](https://www.kaggle.com/datasets/brianbgonz/the-bachelor-contestants?select=contestants.csv)\n",
    "\n",
    "*Note, a level 5 dataset contains at least 1000 rows of non-null data. A level 4 contains at least 500 rows of non-null data.*"
   ]
  },
  {
   "cell_type": "code",
   "execution_count": 1,
   "id": "08c1688a",
   "metadata": {},
   "outputs": [],
   "source": [
    "import pandas as pd\n",
    "from bs4 import BeautifulSoup\n",
    "import numpy as np\n",
    "import bs4\n",
    "import requests\n",
    "import random\n",
    "import seaborn as sns\n",
    "from sklearn import linear_model\n",
    "from sklearn.model_selection import train_test_split\n",
    "from functools import reduce\n",
    "from openai import OpenAI"
   ]
  },
  {
   "cell_type": "code",
   "execution_count": 2,
   "id": "c0b46321",
   "metadata": {},
   "outputs": [],
   "source": [
    "client = OpenAI(\n",
    "  api_key=\"\""
   ]
  },
  {
   "cell_type": "code",
   "execution_count": 20,
   "id": "b734bcc4",
   "metadata": {},
   "outputs": [],
   "source": [
    "def getJobAmount(job : str) -> float:\n",
    "    completion = client.chat.completions.create(\n",
    "      model=\"gpt-4o-mini\",\n",
    "      store=False,\n",
    "      messages=[\n",
    "        {\"role\": \"user\", \"content\": f\"how much money would this job: {job} make. Could you just give the number and nothing else\"}\n",
    "      ]\n",
    "    )\n",
    "\n",
    "    print(type(completion.choices[0].message.content))\n",
    "    \n",
    "    numbers = \"\"\n",
    "    for char in completion.choices[0].message.content:\n",
    "        if char.isdigit():\n",
    "            numbers += char\n",
    "            \n",
    "    return float(numbers)"
   ]
  },
  {
   "cell_type": "code",
   "execution_count": null,
   "id": "f2785dd8",
   "metadata": {},
   "outputs": [
    {
     "name": "stdout",
     "output_type": "stream",
     "text": [
      "<class 'str'>\n",
      "<class 'str'>\n",
      "<class 'str'>\n",
      "<class 'str'>\n",
      "<class 'str'>\n",
      "<class 'str'>\n",
      "<class 'str'>\n",
      "<class 'str'>\n",
      "<class 'str'>\n",
      "<class 'str'>\n",
      "<class 'str'>\n",
      "<class 'str'>\n",
      "<class 'str'>\n",
      "<class 'str'>\n",
      "<class 'str'>\n",
      "<class 'str'>\n"
     ]
    }
   ],
   "source": [
    "df = pd.read_csv(\"bachelor-contestants.csv\", encoding=\"ISO-8859-1\") #Seasons 1-2, 5, 9-26\n",
    "finances = []\n",
    "for occupation in df[\"Occupation\"]:\n",
    "    finances.append(getJobAmount(occupation))\n",
    "    \n",
    "df[\"Occupation\"] = finances"
   ]
  },
  {
   "cell_type": "code",
   "execution_count": 5,
   "id": "63b887f2",
   "metadata": {},
   "outputs": [],
   "source": [
    "def Scrape(url : str, htmlIdentifier : str):\n",
    "    URL = url\n",
    "    page = requests.get(URL)\n",
    "    soup = BeautifulSoup(page.content, \"html.parser\")\n",
    "        \n",
    "    data = soup.find_all(htmlIdentifier)\n",
    "        \n",
    "    return data\n",
    "\n",
    "def getScrapedId(url : str, htmlIdentifier : str, idName : str):\n",
    "    URL = url\n",
    "    page = requests.get(URL)\n",
    "    soup = BeautifulSoup(page.content, \"html.parser\")\n",
    "        \n",
    "    data = soup.find(htmlIdentifier, id=idName)\n",
    "        \n",
    "    return data"
   ]
  },
  {
   "cell_type": "code",
   "execution_count": 6,
   "id": "d59cc38d",
   "metadata": {},
   "outputs": [],
   "source": [
    "scrapedData = Scrape(\"https://bachelor-nation.fandom.com/wiki/The_Bachelor\", \"a\")"
   ]
  },
  {
   "cell_type": "code",
   "execution_count": 7,
   "id": "faabd626",
   "metadata": {},
   "outputs": [
    {
     "data": {
      "text/plain": [
       "{'The Bachelor (Season 7)': 'https://bachelor-nation.fandom.com//wiki/The_Bachelor_(Season_7)',\n",
       " 'The Bachelor (Season 8)': 'https://bachelor-nation.fandom.com//wiki/The_Bachelor_(Season_8)',\n",
       " 'The Bachelor (Season 9)': 'https://bachelor-nation.fandom.com//wiki/The_Bachelor_(Season_9)',\n",
       " 'The Bachelor (Season 1)': 'https://bachelor-nation.fandom.com//wiki/The_Bachelor_(Season_1)',\n",
       " 'The Bachelor (Season 2)': 'https://bachelor-nation.fandom.com//wiki/The_Bachelor_(Season_2)',\n",
       " 'The Bachelor (Season 3)': 'https://bachelor-nation.fandom.com//wiki/The_Bachelor_(Season_3)',\n",
       " 'The Bachelor (Season 4)': 'https://bachelor-nation.fandom.com//wiki/The_Bachelor_(Season_4)',\n",
       " 'The Bachelor (Season 5)': 'https://bachelor-nation.fandom.com//wiki/The_Bachelor_(Season_5)',\n",
       " 'The Bachelor (Season 6)': 'https://bachelor-nation.fandom.com//wiki/The_Bachelor_(Season_6)',\n",
       " 'The Bachelor (Season 10)': 'https://bachelor-nation.fandom.com//wiki/The_Bachelor_(Season_10)',\n",
       " 'The Bachelor (Season 11)': 'https://bachelor-nation.fandom.com//wiki/The_Bachelor_(Season_11)',\n",
       " 'The Bachelor (Season 12)': 'https://bachelor-nation.fandom.com//wiki/The_Bachelor_(Season_12)',\n",
       " 'The Bachelor (Season 13)': 'https://bachelor-nation.fandom.com//wiki/The_Bachelor_(Season_13)',\n",
       " 'The Bachelor (Season 14)': 'https://bachelor-nation.fandom.com//wiki/The_Bachelor_(Season_14)',\n",
       " 'The Bachelor (Season 15)': 'https://bachelor-nation.fandom.com//wiki/The_Bachelor_(Season_15)',\n",
       " 'The Bachelor (Season 16)': 'https://bachelor-nation.fandom.com//wiki/The_Bachelor_(Season_16)',\n",
       " 'The Bachelor (Season 17)': 'https://bachelor-nation.fandom.com//wiki/The_Bachelor_(Season_17)',\n",
       " 'The Bachelor (Season 18)': 'https://bachelor-nation.fandom.com//wiki/The_Bachelor_(Season_18)',\n",
       " 'The Bachelor (Season 19)': 'https://bachelor-nation.fandom.com//wiki/The_Bachelor_(Season_19)',\n",
       " 'The Bachelor (Season 20)': 'https://bachelor-nation.fandom.com//wiki/The_Bachelor_(Season_20)',\n",
       " 'The Bachelor (Season 21)': 'https://bachelor-nation.fandom.com//wiki/The_Bachelor_(Season_21)',\n",
       " 'The Bachelor (Season 22)': 'https://bachelor-nation.fandom.com//wiki/The_Bachelor_(Season_22)',\n",
       " 'The Bachelor (Season 23)': 'https://bachelor-nation.fandom.com//wiki/The_Bachelor_(Season_23)',\n",
       " 'The Bachelor (Season 24)': 'https://bachelor-nation.fandom.com//wiki/The_Bachelor_(Season_24)',\n",
       " 'The Bachelor (Season 25)': 'https://bachelor-nation.fandom.com//wiki/The_Bachelor_(Season_25)',\n",
       " 'The Bachelor (Season 26)': 'https://bachelor-nation.fandom.com//wiki/The_Bachelor_(Season_26)',\n",
       " 'The Bachelor (Season 27)': 'https://bachelor-nation.fandom.com//wiki/The_Bachelor_(Season_27)',\n",
       " 'The Bachelor (Season 28)': 'https://bachelor-nation.fandom.com//wiki/The_Bachelor_(Season_28)',\n",
       " 'The Bachelor (Season 29)': 'https://bachelor-nation.fandom.com//wiki/The_Bachelor_(Season_29)'}"
      ]
     },
     "execution_count": 7,
     "metadata": {},
     "output_type": "execute_result"
    }
   ],
   "source": [
    "links = {}\n",
    "for data in scrapedData:\n",
    "    title = data.get(\"title\")\n",
    "    \n",
    "    if not type(title) == str: \n",
    "        continue\n",
    "    \n",
    "    if \"The Bachelor (Season\" in title:\n",
    "        links[title] = f\"https://bachelor-nation.fandom.com/\" + data.get(\"href\")\n",
    "    \n",
    "links"
   ]
  },
  {
   "cell_type": "code",
   "execution_count": 8,
   "id": "e0884dc3",
   "metadata": {},
   "outputs": [],
   "source": [
    "names : list = []\n",
    "ages : list = []\n",
    "hometowns : list = []\n",
    "occupations : list = []\n",
    "status : list = []\n",
    "\n",
    "def GetBachelorSeason(link : str):\n",
    "    URL = link\n",
    "    page = requests.get(URL)\n",
    "    soup = BeautifulSoup(page.content, \"html.parser\")\n",
    "    \n",
    "    start_title = soup.find('span', id=\"Contestants\")\n",
    "    \n",
    "    if not type(start_title) == bs4.element.Tag:\n",
    "        return\n",
    "    \n",
    "    end_title = soup.find('span', id=\"Episodes\")\n",
    "    end_tr = end_title.find_previous(\"tr\")\n",
    "    elements_between = []\n",
    "    \n",
    "    current_tr = start_title.find_next('tr')\n",
    "    tr_elements = []\n",
    "\n",
    "    while current_tr and current_tr != end_tr:\n",
    "        tr_elements.append(current_tr)\n",
    "        current_tr = current_tr.find_next('tr')\n",
    "        \n",
    "    for contestantData in tr_elements:\n",
    "        curTr = contestantData.find_next('td')\n",
    "        if len(names) < 25 and not curTr.getText(strip=True) in names:\n",
    "            names.append(curTr.getText(strip=True))\n",
    "        curTr = curTr.find_next('td')\n",
    "        if len(ages) < 25:\n",
    "            ages.append(curTr.getText(strip=True))\n",
    "        curTr = curTr.find_next('td')\n",
    "        if len(hometowns) < 25:\n",
    "            hometowns.append(curTr.getText(strip=True))\n",
    "        curTr = curTr.find_next('td')\n",
    "        if len(occupations) < 25:\n",
    "            occupations.append(getJobAmount(curTr.getText(strip=True)))\n",
    "        curTr = curTr.find_next('td')\n",
    "        if len(status) < 25:\n",
    "            numbers = 0\n",
    "            if \"Winner\" in curTr.text:\n",
    "                numbers = 6\n",
    "            elif \"Runner-up\" in curTr.text:\n",
    "                numbers = 6\n",
    "            elif \"Quit\" in curTr.text:\n",
    "                numbers = 0\n",
    "            else:\n",
    "                for char in curTr.text:\n",
    "                    if char.isdigit():\n",
    "                        numbers += float(char)\n",
    "            status.append(numbers)\n",
    "            \n",
    "def ClearLists():\n",
    "    names[:] = []\n",
    "    ages[:] = []    \n",
    "    hometowns[:] = []    \n",
    "    occupations[:] = []    \n",
    "    status[:] = []"
   ]
  },
  {
   "cell_type": "code",
   "execution_count": 9,
   "id": "0dea9d81",
   "metadata": {},
   "outputs": [],
   "source": [
    "def GetBachelorSeasonWiki(link : str, end : str = \"Call-out_order\", tag : str = \"h2\", start : str = \"Contestants\"):\n",
    "    URL = link\n",
    "    page = requests.get(URL)\n",
    "    soup = BeautifulSoup(page.content, \"html.parser\")\n",
    "    \n",
    "    start_title = soup.find(tag, id=start)\n",
    "    \n",
    "    if not type(start_title) == bs4.element.Tag:\n",
    "        return\n",
    "    \n",
    "    end_title = soup.find(tag, id=end)\n",
    "    end_tr = end_title.find_previous(\"tr\")\n",
    "    elements_between = []\n",
    "    \n",
    "    current_tr = start_title.find_next('tr')\n",
    "    tr_elements = []\n",
    "\n",
    "    while current_tr and current_tr != end_tr:\n",
    "        tr_elements.append(current_tr)\n",
    "        current_tr = current_tr.find_next('tr')\n",
    "        \n",
    "    for contestantData in tr_elements:\n",
    "        curTr = contestantData.find_next('td')\n",
    "        if len(names) < 25 and not curTr.getText(strip=True) in names:\n",
    "            names.append(curTr.getText(strip=True))\n",
    "        curTr = curTr.find_next('td')\n",
    "        if len(ages) < 25:\n",
    "            ages.append(curTr.getText(strip=True))\n",
    "        curTr = curTr.find_next('td')\n",
    "        if len(hometowns) < 25:\n",
    "            hometowns.append(curTr.getText(strip=True))\n",
    "        curTr = curTr.find_next('td')\n",
    "        if len(occupations) < 25:\n",
    "            occupations.append(getJobAmount(curTr.getText(strip=True)))\n",
    "        curTr = curTr.find_next('td')\n",
    "        if len(status) < 25:\n",
    "            numbers = 0\n",
    "            if \"Winner\" in curTr.text:\n",
    "                numbers = 6\n",
    "            elif \"Runner-up\" in curTr.text:\n",
    "                numbers = 6\n",
    "            elif \"Quit\" in curTr.text:\n",
    "                numbers = 0\n",
    "            else:\n",
    "                for char in curTr.text:\n",
    "                    if char.isdigit():\n",
    "                        numbers += float(char)\n",
    "            status.append(numbers)\n",
    "\n"
   ]
  },
  {
   "cell_type": "code",
   "execution_count": 10,
   "id": "f6c9e9a5",
   "metadata": {},
   "outputs": [
    {
     "name": "stdout",
     "output_type": "stream",
     "text": [
      "<class 'str'>\n",
      "<class 'str'>\n",
      "<class 'str'>\n",
      "<class 'str'>\n"
     ]
    },
    {
     "ename": "KeyboardInterrupt",
     "evalue": "",
     "output_type": "error",
     "traceback": [
      "\u001b[1;31m---------------------------------------------------------------------------\u001b[0m",
      "\u001b[1;31mHTTPStatusError\u001b[0m                           Traceback (most recent call last)",
      "\u001b[1;32m~\\AppData\\Roaming\\Python\\Python39\\site-packages\\openai\\_base_client.py\u001b[0m in \u001b[0;36m_request\u001b[1;34m(self, cast_to, options, retries_taken, stream, stream_cls)\u001b[0m\n\u001b[0;32m   1042\u001b[0m         \u001b[1;32mtry\u001b[0m\u001b[1;33m:\u001b[0m\u001b[1;33m\u001b[0m\u001b[1;33m\u001b[0m\u001b[0m\n\u001b[1;32m-> 1043\u001b[1;33m             \u001b[0mresponse\u001b[0m\u001b[1;33m.\u001b[0m\u001b[0mraise_for_status\u001b[0m\u001b[1;33m(\u001b[0m\u001b[1;33m)\u001b[0m\u001b[1;33m\u001b[0m\u001b[1;33m\u001b[0m\u001b[0m\n\u001b[0m\u001b[0;32m   1044\u001b[0m         \u001b[1;32mexcept\u001b[0m \u001b[0mhttpx\u001b[0m\u001b[1;33m.\u001b[0m\u001b[0mHTTPStatusError\u001b[0m \u001b[1;32mas\u001b[0m \u001b[0merr\u001b[0m\u001b[1;33m:\u001b[0m  \u001b[1;31m# thrown on 4xx and 5xx status code\u001b[0m\u001b[1;33m\u001b[0m\u001b[1;33m\u001b[0m\u001b[0m\n",
      "\u001b[1;32m~\\AppData\\Roaming\\Python\\Python39\\site-packages\\httpx\\_models.py\u001b[0m in \u001b[0;36mraise_for_status\u001b[1;34m(self)\u001b[0m\n\u001b[0;32m    828\u001b[0m         \u001b[0mmessage\u001b[0m \u001b[1;33m=\u001b[0m \u001b[0mmessage\u001b[0m\u001b[1;33m.\u001b[0m\u001b[0mformat\u001b[0m\u001b[1;33m(\u001b[0m\u001b[0mself\u001b[0m\u001b[1;33m,\u001b[0m \u001b[0merror_type\u001b[0m\u001b[1;33m=\u001b[0m\u001b[0merror_type\u001b[0m\u001b[1;33m)\u001b[0m\u001b[1;33m\u001b[0m\u001b[1;33m\u001b[0m\u001b[0m\n\u001b[1;32m--> 829\u001b[1;33m         \u001b[1;32mraise\u001b[0m \u001b[0mHTTPStatusError\u001b[0m\u001b[1;33m(\u001b[0m\u001b[0mmessage\u001b[0m\u001b[1;33m,\u001b[0m \u001b[0mrequest\u001b[0m\u001b[1;33m=\u001b[0m\u001b[0mrequest\u001b[0m\u001b[1;33m,\u001b[0m \u001b[0mresponse\u001b[0m\u001b[1;33m=\u001b[0m\u001b[0mself\u001b[0m\u001b[1;33m)\u001b[0m\u001b[1;33m\u001b[0m\u001b[1;33m\u001b[0m\u001b[0m\n\u001b[0m\u001b[0;32m    830\u001b[0m \u001b[1;33m\u001b[0m\u001b[0m\n",
      "\u001b[1;31mHTTPStatusError\u001b[0m: Client error '429 Too Many Requests' for url 'https://api.openai.com/v1/chat/completions'\nFor more information check: https://developer.mozilla.org/en-US/docs/Web/HTTP/Status/429",
      "\nDuring handling of the above exception, another exception occurred:\n",
      "\u001b[1;31mKeyboardInterrupt\u001b[0m                         Traceback (most recent call last)",
      "\u001b[1;32m~\\AppData\\Local\\Temp\\ipykernel_22124\\3821838689.py\u001b[0m in \u001b[0;36m<module>\u001b[1;34m\u001b[0m\n\u001b[1;32m----> 1\u001b[1;33m \u001b[0mGetBachelorSeason\u001b[0m\u001b[1;33m(\u001b[0m\u001b[1;34m\"https://bachelor-nation.fandom.com//wiki/The_Bachelor_(Season_3)\"\u001b[0m\u001b[1;33m)\u001b[0m\u001b[1;33m\u001b[0m\u001b[1;33m\u001b[0m\u001b[0m\n\u001b[0m\u001b[0;32m      2\u001b[0m season3_df = {\n\u001b[0;32m      3\u001b[0m     \u001b[1;34m\"Name\"\u001b[0m \u001b[1;33m:\u001b[0m \u001b[0mnames\u001b[0m\u001b[1;33m,\u001b[0m\u001b[1;33m\u001b[0m\u001b[1;33m\u001b[0m\u001b[0m\n\u001b[0;32m      4\u001b[0m     \u001b[1;34m\"Age\"\u001b[0m \u001b[1;33m:\u001b[0m \u001b[0mages\u001b[0m\u001b[1;33m,\u001b[0m\u001b[1;33m\u001b[0m\u001b[1;33m\u001b[0m\u001b[0m\n\u001b[0;32m      5\u001b[0m     \u001b[1;34m\"Hometown\"\u001b[0m \u001b[1;33m:\u001b[0m \u001b[0mhometowns\u001b[0m\u001b[1;33m,\u001b[0m\u001b[1;33m\u001b[0m\u001b[1;33m\u001b[0m\u001b[0m\n",
      "\u001b[1;32m~\\AppData\\Local\\Temp\\ipykernel_22124\\2063028698.py\u001b[0m in \u001b[0;36mGetBachelorSeason\u001b[1;34m(link)\u001b[0m\n\u001b[0;32m     38\u001b[0m         \u001b[0mcurTr\u001b[0m \u001b[1;33m=\u001b[0m \u001b[0mcurTr\u001b[0m\u001b[1;33m.\u001b[0m\u001b[0mfind_next\u001b[0m\u001b[1;33m(\u001b[0m\u001b[1;34m'td'\u001b[0m\u001b[1;33m)\u001b[0m\u001b[1;33m\u001b[0m\u001b[1;33m\u001b[0m\u001b[0m\n\u001b[0;32m     39\u001b[0m         \u001b[1;32mif\u001b[0m \u001b[0mlen\u001b[0m\u001b[1;33m(\u001b[0m\u001b[0moccupations\u001b[0m\u001b[1;33m)\u001b[0m \u001b[1;33m<\u001b[0m \u001b[1;36m25\u001b[0m\u001b[1;33m:\u001b[0m\u001b[1;33m\u001b[0m\u001b[1;33m\u001b[0m\u001b[0m\n\u001b[1;32m---> 40\u001b[1;33m             \u001b[0moccupations\u001b[0m\u001b[1;33m.\u001b[0m\u001b[0mappend\u001b[0m\u001b[1;33m(\u001b[0m\u001b[0mgetJobAmount\u001b[0m\u001b[1;33m(\u001b[0m\u001b[0mcurTr\u001b[0m\u001b[1;33m.\u001b[0m\u001b[0mgetText\u001b[0m\u001b[1;33m(\u001b[0m\u001b[0mstrip\u001b[0m\u001b[1;33m=\u001b[0m\u001b[1;32mTrue\u001b[0m\u001b[1;33m)\u001b[0m\u001b[1;33m)\u001b[0m\u001b[1;33m)\u001b[0m\u001b[1;33m\u001b[0m\u001b[1;33m\u001b[0m\u001b[0m\n\u001b[0m\u001b[0;32m     41\u001b[0m         \u001b[0mcurTr\u001b[0m \u001b[1;33m=\u001b[0m \u001b[0mcurTr\u001b[0m\u001b[1;33m.\u001b[0m\u001b[0mfind_next\u001b[0m\u001b[1;33m(\u001b[0m\u001b[1;34m'td'\u001b[0m\u001b[1;33m)\u001b[0m\u001b[1;33m\u001b[0m\u001b[1;33m\u001b[0m\u001b[0m\n\u001b[0;32m     42\u001b[0m         \u001b[1;32mif\u001b[0m \u001b[0mlen\u001b[0m\u001b[1;33m(\u001b[0m\u001b[0mstatus\u001b[0m\u001b[1;33m)\u001b[0m \u001b[1;33m<\u001b[0m \u001b[1;36m25\u001b[0m\u001b[1;33m:\u001b[0m\u001b[1;33m\u001b[0m\u001b[1;33m\u001b[0m\u001b[0m\n",
      "\u001b[1;32m~\\AppData\\Local\\Temp\\ipykernel_22124\\3034826689.py\u001b[0m in \u001b[0;36mgetJobAmount\u001b[1;34m(job)\u001b[0m\n\u001b[0;32m      1\u001b[0m \u001b[1;32mdef\u001b[0m \u001b[0mgetJobAmount\u001b[0m\u001b[1;33m(\u001b[0m\u001b[0mjob\u001b[0m \u001b[1;33m:\u001b[0m \u001b[0mstr\u001b[0m\u001b[1;33m)\u001b[0m \u001b[1;33m->\u001b[0m \u001b[0mfloat\u001b[0m\u001b[1;33m:\u001b[0m\u001b[1;33m\u001b[0m\u001b[1;33m\u001b[0m\u001b[0m\n\u001b[1;32m----> 2\u001b[1;33m     completion = client.chat.completions.create(\n\u001b[0m\u001b[0;32m      3\u001b[0m       \u001b[0mmodel\u001b[0m\u001b[1;33m=\u001b[0m\u001b[1;34m\"gpt-4o-mini\"\u001b[0m\u001b[1;33m,\u001b[0m\u001b[1;33m\u001b[0m\u001b[1;33m\u001b[0m\u001b[0m\n\u001b[0;32m      4\u001b[0m       \u001b[0mstore\u001b[0m\u001b[1;33m=\u001b[0m\u001b[1;32mTrue\u001b[0m\u001b[1;33m,\u001b[0m\u001b[1;33m\u001b[0m\u001b[1;33m\u001b[0m\u001b[0m\n\u001b[0;32m      5\u001b[0m       messages=[\n",
      "\u001b[1;32m~\\AppData\\Roaming\\Python\\Python39\\site-packages\\openai\\_utils\\_utils.py\u001b[0m in \u001b[0;36mwrapper\u001b[1;34m(*args, **kwargs)\u001b[0m\n\u001b[0;32m    277\u001b[0m                         \u001b[0mmsg\u001b[0m \u001b[1;33m=\u001b[0m \u001b[1;34mf\"Missing required argument: {quote(missing[0])}\"\u001b[0m\u001b[1;33m\u001b[0m\u001b[1;33m\u001b[0m\u001b[0m\n\u001b[0;32m    278\u001b[0m                 \u001b[1;32mraise\u001b[0m \u001b[0mTypeError\u001b[0m\u001b[1;33m(\u001b[0m\u001b[0mmsg\u001b[0m\u001b[1;33m)\u001b[0m\u001b[1;33m\u001b[0m\u001b[1;33m\u001b[0m\u001b[0m\n\u001b[1;32m--> 279\u001b[1;33m             \u001b[1;32mreturn\u001b[0m \u001b[0mfunc\u001b[0m\u001b[1;33m(\u001b[0m\u001b[1;33m*\u001b[0m\u001b[0margs\u001b[0m\u001b[1;33m,\u001b[0m \u001b[1;33m**\u001b[0m\u001b[0mkwargs\u001b[0m\u001b[1;33m)\u001b[0m\u001b[1;33m\u001b[0m\u001b[1;33m\u001b[0m\u001b[0m\n\u001b[0m\u001b[0;32m    280\u001b[0m \u001b[1;33m\u001b[0m\u001b[0m\n\u001b[0;32m    281\u001b[0m         \u001b[1;32mreturn\u001b[0m \u001b[0mwrapper\u001b[0m  \u001b[1;31m# type: ignore\u001b[0m\u001b[1;33m\u001b[0m\u001b[1;33m\u001b[0m\u001b[0m\n",
      "\u001b[1;32m~\\AppData\\Roaming\\Python\\Python39\\site-packages\\openai\\resources\\chat\\completions.py\u001b[0m in \u001b[0;36mcreate\u001b[1;34m(self, messages, model, audio, frequency_penalty, function_call, functions, logit_bias, logprobs, max_completion_tokens, max_tokens, metadata, modalities, n, parallel_tool_calls, prediction, presence_penalty, reasoning_effort, response_format, seed, service_tier, stop, store, stream, stream_options, temperature, tool_choice, tools, top_logprobs, top_p, user, extra_headers, extra_query, extra_body, timeout)\u001b[0m\n\u001b[0;32m    857\u001b[0m     ) -> ChatCompletion | Stream[ChatCompletionChunk]:\n\u001b[0;32m    858\u001b[0m         \u001b[0mvalidate_response_format\u001b[0m\u001b[1;33m(\u001b[0m\u001b[0mresponse_format\u001b[0m\u001b[1;33m)\u001b[0m\u001b[1;33m\u001b[0m\u001b[1;33m\u001b[0m\u001b[0m\n\u001b[1;32m--> 859\u001b[1;33m         return self._post(\n\u001b[0m\u001b[0;32m    860\u001b[0m             \u001b[1;34m\"/chat/completions\"\u001b[0m\u001b[1;33m,\u001b[0m\u001b[1;33m\u001b[0m\u001b[1;33m\u001b[0m\u001b[0m\n\u001b[0;32m    861\u001b[0m             body=maybe_transform(\n",
      "\u001b[1;32m~\\AppData\\Roaming\\Python\\Python39\\site-packages\\openai\\_base_client.py\u001b[0m in \u001b[0;36mpost\u001b[1;34m(self, path, cast_to, body, options, files, stream, stream_cls)\u001b[0m\n\u001b[0;32m   1281\u001b[0m             \u001b[0mmethod\u001b[0m\u001b[1;33m=\u001b[0m\u001b[1;34m\"post\"\u001b[0m\u001b[1;33m,\u001b[0m \u001b[0murl\u001b[0m\u001b[1;33m=\u001b[0m\u001b[0mpath\u001b[0m\u001b[1;33m,\u001b[0m \u001b[0mjson_data\u001b[0m\u001b[1;33m=\u001b[0m\u001b[0mbody\u001b[0m\u001b[1;33m,\u001b[0m \u001b[0mfiles\u001b[0m\u001b[1;33m=\u001b[0m\u001b[0mto_httpx_files\u001b[0m\u001b[1;33m(\u001b[0m\u001b[0mfiles\u001b[0m\u001b[1;33m)\u001b[0m\u001b[1;33m,\u001b[0m \u001b[1;33m**\u001b[0m\u001b[0moptions\u001b[0m\u001b[1;33m\u001b[0m\u001b[1;33m\u001b[0m\u001b[0m\n\u001b[0;32m   1282\u001b[0m         )\n\u001b[1;32m-> 1283\u001b[1;33m         \u001b[1;32mreturn\u001b[0m \u001b[0mcast\u001b[0m\u001b[1;33m(\u001b[0m\u001b[0mResponseT\u001b[0m\u001b[1;33m,\u001b[0m \u001b[0mself\u001b[0m\u001b[1;33m.\u001b[0m\u001b[0mrequest\u001b[0m\u001b[1;33m(\u001b[0m\u001b[0mcast_to\u001b[0m\u001b[1;33m,\u001b[0m \u001b[0mopts\u001b[0m\u001b[1;33m,\u001b[0m \u001b[0mstream\u001b[0m\u001b[1;33m=\u001b[0m\u001b[0mstream\u001b[0m\u001b[1;33m,\u001b[0m \u001b[0mstream_cls\u001b[0m\u001b[1;33m=\u001b[0m\u001b[0mstream_cls\u001b[0m\u001b[1;33m)\u001b[0m\u001b[1;33m)\u001b[0m\u001b[1;33m\u001b[0m\u001b[1;33m\u001b[0m\u001b[0m\n\u001b[0m\u001b[0;32m   1284\u001b[0m \u001b[1;33m\u001b[0m\u001b[0m\n\u001b[0;32m   1285\u001b[0m     def patch(\n",
      "\u001b[1;32m~\\AppData\\Roaming\\Python\\Python39\\site-packages\\openai\\_base_client.py\u001b[0m in \u001b[0;36mrequest\u001b[1;34m(self, cast_to, options, remaining_retries, stream, stream_cls)\u001b[0m\n\u001b[0;32m    958\u001b[0m             \u001b[0mretries_taken\u001b[0m \u001b[1;33m=\u001b[0m \u001b[1;36m0\u001b[0m\u001b[1;33m\u001b[0m\u001b[1;33m\u001b[0m\u001b[0m\n\u001b[0;32m    959\u001b[0m \u001b[1;33m\u001b[0m\u001b[0m\n\u001b[1;32m--> 960\u001b[1;33m         return self._request(\n\u001b[0m\u001b[0;32m    961\u001b[0m             \u001b[0mcast_to\u001b[0m\u001b[1;33m=\u001b[0m\u001b[0mcast_to\u001b[0m\u001b[1;33m,\u001b[0m\u001b[1;33m\u001b[0m\u001b[1;33m\u001b[0m\u001b[0m\n\u001b[0;32m    962\u001b[0m             \u001b[0moptions\u001b[0m\u001b[1;33m=\u001b[0m\u001b[0moptions\u001b[0m\u001b[1;33m,\u001b[0m\u001b[1;33m\u001b[0m\u001b[1;33m\u001b[0m\u001b[0m\n",
      "\u001b[1;32m~\\AppData\\Roaming\\Python\\Python39\\site-packages\\openai\\_base_client.py\u001b[0m in \u001b[0;36m_request\u001b[1;34m(self, cast_to, options, retries_taken, stream, stream_cls)\u001b[0m\n\u001b[0;32m   1047\u001b[0m             \u001b[1;32mif\u001b[0m \u001b[0mremaining_retries\u001b[0m \u001b[1;33m>\u001b[0m \u001b[1;36m0\u001b[0m \u001b[1;32mand\u001b[0m \u001b[0mself\u001b[0m\u001b[1;33m.\u001b[0m\u001b[0m_should_retry\u001b[0m\u001b[1;33m(\u001b[0m\u001b[0merr\u001b[0m\u001b[1;33m.\u001b[0m\u001b[0mresponse\u001b[0m\u001b[1;33m)\u001b[0m\u001b[1;33m:\u001b[0m\u001b[1;33m\u001b[0m\u001b[1;33m\u001b[0m\u001b[0m\n\u001b[0;32m   1048\u001b[0m                 \u001b[0merr\u001b[0m\u001b[1;33m.\u001b[0m\u001b[0mresponse\u001b[0m\u001b[1;33m.\u001b[0m\u001b[0mclose\u001b[0m\u001b[1;33m(\u001b[0m\u001b[1;33m)\u001b[0m\u001b[1;33m\u001b[0m\u001b[1;33m\u001b[0m\u001b[0m\n\u001b[1;32m-> 1049\u001b[1;33m                 return self._retry_request(\n\u001b[0m\u001b[0;32m   1050\u001b[0m                     \u001b[0minput_options\u001b[0m\u001b[1;33m,\u001b[0m\u001b[1;33m\u001b[0m\u001b[1;33m\u001b[0m\u001b[0m\n\u001b[0;32m   1051\u001b[0m                     \u001b[0mcast_to\u001b[0m\u001b[1;33m,\u001b[0m\u001b[1;33m\u001b[0m\u001b[1;33m\u001b[0m\u001b[0m\n",
      "\u001b[1;32m~\\AppData\\Roaming\\Python\\Python39\\site-packages\\openai\\_base_client.py\u001b[0m in \u001b[0;36m_retry_request\u001b[1;34m(self, options, cast_to, retries_taken, response_headers, stream, stream_cls)\u001b[0m\n\u001b[0;32m   1094\u001b[0m         \u001b[1;31m# In a synchronous context we are blocking the entire thread. Up to the library user to run the client in a\u001b[0m\u001b[1;33m\u001b[0m\u001b[1;33m\u001b[0m\u001b[0m\n\u001b[0;32m   1095\u001b[0m         \u001b[1;31m# different thread if necessary.\u001b[0m\u001b[1;33m\u001b[0m\u001b[1;33m\u001b[0m\u001b[0m\n\u001b[1;32m-> 1096\u001b[1;33m         \u001b[0mtime\u001b[0m\u001b[1;33m.\u001b[0m\u001b[0msleep\u001b[0m\u001b[1;33m(\u001b[0m\u001b[0mtimeout\u001b[0m\u001b[1;33m)\u001b[0m\u001b[1;33m\u001b[0m\u001b[1;33m\u001b[0m\u001b[0m\n\u001b[0m\u001b[0;32m   1097\u001b[0m \u001b[1;33m\u001b[0m\u001b[0m\n\u001b[0;32m   1098\u001b[0m         return self._request(\n",
      "\u001b[1;31mKeyboardInterrupt\u001b[0m: "
     ]
    }
   ],
   "source": [
    "GetBachelorSeason(\"https://bachelor-nation.fandom.com//wiki/The_Bachelor_(Season_3)\")\n",
    "season3_df = {\n",
    "    \"Name\" : names,\n",
    "    \"Age\" : ages,\n",
    "    \"Hometown\" : hometowns,\n",
    "    \"Occupation\" : occupations,\n",
    "    \"ElimWeek\" : status,\n",
    "}\n",
    "s3_df = pd.DataFrame(season3_df)\n",
    "s3_df"
   ]
  },
  {
   "cell_type": "code",
   "execution_count": null,
   "id": "526c00e8",
   "metadata": {},
   "outputs": [],
   "source": [
    "ClearLists()\n",
    "GetBachelorSeason(\"https://bachelor-nation.fandom.com//wiki/The_Bachelor_(Season_4)\")\n",
    "season4_df = {\n",
    "    \"Name\" : names,\n",
    "    \"Age\" : ages,\n",
    "    \"Hometown\" : hometowns,\n",
    "    \"Occupation\" : occupations,\n",
    "    \"ElimWeek\" : status,\n",
    "}\n",
    "s4_df = pd.DataFrame(season4_df)\n",
    "s4_df"
   ]
  },
  {
   "cell_type": "code",
   "execution_count": null,
   "id": "a6a5e40d",
   "metadata": {},
   "outputs": [],
   "source": [
    "ClearLists()\n",
    "GetBachelorSeason(\"https://bachelor-nation.fandom.com//wiki/The_Bachelor_(Season_6)\")\n",
    "\n",
    "season6_df = {\n",
    "    \"Name\" : names,\n",
    "    \"Age\" : ages,\n",
    "    \"Hometown\" : hometowns,\n",
    "    \"Occupation\" : occupations,\n",
    "    \"ElimWeek\" : status,\n",
    "}\n",
    "s6_df = pd.DataFrame(season6_df)\n",
    "s6_df"
   ]
  },
  {
   "cell_type": "code",
   "execution_count": null,
   "id": "0be02dd0",
   "metadata": {},
   "outputs": [],
   "source": [
    "ClearLists()\n",
    "GetBachelorSeason(\"https://bachelor-nation.fandom.com//wiki/The_Bachelor_(Season_7)\")\n",
    "ages = ages[1:]\n",
    "hometowns = hometowns[1:]\n",
    "occupations = occupations[1:]\n",
    "status = status[1:]\n",
    "\n",
    "season7_df = {\n",
    "    \"Name\" : names,\n",
    "    \"Age\" : ages,\n",
    "    \"Hometown\" : hometowns,\n",
    "    \"Occupation\" : occupations,\n",
    "    \"ElimWeek\" : status,\n",
    "    \"Season\" : 7\n",
    "}\n",
    "s7_df = pd.DataFrame(season7_df)\n",
    "s7_df"
   ]
  },
  {
   "cell_type": "code",
   "execution_count": null,
   "id": "8133d009",
   "metadata": {},
   "outputs": [],
   "source": [
    "aNames = []\n",
    "aAges= []\n",
    "aHomes = []\n",
    "aOcucupation = []\n",
    "aStatus = []\n",
    "aSeason = []\n",
    "\n",
    "for i in range(1, 3): \n",
    "    ClearLists()\n",
    "    GetBachelorSeasonWiki(f\"https://en.wikipedia.org/wiki/The_Bachelor_(Greek_TV_series)_season_{i}\")\n",
    "    \n",
    "    aNames.extend(names)\n",
    "    aAges.extend(ages)\n",
    "    aHomes.extend(hometowns)\n",
    "    aOcucupation.extend(occupations)\n",
    "    aStatus.extend(status)\n",
    "\n",
    "aAges = aAges[2:]\n",
    "aHomes = aHomes[2:]\n",
    "aOcucupation = aOcucupation[2:]\n",
    "aStatus = aStatus[2:]\n",
    "    \n",
    "greek_df = {\n",
    "    \"Name\" : aNames,\n",
    "    \"Age\" : aAges,\n",
    "    \"Hometown\" : aHomes,\n",
    "    \"Occupation\" : aOcucupation,\n",
    "    \"ElimWeek\" : aStatus,\n",
    "}\n",
    "\n",
    "g_df = pd.DataFrame(greek_df)\n",
    "g_df"
   ]
  },
  {
   "cell_type": "code",
   "execution_count": null,
   "id": "5acf2477",
   "metadata": {},
   "outputs": [],
   "source": [
    "cNames = []\n",
    "cAges= []\n",
    "cHomes = []\n",
    "cOcucupation = []\n",
    "cStatus = []\n",
    "cSeason = []\n",
    "\n",
    "for i in range(0, 4): \n",
    "    ClearLists()\n",
    "    GetBachelorSeasonWiki(f\"https://en.wikipedia.org/wiki/The_Bachelor_Canada_season_{i}\")\n",
    "    \n",
    "    cNames.extend(names)\n",
    "    cAges.extend(ages)\n",
    "    cHomes.extend(hometowns)\n",
    "    cOcucupation.extend(occupations)\n",
    "    cStatus.extend(status)\n",
    "    \n",
    "cAges = cAges[2:]\n",
    "cHomes = cHomes[2:]\n",
    "cOcucupation = cOcucupation[2:]\n",
    "cStatus = cStatus[2:]\n",
    "    \n",
    "canada_df = {\n",
    "    \"Name\" : cNames,\n",
    "    \"Age\" : cAges,\n",
    "    \"Hometown\" : cHomes,\n",
    "    \"Occupation\" : cOcucupation,\n",
    "    \"ElimWeek\" : cStatus,\n",
    "}\n",
    "\n",
    "c_df = pd.DataFrame(canada_df)\n",
    "c_df"
   ]
  },
  {
   "cell_type": "code",
   "execution_count": null,
   "id": "30f85907",
   "metadata": {},
   "outputs": [],
   "source": [
    "gNames = []\n",
    "gAges= []\n",
    "gHomes = []\n",
    "gOcucupation = []\n",
    "gStatus = []\n",
    "gSeason = []\n",
    "\n",
    "for i in range(1, 11): \n",
    "    ClearLists()\n",
    "    GetBachelorSeasonWiki(f\"https://en.wikipedia.org/wiki/The_Bachelors_(Australian_TV_series)_season_{i}\")\n",
    "    \n",
    "    gNames.extend(names)\n",
    "    gAges.extend(ages)\n",
    "    gHomes.extend(hometowns)\n",
    "    gOcucupation.extend(occupations)\n",
    "    gStatus.extend(status)\n",
    "    \n",
    "gAges = gAges[1:]\n",
    "gHomes = gHomes[1:]\n",
    "gOcucupation = gOcucupation[1:]\n",
    "gStatus = gStatus[1:]\n",
    "    \n",
    "australian_df = {\n",
    "    \"Name\" : gNames,\n",
    "    \"Age\" : gAges,\n",
    "    \"Hometown\" : gHomes,\n",
    "    \"Occupation\" : gOcucupation,\n",
    "    \"ElimWeek\" : gStatus,\n",
    "}\n",
    "\n",
    "Adf = pd.DataFrame(australian_df)\n",
    "Adf"
   ]
  },
  {
   "cell_type": "code",
   "execution_count": null,
   "id": "508438ca",
   "metadata": {},
   "outputs": [],
   "source": [
    "nzNames = []\n",
    "nzAges= []\n",
    "nzHomes = []\n",
    "nzOcucupation = []\n",
    "nzStatus = []\n",
    "nzSeason = []\n",
    "\n",
    "for i in range(1, 5): \n",
    "    ClearLists()\n",
    "    GetBachelorSeasonWiki(f\"https://en.wikipedia.org/wiki/The_Bachelor_New_Zealand_season_{i}\")\n",
    "    \n",
    "    nzNames.extend(names)\n",
    "    nzAges.extend(ages)\n",
    "    nzHomes.extend(hometowns)\n",
    "    nzOcucupation.extend(occupations)\n",
    "    nzStatus.extend(status)\n",
    "    \n",
    "nzAges = nzAges[3:]\n",
    "nzHomes = nzHomes[3:]\n",
    "nzOcucupation = nzOcucupation[3:]\n",
    "nzStatus = nzStatus[3:]\n",
    "    \n",
    "newZealand_df = {\n",
    "    \"Name\" : nzNames,\n",
    "    \"Age\" : nzAges,\n",
    "    \"Hometown\" : nzHomes,\n",
    "    \"Occupation\" : nzOcucupation,\n",
    "    \"ElimWeek\" : nzStatus,\n",
    "}\n",
    "\n",
    "nz_df = pd.DataFrame(newZealand_df)\n",
    "nz_df"
   ]
  },
  {
   "cell_type": "code",
   "execution_count": null,
   "id": "63acc722",
   "metadata": {},
   "outputs": [],
   "source": [
    "ClearLists()\n",
    "GetBachelorSeasonWiki(f\"https://en.wikipedia.org/wiki/The_Bachelor_(American_TV_series)_season_27\")\n",
    "    \n",
    "season27_df = {\n",
    "    \"Name\" : names,\n",
    "    \"Age\" : ages,\n",
    "    \"Hometown\" : hometowns,\n",
    "    \"Occupation\" : occupations,\n",
    "    \"ElimWeek\" : status,\n",
    "}\n",
    "\n",
    "s27_df = pd.DataFrame(season27_df)\n",
    "s27_df"
   ]
  },
  {
   "cell_type": "code",
   "execution_count": null,
   "id": "c3deedbe",
   "metadata": {},
   "outputs": [],
   "source": [
    "ClearLists()\n",
    "GetBachelorSeasonWiki(f\"https://en.wikipedia.org/wiki/The_Bachelor_(American_TV_series)_season_28\")\n",
    "    \n",
    "season28_df = {\n",
    "    \"Name\" : names,\n",
    "    \"Age\" : ages,\n",
    "    \"Hometown\" : hometowns,\n",
    "    \"Occupation\" : occupations,\n",
    "    \"ElimWeek\" : status,\n",
    "}\n",
    "\n",
    "s28_df = pd.DataFrame(season28_df)\n",
    "s28_df"
   ]
  },
  {
   "cell_type": "code",
   "execution_count": null,
   "id": "22a4c030",
   "metadata": {},
   "outputs": [],
   "source": [
    "ClearLists()\n",
    "GetBachelorSeasonWiki(f\"https://en.wikipedia.org/wiki/The_Bachelor_Winter_Games\", \"Elimination_table\")\n",
    "\n",
    "names = [\"Ashley Iaconetti\", \"Kevin Wendt\", \"Courtney Dober\", \"Lily McManus-Semchyshyn\", \"Dean Unglert\", \"Lesley Murphy\", \"Luke Pell\", \"Nastassia Stassi Yaramchuk\", \"Bibiana Julian\", \"Jordan Mauger\", \"Ally Thompson\", \"Josiah Graham\", \"Christian Rauch\", \"Clare Crawley\", \"Yuki Kimura\", \"Michael Garofola\", \"Ben Higgins\", \"Tiffany Scanlon\", \"Jenny Helenius\", \"Rebecca Carlson\", \"Benoit Beauséjour-Savard\", \"Eric Bigger\", \"Jamey Kocan\", \"Laura Blair\", \"Lauren Griffin\"]\n",
    "\n",
    "winter_df = {\n",
    "    \"Name\" : names,\n",
    "    \"Age\" : ages,\n",
    "    \"Hometown\" : hometowns,\n",
    "    \"Occupation\" : occupations,\n",
    "    \"ElimWeek\" : status,\n",
    "}\n",
    "\n",
    "\n",
    "W_df = pd.DataFrame(winter_df)\n",
    "W_df"
   ]
  },
  {
   "cell_type": "code",
   "execution_count": null,
   "id": "b34418a0",
   "metadata": {},
   "outputs": [],
   "source": [
    "ClearLists()\n",
    "GetBachelorSeasonWiki(f\"https://en.wikipedia.org/wiki/Bachelor_Pad\", \"The_game\", \"h3\")\n",
    "\n",
    "occupations =occupations[1:]\n",
    "ages = ages[1:]\n",
    "hometowns = hometowns[1:]\n",
    "status = status[1:]\n",
    "\n",
    "\n",
    "brazil_df = {\n",
    "    \"Name\" : names,\n",
    "    \"Age\" : ages,\n",
    "    \"Hometown\" : hometowns,\n",
    "    \"Occupation\" : occupations,\n",
    "    \"ElimWeek\" : status,\n",
    "}\n",
    "\n",
    "\n",
    "ba_df = pd.DataFrame(brazil_df)\n",
    "ba_df"
   ]
  },
  {
   "cell_type": "code",
   "execution_count": null,
   "id": "512ba4af",
   "metadata": {},
   "outputs": [],
   "source": [
    "ClearLists()\n",
    "GetBachelorSeasonWiki(f\"https://no.wikipedia.org/wiki/Ungkaren\", \"Deltakere_2\", \"h3\", \"Deltakere\")\n",
    "\n",
    "ungkaren_df = {\n",
    "    \"Name\" : names,\n",
    "    \"Age\" : ages,\n",
    "    \"Hometown\" : hometowns,\n",
    "    \"Occupation\" : occupations,\n",
    "    \"ElimWeek\" : status,\n",
    "}\n",
    "\n",
    "un_df = pd.DataFrame(ungkaren_df)\n",
    "un_df = un_df.iloc[2:]\n",
    "un_df"
   ]
  },
  {
   "cell_type": "code",
   "execution_count": null,
   "id": "7a9bd087",
   "metadata": {},
   "outputs": [],
   "source": [
    "ClearLists()\n",
    "GetBachelorSeasonWiki(f\"https://en.wikipedia.org/wiki/The_Bachelor_(Brazilian_TV_series)\", \"Call-out_order\")\n",
    "\n",
    "occupations =occupations[1:]\n",
    "ages = ages[1:]\n",
    "hometowns = hometowns[1:]\n",
    "status = status[1:]\n",
    "\n",
    "\n",
    "bachelorPad_df = {\n",
    "    \"Name\" : names,\n",
    "    \"Age\" : ages,\n",
    "    \"Hometown\" : hometowns,\n",
    "    \"Occupation\" : occupations,\n",
    "    \"ElimWeek\" : status,\n",
    "}\n",
    "\n",
    "\n",
    "BP_df = pd.DataFrame(bachelorPad_df)\n",
    "BP_df"
   ]
  },
  {
   "cell_type": "code",
   "execution_count": null,
   "id": "885aba0d",
   "metadata": {},
   "outputs": [],
   "source": [
    "df = df.drop('Age Diff', axis=1)\n",
    "df = df.drop('Function', axis=1)\n",
    "df = df.drop('City', axis=1)\n",
    "df = df.drop('State', axis=1)\n",
    "df = df.drop('Region', axis=1)\n",
    "df = df.drop('First_Impression_Rose', axis=1)\n",
    "df = df.drop('Hair Color', axis=1)\n",
    "df = df.drop('Is Blonde', axis=1)\n",
    "df = df.drop('Winner', axis=1)\n",
    "df = df.drop('Height', axis=1)\n",
    "df = df.drop('Season', axis=1)"
   ]
  },
  {
   "cell_type": "code",
   "execution_count": null,
   "id": "edfcac4b",
   "metadata": {},
   "outputs": [],
   "source": [
    "df"
   ]
  },
  {
   "cell_type": "code",
   "execution_count": null,
   "id": "ed1443e0",
   "metadata": {},
   "outputs": [],
   "source": [
    "dfs = [df, s27_df, s28_df, W_df, nz_df, g_df, c_df, Adf, s7_df, s6_df, s4_df, s3_df, BP_df, ba_df, un_df]\n",
    "merged_df = pd.concat(dfs, ignore_index=True)"
   ]
  },
  {
   "cell_type": "code",
   "execution_count": null,
   "id": "06187939",
   "metadata": {},
   "outputs": [],
   "source": [
    "merged_df.info()"
   ]
  },
  {
   "cell_type": "markdown",
   "id": "880ff05f",
   "metadata": {},
   "source": [
    "### 2. Training Your Model\n",
    "In the cell seen below, write the code you need to train a linear regression model. Make sure you display the equation of the plane that best fits your chosen data at the end of your program. \n",
    "\n",
    "*Note, level 5 work trains a model using only the standard Python library and Pandas. A level 5 model is trained with at least two features, where one of the features begins as a categorical value (e.g. occupation, hometown, etc.). A level 4 uses external libraries like scikit or numpy.*"
   ]
  },
  {
   "cell_type": "code",
   "execution_count": null,
   "id": "a87a9144",
   "metadata": {},
   "outputs": [],
   "source": [
    "merged_df.replace([np.inf, -np.inf], np.nan, inplace=True)\n",
    "merged_df = df.dropna()\n",
    "\n",
    "merged_df.info()\n",
    "\n",
    "merged_df[merged_df.select_dtypes(np.float32).columns] = merged_df.select_dtypes(np.float32).astype(np.int32)\n",
    "merged_df[merged_df.select_dtypes(np.int64).columns] = merged_df.select_dtypes(np.int64).astype(np.int32)"
   ]
  },
  {
   "cell_type": "code",
   "execution_count": null,
   "id": "cb132b8a",
   "metadata": {},
   "outputs": [],
   "source": [
    "X = merged_df[['Age']]\n",
    "y = merged_df['ElimWeek']\n",
    "\n",
    "X_train, X_test, y_train, y_test = train_test_split(X, y, test_size=0.33, random_state=42)\n",
    "\n",
    "regr = linear_model.LinearRegression()\n",
    "regr.fit(X_train, y_train)"
   ]
  },
  {
   "cell_type": "code",
   "execution_count": null,
   "id": "25a9805c",
   "metadata": {},
   "outputs": [],
   "source": [
    "slope = regr.coef_[0]\n",
    "intercept = regr.intercept_\n",
    "print(slope, intercept)"
   ]
  },
  {
   "cell_type": "markdown",
   "id": "cfb2b903",
   "metadata": {},
   "source": [
    "### 3. Testing Your Model\n",
    "In the cell seen below, write the code you need to test your linear regression model. \n",
    "\n",
    "*Note, a model is considered a level 5 if it achieves at least 60% prediction accuracy or achieves an RMSE of 2 weeks or less.*"
   ]
  },
  {
   "cell_type": "code",
   "execution_count": null,
   "id": "24f8b990",
   "metadata": {},
   "outputs": [],
   "source": [
    "predictions = regr.predict(X_test)\n",
    "predictions = [int(x) for x in predictions]"
   ]
  },
  {
   "cell_type": "code",
   "execution_count": null,
   "id": "1b2257c0",
   "metadata": {},
   "outputs": [],
   "source": [
    "y_test = list(y_test)"
   ]
  },
  {
   "cell_type": "code",
   "execution_count": null,
   "id": "a6567a0a",
   "metadata": {},
   "outputs": [],
   "source": [
    "count = 0\n",
    "for i in range(len(predictions)):\n",
    "    if predictions[i] == y_test[i]:\n",
    "        count = count + 1\n",
    "\n",
    "print(count/len(predictions))"
   ]
  },
  {
   "cell_type": "markdown",
   "id": "0ae196c0",
   "metadata": {},
   "source": [
    "I was curious how the graph looked, and there doesn't really seem to be a correlation between a contestants age and the week they're eliminated...maybe if instead of age I did age difference between the bachelor and the competitors we'd see a better correlation."
   ]
  },
  {
   "cell_type": "code",
   "execution_count": null,
   "id": "7549d62e",
   "metadata": {},
   "outputs": [],
   "source": [
    "sns.scatterplot(data=merged_df, x=\"Age\", y=\"ElimWeek\")"
   ]
  },
  {
   "cell_type": "code",
   "execution_count": null,
   "id": "b6a60f83",
   "metadata": {},
   "outputs": [],
   "source": [
    "def formPrediction(value : float) -> float:\n",
    "    return (-0.07619969084779048 * value) + 5.478743867777977"
   ]
  },
  {
   "cell_type": "code",
   "execution_count": null,
   "id": "094efeb4",
   "metadata": {},
   "outputs": [],
   "source": [
    "predictions = []\n",
    "for i in range(25, 33):\n",
    "    predictions.append(formPrediction(i))\n",
    "    \n",
    "predictions"
   ]
  },
  {
   "cell_type": "markdown",
   "id": "343eb3f7",
   "metadata": {},
   "source": [
    "### 4. Final Answer\n",
    "\n",
    "In the first cell seen below, state the name of your predicted winner. \n",
    "In the second cell seen below, justify your prediction using an evaluation technique like RMSE or percent accuracy."
   ]
  },
  {
   "cell_type": "markdown",
   "id": "25533722",
   "metadata": {},
   "source": [
    "#### State the name of your predicted winner here."
   ]
  },
  {
   "cell_type": "markdown",
   "id": "e29adde2",
   "metadata": {},
   "source": [
    "#### Justify your prediction here."
   ]
  },
  {
   "cell_type": "markdown",
   "id": "5e2628ea",
   "metadata": {},
   "source": [
    "#### Attempts to fix accuracy"
   ]
  },
  {
   "cell_type": "markdown",
   "id": "f637413e",
   "metadata": {},
   "source": [
    " - Changed the value of Winner. Was originally set to 0 which offset the graph a tad bit since the higher the week the better your score. Changed it to 10 and then after a bit of research set it to 6.\n",
    " \n",
    " - Factored in a \"quit\" number so those who decided to quit the competition got moved to week 0 hopefully preventing them from impeding the data even more."
   ]
  },
  {
   "cell_type": "code",
   "execution_count": null,
   "id": "8217bc9a",
   "metadata": {},
   "outputs": [],
   "source": []
  }
 ],
 "metadata": {
  "kernelspec": {
   "display_name": "Python 3 (ipykernel)",
   "language": "python",
   "name": "python3"
  },
  "language_info": {
   "codemirror_mode": {
    "name": "ipython",
    "version": 3
   },
   "file_extension": ".py",
   "mimetype": "text/x-python",
   "name": "python",
   "nbconvert_exporter": "python",
   "pygments_lexer": "ipython3",
   "version": "3.9.13"
  }
 },
 "nbformat": 4,
 "nbformat_minor": 5
}
